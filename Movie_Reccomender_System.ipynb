{
 "cells": [
  {
   "cell_type": "markdown",
   "id": "86e24f8b",
   "metadata": {},
   "source": [
    "# Turning on the Jupyter Auto-Completor"
   ]
  },
  {
   "cell_type": "code",
   "execution_count": 1,
   "id": "240872df",
   "metadata": {},
   "outputs": [],
   "source": [
    "%config Completer.use_jedi = False"
   ]
  },
  {
   "cell_type": "markdown",
   "id": "e29ad336",
   "metadata": {},
   "source": [
    "# Importing the required libraries"
   ]
  },
  {
   "cell_type": "code",
   "execution_count": 2,
   "id": "6d8fd503",
   "metadata": {},
   "outputs": [],
   "source": [
    "import numpy as np\n",
    "import pandas as pd\n",
    "from nltk.corpus import stopwords\n",
    "from sklearn.feature_extraction.text import CountVectorizer\n",
    "from nltk.stem.porter import PorterStemmer\n",
    "from sklearn.metrics.pairwise import cosine_similarity\n",
    "import pickle\n",
    "import warnings\n",
    "warnings.filterwarnings('ignore')"
   ]
  },
  {
   "cell_type": "markdown",
   "id": "f5aab8dc",
   "metadata": {},
   "source": [
    "# Getting the IMDbMovieDataset"
   ]
  },
  {
   "cell_type": "code",
   "execution_count": 3,
   "id": "11d74d51",
   "metadata": {},
   "outputs": [
    {
     "data": {
      "text/html": [
       "<div>\n",
       "<style scoped>\n",
       "    .dataframe tbody tr th:only-of-type {\n",
       "        vertical-align: middle;\n",
       "    }\n",
       "\n",
       "    .dataframe tbody tr th {\n",
       "        vertical-align: top;\n",
       "    }\n",
       "\n",
       "    .dataframe thead th {\n",
       "        text-align: right;\n",
       "    }\n",
       "</style>\n",
       "<table border=\"1\" class=\"dataframe\">\n",
       "  <thead>\n",
       "    <tr style=\"text-align: right;\">\n",
       "      <th></th>\n",
       "      <th>Movie ID</th>\n",
       "      <th>Movie Link</th>\n",
       "      <th>Movie Poster</th>\n",
       "      <th>Movie Name</th>\n",
       "      <th>Movie Year</th>\n",
       "      <th>Movie Genre</th>\n",
       "      <th>Movie Rating</th>\n",
       "      <th>Movie Description</th>\n",
       "      <th>Movie Director</th>\n",
       "      <th>Movie Actors</th>\n",
       "      <th>Movie Actors Image</th>\n",
       "    </tr>\n",
       "  </thead>\n",
       "  <tbody>\n",
       "    <tr>\n",
       "      <th>0</th>\n",
       "      <td>tt1375666</td>\n",
       "      <td>https://www.imdb.com//title/tt1375666/?ref_=ad...</td>\n",
       "      <td>https://m.media-amazon.com/images/M/MV5BYjZjOW...</td>\n",
       "      <td>Inception</td>\n",
       "      <td>2010</td>\n",
       "      <td>Action, Adventure, Sci-Fi</td>\n",
       "      <td>8.8</td>\n",
       "      <td>A thief who steals corporate secrets through t...</td>\n",
       "      <td>Christopher Nolan</td>\n",
       "      <td>['Leonardo DiCaprio', 'Joseph Gordon-Levitt', ...</td>\n",
       "      <td>['https://m.media-amazon.com/images/M/MV5BMjI0...</td>\n",
       "    </tr>\n",
       "    <tr>\n",
       "      <th>1</th>\n",
       "      <td>tt0816692</td>\n",
       "      <td>https://www.imdb.com//title/tt0816692/?ref_=ad...</td>\n",
       "      <td>https://m.media-amazon.com/images/M/MV5BZjdkOT...</td>\n",
       "      <td>Interstellar</td>\n",
       "      <td>2014</td>\n",
       "      <td>Adventure, Drama, Sci-Fi</td>\n",
       "      <td>8.6</td>\n",
       "      <td>A team of explorers travel through a wormhole ...</td>\n",
       "      <td>Christopher Nolan</td>\n",
       "      <td>['Matthew McConaughey', 'Anne Hathaway', 'Jess...</td>\n",
       "      <td>['https://m.media-amazon.com/images/M/MV5BMTg0...</td>\n",
       "    </tr>\n",
       "    <tr>\n",
       "      <th>2</th>\n",
       "      <td>tt1345836</td>\n",
       "      <td>https://www.imdb.com//title/tt1345836/?ref_=ad...</td>\n",
       "      <td>https://m.media-amazon.com/images/M/MV5BMTk4OD...</td>\n",
       "      <td>The Dark Knight Rises</td>\n",
       "      <td>2012</td>\n",
       "      <td>Action, Drama</td>\n",
       "      <td>8.4</td>\n",
       "      <td>Eight years after the Joker's reign of anarchy...</td>\n",
       "      <td>Christopher Nolan</td>\n",
       "      <td>['Christian Bale', 'Tom Hardy', 'Anne Hathaway...</td>\n",
       "      <td>['https://m.media-amazon.com/images/M/MV5BMTkx...</td>\n",
       "    </tr>\n",
       "    <tr>\n",
       "      <th>3</th>\n",
       "      <td>tt1853728</td>\n",
       "      <td>https://www.imdb.com//title/tt1853728/?ref_=ad...</td>\n",
       "      <td>https://m.media-amazon.com/images/M/MV5BMjIyNT...</td>\n",
       "      <td>Django Unchained</td>\n",
       "      <td>2012</td>\n",
       "      <td>Drama, Western</td>\n",
       "      <td>8.4</td>\n",
       "      <td>With the help of a German bounty-hunter, a fre...</td>\n",
       "      <td>Quentin Tarantino</td>\n",
       "      <td>['Jamie Foxx', 'Christoph Waltz', 'Leonardo Di...</td>\n",
       "      <td>['https://m.media-amazon.com/images/M/MV5BMTky...</td>\n",
       "    </tr>\n",
       "    <tr>\n",
       "      <th>4</th>\n",
       "      <td>tt0848228</td>\n",
       "      <td>https://www.imdb.com//title/tt0848228/?ref_=ad...</td>\n",
       "      <td>https://m.media-amazon.com/images/M/MV5BOTgxZG...</td>\n",
       "      <td>The Avengers</td>\n",
       "      <td>2012</td>\n",
       "      <td>Action, Adventure, Sci-Fi</td>\n",
       "      <td>8.0</td>\n",
       "      <td>Earth's mightiest heroes must come together an...</td>\n",
       "      <td>Joss Whedon</td>\n",
       "      <td>['Robert Downey Jr.', 'Chris Evans', 'Scarlett...</td>\n",
       "      <td>['https://m.media-amazon.com/images/M/MV5BNzg1...</td>\n",
       "    </tr>\n",
       "  </tbody>\n",
       "</table>\n",
       "</div>"
      ],
      "text/plain": [
       "    Movie ID                                         Movie Link  \\\n",
       "0  tt1375666  https://www.imdb.com//title/tt1375666/?ref_=ad...   \n",
       "1  tt0816692  https://www.imdb.com//title/tt0816692/?ref_=ad...   \n",
       "2  tt1345836  https://www.imdb.com//title/tt1345836/?ref_=ad...   \n",
       "3  tt1853728  https://www.imdb.com//title/tt1853728/?ref_=ad...   \n",
       "4  tt0848228  https://www.imdb.com//title/tt0848228/?ref_=ad...   \n",
       "\n",
       "                                        Movie Poster             Movie Name  \\\n",
       "0  https://m.media-amazon.com/images/M/MV5BYjZjOW...              Inception   \n",
       "1  https://m.media-amazon.com/images/M/MV5BZjdkOT...           Interstellar   \n",
       "2  https://m.media-amazon.com/images/M/MV5BMTk4OD...  The Dark Knight Rises   \n",
       "3  https://m.media-amazon.com/images/M/MV5BMjIyNT...       Django Unchained   \n",
       "4  https://m.media-amazon.com/images/M/MV5BOTgxZG...           The Avengers   \n",
       "\n",
       "   Movie Year                Movie Genre  Movie Rating  \\\n",
       "0        2010  Action, Adventure, Sci-Fi           8.8   \n",
       "1        2014   Adventure, Drama, Sci-Fi           8.6   \n",
       "2        2012              Action, Drama           8.4   \n",
       "3        2012             Drama, Western           8.4   \n",
       "4        2012  Action, Adventure, Sci-Fi           8.0   \n",
       "\n",
       "                                   Movie Description     Movie Director  \\\n",
       "0  A thief who steals corporate secrets through t...  Christopher Nolan   \n",
       "1  A team of explorers travel through a wormhole ...  Christopher Nolan   \n",
       "2  Eight years after the Joker's reign of anarchy...  Christopher Nolan   \n",
       "3  With the help of a German bounty-hunter, a fre...  Quentin Tarantino   \n",
       "4  Earth's mightiest heroes must come together an...        Joss Whedon   \n",
       "\n",
       "                                        Movie Actors  \\\n",
       "0  ['Leonardo DiCaprio', 'Joseph Gordon-Levitt', ...   \n",
       "1  ['Matthew McConaughey', 'Anne Hathaway', 'Jess...   \n",
       "2  ['Christian Bale', 'Tom Hardy', 'Anne Hathaway...   \n",
       "3  ['Jamie Foxx', 'Christoph Waltz', 'Leonardo Di...   \n",
       "4  ['Robert Downey Jr.', 'Chris Evans', 'Scarlett...   \n",
       "\n",
       "                                  Movie Actors Image  \n",
       "0  ['https://m.media-amazon.com/images/M/MV5BMjI0...  \n",
       "1  ['https://m.media-amazon.com/images/M/MV5BMTg0...  \n",
       "2  ['https://m.media-amazon.com/images/M/MV5BMTkx...  \n",
       "3  ['https://m.media-amazon.com/images/M/MV5BMTky...  \n",
       "4  ['https://m.media-amazon.com/images/M/MV5BNzg1...  "
      ]
     },
     "execution_count": 3,
     "metadata": {},
     "output_type": "execute_result"
    }
   ],
   "source": [
    "movies = pd.read_csv(\"Datasets/IMDBMovieDataset.csv\")\n",
    "movies.head()"
   ]
  },
  {
   "cell_type": "code",
   "execution_count": 4,
   "id": "ad466fd8",
   "metadata": {},
   "outputs": [
    {
     "name": "stdout",
     "output_type": "stream",
     "text": [
      "<class 'pandas.core.frame.DataFrame'>\n",
      "RangeIndex: 5070 entries, 0 to 5069\n",
      "Data columns (total 11 columns):\n",
      " #   Column              Non-Null Count  Dtype  \n",
      "---  ------              --------------  -----  \n",
      " 0   Movie ID            5070 non-null   object \n",
      " 1   Movie Link          5070 non-null   object \n",
      " 2   Movie Poster        5070 non-null   object \n",
      " 3   Movie Name          5070 non-null   object \n",
      " 4   Movie Year          5070 non-null   int64  \n",
      " 5   Movie Genre         5070 non-null   object \n",
      " 6   Movie Rating        5070 non-null   float64\n",
      " 7   Movie Description   5070 non-null   object \n",
      " 8   Movie Director      5070 non-null   object \n",
      " 9   Movie Actors        5070 non-null   object \n",
      " 10  Movie Actors Image  5070 non-null   object \n",
      "dtypes: float64(1), int64(1), object(9)\n",
      "memory usage: 435.8+ KB\n"
     ]
    }
   ],
   "source": [
    "movies.info()"
   ]
  },
  {
   "cell_type": "code",
   "execution_count": 5,
   "id": "e7f0c8b5",
   "metadata": {},
   "outputs": [
    {
     "data": {
      "text/html": [
       "<div>\n",
       "<style scoped>\n",
       "    .dataframe tbody tr th:only-of-type {\n",
       "        vertical-align: middle;\n",
       "    }\n",
       "\n",
       "    .dataframe tbody tr th {\n",
       "        vertical-align: top;\n",
       "    }\n",
       "\n",
       "    .dataframe thead th {\n",
       "        text-align: right;\n",
       "    }\n",
       "</style>\n",
       "<table border=\"1\" class=\"dataframe\">\n",
       "  <thead>\n",
       "    <tr style=\"text-align: right;\">\n",
       "      <th></th>\n",
       "      <th>Movie Year</th>\n",
       "      <th>Movie Rating</th>\n",
       "    </tr>\n",
       "  </thead>\n",
       "  <tbody>\n",
       "    <tr>\n",
       "      <th>count</th>\n",
       "      <td>5070.000000</td>\n",
       "      <td>5070.000000</td>\n",
       "    </tr>\n",
       "    <tr>\n",
       "      <th>mean</th>\n",
       "      <td>2015.341026</td>\n",
       "      <td>6.269270</td>\n",
       "    </tr>\n",
       "    <tr>\n",
       "      <th>std</th>\n",
       "      <td>3.492838</td>\n",
       "      <td>1.031823</td>\n",
       "    </tr>\n",
       "    <tr>\n",
       "      <th>min</th>\n",
       "      <td>1980.000000</td>\n",
       "      <td>1.100000</td>\n",
       "    </tr>\n",
       "    <tr>\n",
       "      <th>25%</th>\n",
       "      <td>2013.000000</td>\n",
       "      <td>5.700000</td>\n",
       "    </tr>\n",
       "    <tr>\n",
       "      <th>50%</th>\n",
       "      <td>2015.000000</td>\n",
       "      <td>6.300000</td>\n",
       "    </tr>\n",
       "    <tr>\n",
       "      <th>75%</th>\n",
       "      <td>2018.000000</td>\n",
       "      <td>7.000000</td>\n",
       "    </tr>\n",
       "    <tr>\n",
       "      <th>max</th>\n",
       "      <td>2022.000000</td>\n",
       "      <td>9.500000</td>\n",
       "    </tr>\n",
       "  </tbody>\n",
       "</table>\n",
       "</div>"
      ],
      "text/plain": [
       "        Movie Year  Movie Rating\n",
       "count  5070.000000   5070.000000\n",
       "mean   2015.341026      6.269270\n",
       "std       3.492838      1.031823\n",
       "min    1980.000000      1.100000\n",
       "25%    2013.000000      5.700000\n",
       "50%    2015.000000      6.300000\n",
       "75%    2018.000000      7.000000\n",
       "max    2022.000000      9.500000"
      ]
     },
     "execution_count": 5,
     "metadata": {},
     "output_type": "execute_result"
    }
   ],
   "source": [
    "movies.describe()"
   ]
  },
  {
   "cell_type": "code",
   "execution_count": 6,
   "id": "66fc1632",
   "metadata": {},
   "outputs": [
    {
     "data": {
      "text/plain": [
       "36"
      ]
     },
     "execution_count": 6,
     "metadata": {},
     "output_type": "execute_result"
    }
   ],
   "source": [
    "movies.duplicated().sum()"
   ]
  },
  {
   "cell_type": "code",
   "execution_count": 7,
   "id": "37275550",
   "metadata": {},
   "outputs": [],
   "source": [
    "movies.drop_duplicates(inplace=True)"
   ]
  },
  {
   "cell_type": "code",
   "execution_count": 8,
   "id": "b67fd7f8",
   "metadata": {},
   "outputs": [
    {
     "data": {
      "text/html": [
       "<div>\n",
       "<style scoped>\n",
       "    .dataframe tbody tr th:only-of-type {\n",
       "        vertical-align: middle;\n",
       "    }\n",
       "\n",
       "    .dataframe tbody tr th {\n",
       "        vertical-align: top;\n",
       "    }\n",
       "\n",
       "    .dataframe thead th {\n",
       "        text-align: right;\n",
       "    }\n",
       "</style>\n",
       "<table border=\"1\" class=\"dataframe\">\n",
       "  <thead>\n",
       "    <tr style=\"text-align: right;\">\n",
       "      <th></th>\n",
       "      <th>Movie ID</th>\n",
       "      <th>Movie Link</th>\n",
       "      <th>Movie Poster</th>\n",
       "      <th>Movie Name</th>\n",
       "      <th>Movie Year</th>\n",
       "      <th>Movie Genre</th>\n",
       "      <th>Movie Rating</th>\n",
       "      <th>Movie Description</th>\n",
       "      <th>Movie Director</th>\n",
       "      <th>Movie Actors</th>\n",
       "      <th>Movie Actors Image</th>\n",
       "    </tr>\n",
       "  </thead>\n",
       "  <tbody>\n",
       "    <tr>\n",
       "      <th>0</th>\n",
       "      <td>tt1375666</td>\n",
       "      <td>https://www.imdb.com//title/tt1375666/?ref_=ad...</td>\n",
       "      <td>https://m.media-amazon.com/images/M/MV5BYjZjOW...</td>\n",
       "      <td>Inception</td>\n",
       "      <td>2010</td>\n",
       "      <td>Action, Adventure, Sci-Fi</td>\n",
       "      <td>8.8</td>\n",
       "      <td>A thief who steals corporate secrets through t...</td>\n",
       "      <td>Christopher Nolan</td>\n",
       "      <td>['Leonardo DiCaprio', 'Joseph Gordon-Levitt', ...</td>\n",
       "      <td>['https://m.media-amazon.com/images/M/MV5BMjI0...</td>\n",
       "    </tr>\n",
       "    <tr>\n",
       "      <th>1</th>\n",
       "      <td>tt0816692</td>\n",
       "      <td>https://www.imdb.com//title/tt0816692/?ref_=ad...</td>\n",
       "      <td>https://m.media-amazon.com/images/M/MV5BZjdkOT...</td>\n",
       "      <td>Interstellar</td>\n",
       "      <td>2014</td>\n",
       "      <td>Adventure, Drama, Sci-Fi</td>\n",
       "      <td>8.6</td>\n",
       "      <td>A team of explorers travel through a wormhole ...</td>\n",
       "      <td>Christopher Nolan</td>\n",
       "      <td>['Matthew McConaughey', 'Anne Hathaway', 'Jess...</td>\n",
       "      <td>['https://m.media-amazon.com/images/M/MV5BMTg0...</td>\n",
       "    </tr>\n",
       "    <tr>\n",
       "      <th>2</th>\n",
       "      <td>tt1345836</td>\n",
       "      <td>https://www.imdb.com//title/tt1345836/?ref_=ad...</td>\n",
       "      <td>https://m.media-amazon.com/images/M/MV5BMTk4OD...</td>\n",
       "      <td>The Dark Knight Rises</td>\n",
       "      <td>2012</td>\n",
       "      <td>Action, Drama</td>\n",
       "      <td>8.4</td>\n",
       "      <td>Eight years after the Joker's reign of anarchy...</td>\n",
       "      <td>Christopher Nolan</td>\n",
       "      <td>['Christian Bale', 'Tom Hardy', 'Anne Hathaway...</td>\n",
       "      <td>['https://m.media-amazon.com/images/M/MV5BMTkx...</td>\n",
       "    </tr>\n",
       "    <tr>\n",
       "      <th>3</th>\n",
       "      <td>tt1853728</td>\n",
       "      <td>https://www.imdb.com//title/tt1853728/?ref_=ad...</td>\n",
       "      <td>https://m.media-amazon.com/images/M/MV5BMjIyNT...</td>\n",
       "      <td>Django Unchained</td>\n",
       "      <td>2012</td>\n",
       "      <td>Drama, Western</td>\n",
       "      <td>8.4</td>\n",
       "      <td>With the help of a German bounty-hunter, a fre...</td>\n",
       "      <td>Quentin Tarantino</td>\n",
       "      <td>['Jamie Foxx', 'Christoph Waltz', 'Leonardo Di...</td>\n",
       "      <td>['https://m.media-amazon.com/images/M/MV5BMTky...</td>\n",
       "    </tr>\n",
       "    <tr>\n",
       "      <th>4</th>\n",
       "      <td>tt0848228</td>\n",
       "      <td>https://www.imdb.com//title/tt0848228/?ref_=ad...</td>\n",
       "      <td>https://m.media-amazon.com/images/M/MV5BOTgxZG...</td>\n",
       "      <td>The Avengers</td>\n",
       "      <td>2012</td>\n",
       "      <td>Action, Adventure, Sci-Fi</td>\n",
       "      <td>8.0</td>\n",
       "      <td>Earth's mightiest heroes must come together an...</td>\n",
       "      <td>Joss Whedon</td>\n",
       "      <td>['Robert Downey Jr.', 'Chris Evans', 'Scarlett...</td>\n",
       "      <td>['https://m.media-amazon.com/images/M/MV5BNzg1...</td>\n",
       "    </tr>\n",
       "  </tbody>\n",
       "</table>\n",
       "</div>"
      ],
      "text/plain": [
       "    Movie ID                                         Movie Link  \\\n",
       "0  tt1375666  https://www.imdb.com//title/tt1375666/?ref_=ad...   \n",
       "1  tt0816692  https://www.imdb.com//title/tt0816692/?ref_=ad...   \n",
       "2  tt1345836  https://www.imdb.com//title/tt1345836/?ref_=ad...   \n",
       "3  tt1853728  https://www.imdb.com//title/tt1853728/?ref_=ad...   \n",
       "4  tt0848228  https://www.imdb.com//title/tt0848228/?ref_=ad...   \n",
       "\n",
       "                                        Movie Poster             Movie Name  \\\n",
       "0  https://m.media-amazon.com/images/M/MV5BYjZjOW...              Inception   \n",
       "1  https://m.media-amazon.com/images/M/MV5BZjdkOT...           Interstellar   \n",
       "2  https://m.media-amazon.com/images/M/MV5BMTk4OD...  The Dark Knight Rises   \n",
       "3  https://m.media-amazon.com/images/M/MV5BMjIyNT...       Django Unchained   \n",
       "4  https://m.media-amazon.com/images/M/MV5BOTgxZG...           The Avengers   \n",
       "\n",
       "   Movie Year                Movie Genre  Movie Rating  \\\n",
       "0        2010  Action, Adventure, Sci-Fi           8.8   \n",
       "1        2014   Adventure, Drama, Sci-Fi           8.6   \n",
       "2        2012              Action, Drama           8.4   \n",
       "3        2012             Drama, Western           8.4   \n",
       "4        2012  Action, Adventure, Sci-Fi           8.0   \n",
       "\n",
       "                                   Movie Description     Movie Director  \\\n",
       "0  A thief who steals corporate secrets through t...  Christopher Nolan   \n",
       "1  A team of explorers travel through a wormhole ...  Christopher Nolan   \n",
       "2  Eight years after the Joker's reign of anarchy...  Christopher Nolan   \n",
       "3  With the help of a German bounty-hunter, a fre...  Quentin Tarantino   \n",
       "4  Earth's mightiest heroes must come together an...        Joss Whedon   \n",
       "\n",
       "                                        Movie Actors  \\\n",
       "0  ['Leonardo DiCaprio', 'Joseph Gordon-Levitt', ...   \n",
       "1  ['Matthew McConaughey', 'Anne Hathaway', 'Jess...   \n",
       "2  ['Christian Bale', 'Tom Hardy', 'Anne Hathaway...   \n",
       "3  ['Jamie Foxx', 'Christoph Waltz', 'Leonardo Di...   \n",
       "4  ['Robert Downey Jr.', 'Chris Evans', 'Scarlett...   \n",
       "\n",
       "                                  Movie Actors Image  \n",
       "0  ['https://m.media-amazon.com/images/M/MV5BMjI0...  \n",
       "1  ['https://m.media-amazon.com/images/M/MV5BMTg0...  \n",
       "2  ['https://m.media-amazon.com/images/M/MV5BMTkx...  \n",
       "3  ['https://m.media-amazon.com/images/M/MV5BMTky...  \n",
       "4  ['https://m.media-amazon.com/images/M/MV5BNzg1...  "
      ]
     },
     "execution_count": 8,
     "metadata": {},
     "output_type": "execute_result"
    }
   ],
   "source": [
    "movies.head()"
   ]
  },
  {
   "cell_type": "code",
   "execution_count": 9,
   "id": "956572d2",
   "metadata": {},
   "outputs": [
    {
     "data": {
      "text/plain": [
       "0"
      ]
     },
     "execution_count": 9,
     "metadata": {},
     "output_type": "execute_result"
    }
   ],
   "source": [
    "movies.duplicated().sum()"
   ]
  },
  {
   "cell_type": "markdown",
   "id": "d08805a3",
   "metadata": {},
   "source": [
    "# Finding out which columns are important for Machine Learning Model"
   ]
  },
  {
   "cell_type": "markdown",
   "id": "310337f3",
   "metadata": {},
   "source": [
    "## Movie ID\n",
    "## Movie Name\n",
    "## Movie Genre\n",
    "## Movie Description\n",
    "## Movie Director\n",
    "## Movie Actors"
   ]
  },
  {
   "cell_type": "code",
   "execution_count": 10,
   "id": "d2187a29",
   "metadata": {},
   "outputs": [
    {
     "data": {
      "text/html": [
       "<div>\n",
       "<style scoped>\n",
       "    .dataframe tbody tr th:only-of-type {\n",
       "        vertical-align: middle;\n",
       "    }\n",
       "\n",
       "    .dataframe tbody tr th {\n",
       "        vertical-align: top;\n",
       "    }\n",
       "\n",
       "    .dataframe thead th {\n",
       "        text-align: right;\n",
       "    }\n",
       "</style>\n",
       "<table border=\"1\" class=\"dataframe\">\n",
       "  <thead>\n",
       "    <tr style=\"text-align: right;\">\n",
       "      <th></th>\n",
       "      <th>Movie ID</th>\n",
       "      <th>Movie Name</th>\n",
       "      <th>Movie Genre</th>\n",
       "      <th>Movie Description</th>\n",
       "      <th>Movie Director</th>\n",
       "      <th>Movie Actors</th>\n",
       "    </tr>\n",
       "  </thead>\n",
       "  <tbody>\n",
       "    <tr>\n",
       "      <th>0</th>\n",
       "      <td>tt1375666</td>\n",
       "      <td>Inception</td>\n",
       "      <td>Action, Adventure, Sci-Fi</td>\n",
       "      <td>A thief who steals corporate secrets through t...</td>\n",
       "      <td>Christopher Nolan</td>\n",
       "      <td>['Leonardo DiCaprio', 'Joseph Gordon-Levitt', ...</td>\n",
       "    </tr>\n",
       "    <tr>\n",
       "      <th>1</th>\n",
       "      <td>tt0816692</td>\n",
       "      <td>Interstellar</td>\n",
       "      <td>Adventure, Drama, Sci-Fi</td>\n",
       "      <td>A team of explorers travel through a wormhole ...</td>\n",
       "      <td>Christopher Nolan</td>\n",
       "      <td>['Matthew McConaughey', 'Anne Hathaway', 'Jess...</td>\n",
       "    </tr>\n",
       "    <tr>\n",
       "      <th>2</th>\n",
       "      <td>tt1345836</td>\n",
       "      <td>The Dark Knight Rises</td>\n",
       "      <td>Action, Drama</td>\n",
       "      <td>Eight years after the Joker's reign of anarchy...</td>\n",
       "      <td>Christopher Nolan</td>\n",
       "      <td>['Christian Bale', 'Tom Hardy', 'Anne Hathaway...</td>\n",
       "    </tr>\n",
       "    <tr>\n",
       "      <th>3</th>\n",
       "      <td>tt1853728</td>\n",
       "      <td>Django Unchained</td>\n",
       "      <td>Drama, Western</td>\n",
       "      <td>With the help of a German bounty-hunter, a fre...</td>\n",
       "      <td>Quentin Tarantino</td>\n",
       "      <td>['Jamie Foxx', 'Christoph Waltz', 'Leonardo Di...</td>\n",
       "    </tr>\n",
       "    <tr>\n",
       "      <th>4</th>\n",
       "      <td>tt0848228</td>\n",
       "      <td>The Avengers</td>\n",
       "      <td>Action, Adventure, Sci-Fi</td>\n",
       "      <td>Earth's mightiest heroes must come together an...</td>\n",
       "      <td>Joss Whedon</td>\n",
       "      <td>['Robert Downey Jr.', 'Chris Evans', 'Scarlett...</td>\n",
       "    </tr>\n",
       "    <tr>\n",
       "      <th>...</th>\n",
       "      <td>...</td>\n",
       "      <td>...</td>\n",
       "      <td>...</td>\n",
       "      <td>...</td>\n",
       "      <td>...</td>\n",
       "      <td>...</td>\n",
       "    </tr>\n",
       "    <tr>\n",
       "      <th>5065</th>\n",
       "      <td>tt1133985</td>\n",
       "      <td>Green Lantern</td>\n",
       "      <td>Action, Adventure, Sci-Fi</td>\n",
       "      <td>Reckless test pilot Hal Jordan is granted an a...</td>\n",
       "      <td>Martin Campbell</td>\n",
       "      <td>['Ryan Reynolds', 'Blake Lively', 'Peter Sarsg...</td>\n",
       "    </tr>\n",
       "    <tr>\n",
       "      <th>5066</th>\n",
       "      <td>tt0086393</td>\n",
       "      <td>Superman III</td>\n",
       "      <td>Action, Adventure, Comedy</td>\n",
       "      <td>Synthetic kryptonite laced with tar splits Sup...</td>\n",
       "      <td>Richard Lester</td>\n",
       "      <td>['Christopher Reeve', 'Richard Pryor', 'Margot...</td>\n",
       "    </tr>\n",
       "    <tr>\n",
       "      <th>5067</th>\n",
       "      <td>tt0348150</td>\n",
       "      <td>Superman Returns</td>\n",
       "      <td>Action, Adventure, Sci-Fi</td>\n",
       "      <td>Superman returns to Earth after spending five ...</td>\n",
       "      <td>Bryan Singer</td>\n",
       "      <td>['Brandon Routh', 'Kevin Spacey', 'Kate Boswor...</td>\n",
       "    </tr>\n",
       "    <tr>\n",
       "      <th>5068</th>\n",
       "      <td>tt0081573</td>\n",
       "      <td>Superman II</td>\n",
       "      <td>Action, Adventure, Sci-Fi</td>\n",
       "      <td>Superman agrees to sacrifice his powers to sta...</td>\n",
       "      <td>Richard Lester</td>\n",
       "      <td>['Gene Hackman', 'Christopher Reeve', 'Margot ...</td>\n",
       "    </tr>\n",
       "    <tr>\n",
       "      <th>5069</th>\n",
       "      <td>tt0839995</td>\n",
       "      <td>Superman II: The Richard Donner Cut</td>\n",
       "      <td>Action, Adventure, Romance</td>\n",
       "      <td>Superman agrees to sacrifice his powers to sta...</td>\n",
       "      <td>Richard Donner</td>\n",
       "      <td>['Gene Hackman', 'Christopher Reeve', 'Marlon ...</td>\n",
       "    </tr>\n",
       "  </tbody>\n",
       "</table>\n",
       "<p>5034 rows × 6 columns</p>\n",
       "</div>"
      ],
      "text/plain": [
       "       Movie ID                           Movie Name  \\\n",
       "0     tt1375666                            Inception   \n",
       "1     tt0816692                         Interstellar   \n",
       "2     tt1345836                The Dark Knight Rises   \n",
       "3     tt1853728                     Django Unchained   \n",
       "4     tt0848228                         The Avengers   \n",
       "...         ...                                  ...   \n",
       "5065  tt1133985                        Green Lantern   \n",
       "5066  tt0086393                         Superman III   \n",
       "5067  tt0348150                     Superman Returns   \n",
       "5068  tt0081573                          Superman II   \n",
       "5069  tt0839995  Superman II: The Richard Donner Cut   \n",
       "\n",
       "                     Movie Genre  \\\n",
       "0      Action, Adventure, Sci-Fi   \n",
       "1       Adventure, Drama, Sci-Fi   \n",
       "2                  Action, Drama   \n",
       "3                 Drama, Western   \n",
       "4      Action, Adventure, Sci-Fi   \n",
       "...                          ...   \n",
       "5065   Action, Adventure, Sci-Fi   \n",
       "5066   Action, Adventure, Comedy   \n",
       "5067   Action, Adventure, Sci-Fi   \n",
       "5068   Action, Adventure, Sci-Fi   \n",
       "5069  Action, Adventure, Romance   \n",
       "\n",
       "                                      Movie Description     Movie Director  \\\n",
       "0     A thief who steals corporate secrets through t...  Christopher Nolan   \n",
       "1     A team of explorers travel through a wormhole ...  Christopher Nolan   \n",
       "2     Eight years after the Joker's reign of anarchy...  Christopher Nolan   \n",
       "3     With the help of a German bounty-hunter, a fre...  Quentin Tarantino   \n",
       "4     Earth's mightiest heroes must come together an...        Joss Whedon   \n",
       "...                                                 ...                ...   \n",
       "5065  Reckless test pilot Hal Jordan is granted an a...    Martin Campbell   \n",
       "5066  Synthetic kryptonite laced with tar splits Sup...     Richard Lester   \n",
       "5067  Superman returns to Earth after spending five ...       Bryan Singer   \n",
       "5068  Superman agrees to sacrifice his powers to sta...     Richard Lester   \n",
       "5069  Superman agrees to sacrifice his powers to sta...     Richard Donner   \n",
       "\n",
       "                                           Movie Actors  \n",
       "0     ['Leonardo DiCaprio', 'Joseph Gordon-Levitt', ...  \n",
       "1     ['Matthew McConaughey', 'Anne Hathaway', 'Jess...  \n",
       "2     ['Christian Bale', 'Tom Hardy', 'Anne Hathaway...  \n",
       "3     ['Jamie Foxx', 'Christoph Waltz', 'Leonardo Di...  \n",
       "4     ['Robert Downey Jr.', 'Chris Evans', 'Scarlett...  \n",
       "...                                                 ...  \n",
       "5065  ['Ryan Reynolds', 'Blake Lively', 'Peter Sarsg...  \n",
       "5066  ['Christopher Reeve', 'Richard Pryor', 'Margot...  \n",
       "5067  ['Brandon Routh', 'Kevin Spacey', 'Kate Boswor...  \n",
       "5068  ['Gene Hackman', 'Christopher Reeve', 'Margot ...  \n",
       "5069  ['Gene Hackman', 'Christopher Reeve', 'Marlon ...  \n",
       "\n",
       "[5034 rows x 6 columns]"
      ]
     },
     "execution_count": 10,
     "metadata": {},
     "output_type": "execute_result"
    }
   ],
   "source": [
    "movies_df = movies[['Movie ID', 'Movie Name', 'Movie Genre', 'Movie Description', 'Movie Director', 'Movie Actors']]\n",
    "movies_df"
   ]
  },
  {
   "cell_type": "markdown",
   "id": "f6506ace",
   "metadata": {},
   "source": [
    "# Performing the Data Preprocessing"
   ]
  },
  {
   "cell_type": "code",
   "execution_count": 11,
   "id": "9c42a882",
   "metadata": {},
   "outputs": [
    {
     "data": {
      "text/plain": [
       "Movie ID                                                     tt1375666\n",
       "Movie Name                                                   Inception\n",
       "Movie Genre                                  Action, Adventure, Sci-Fi\n",
       "Movie Description    A thief who steals corporate secrets through t...\n",
       "Movie Director                                       Christopher Nolan\n",
       "Movie Actors         ['Leonardo DiCaprio', 'Joseph Gordon-Levitt', ...\n",
       "Name: 0, dtype: object"
      ]
     },
     "execution_count": 11,
     "metadata": {},
     "output_type": "execute_result"
    }
   ],
   "source": [
    "movies_df.iloc[0]"
   ]
  },
  {
   "cell_type": "code",
   "execution_count": 12,
   "id": "e24e0f2b",
   "metadata": {},
   "outputs": [
    {
     "data": {
      "text/plain": [
       "'Action, Adventure, Sci-Fi'"
      ]
     },
     "execution_count": 12,
     "metadata": {},
     "output_type": "execute_result"
    }
   ],
   "source": [
    "movies['Movie Genre'][0]"
   ]
  },
  {
   "cell_type": "code",
   "execution_count": 13,
   "id": "dba17d9b",
   "metadata": {},
   "outputs": [
    {
     "data": {
      "text/plain": [
       "0       [A, thief, who, steals, corporate, secrets, th...\n",
       "1       [A, team, of, explorers, travel, through, a, w...\n",
       "2       [Eight, years, after, the, Joker's, reign, of,...\n",
       "3       [With, the, help, of, a, German, bounty-hunter...\n",
       "4       [Earth's, mightiest, heroes, must, come, toget...\n",
       "                              ...                        \n",
       "5065    [Reckless, test, pilot, Hal, Jordan, is, grant...\n",
       "5066    [Synthetic, kryptonite, laced, with, tar, spli...\n",
       "5067    [Superman, returns, to, Earth, after, spending...\n",
       "5068    [Superman, agrees, to, sacrifice, his, powers,...\n",
       "5069    [Superman, agrees, to, sacrifice, his, powers,...\n",
       "Name: Movie Description, Length: 5034, dtype: object"
      ]
     },
     "execution_count": 13,
     "metadata": {},
     "output_type": "execute_result"
    }
   ],
   "source": [
    "movies_df['Movie Description'].apply(lambda x:x.split())"
   ]
  },
  {
   "cell_type": "code",
   "execution_count": 14,
   "id": "b8d6fac3",
   "metadata": {},
   "outputs": [],
   "source": [
    "movies_df['Movie Description'] = movies_df['Movie Description'].apply(lambda x:x.split())"
   ]
  },
  {
   "cell_type": "code",
   "execution_count": 15,
   "id": "915c5539",
   "metadata": {},
   "outputs": [],
   "source": [
    "movies_df['Movie Genre'] = movies_df['Movie Genre'].apply(lambda x:x.split())"
   ]
  },
  {
   "cell_type": "code",
   "execution_count": 16,
   "id": "6688a193",
   "metadata": {},
   "outputs": [
    {
     "data": {
      "text/html": [
       "<div>\n",
       "<style scoped>\n",
       "    .dataframe tbody tr th:only-of-type {\n",
       "        vertical-align: middle;\n",
       "    }\n",
       "\n",
       "    .dataframe tbody tr th {\n",
       "        vertical-align: top;\n",
       "    }\n",
       "\n",
       "    .dataframe thead th {\n",
       "        text-align: right;\n",
       "    }\n",
       "</style>\n",
       "<table border=\"1\" class=\"dataframe\">\n",
       "  <thead>\n",
       "    <tr style=\"text-align: right;\">\n",
       "      <th></th>\n",
       "      <th>Movie ID</th>\n",
       "      <th>Movie Name</th>\n",
       "      <th>Movie Genre</th>\n",
       "      <th>Movie Description</th>\n",
       "      <th>Movie Director</th>\n",
       "      <th>Movie Actors</th>\n",
       "    </tr>\n",
       "  </thead>\n",
       "  <tbody>\n",
       "    <tr>\n",
       "      <th>0</th>\n",
       "      <td>tt1375666</td>\n",
       "      <td>Inception</td>\n",
       "      <td>[Action,, Adventure,, Sci-Fi]</td>\n",
       "      <td>[A, thief, who, steals, corporate, secrets, th...</td>\n",
       "      <td>Christopher Nolan</td>\n",
       "      <td>['Leonardo DiCaprio', 'Joseph Gordon-Levitt', ...</td>\n",
       "    </tr>\n",
       "    <tr>\n",
       "      <th>1</th>\n",
       "      <td>tt0816692</td>\n",
       "      <td>Interstellar</td>\n",
       "      <td>[Adventure,, Drama,, Sci-Fi]</td>\n",
       "      <td>[A, team, of, explorers, travel, through, a, w...</td>\n",
       "      <td>Christopher Nolan</td>\n",
       "      <td>['Matthew McConaughey', 'Anne Hathaway', 'Jess...</td>\n",
       "    </tr>\n",
       "    <tr>\n",
       "      <th>2</th>\n",
       "      <td>tt1345836</td>\n",
       "      <td>The Dark Knight Rises</td>\n",
       "      <td>[Action,, Drama]</td>\n",
       "      <td>[Eight, years, after, the, Joker's, reign, of,...</td>\n",
       "      <td>Christopher Nolan</td>\n",
       "      <td>['Christian Bale', 'Tom Hardy', 'Anne Hathaway...</td>\n",
       "    </tr>\n",
       "    <tr>\n",
       "      <th>3</th>\n",
       "      <td>tt1853728</td>\n",
       "      <td>Django Unchained</td>\n",
       "      <td>[Drama,, Western]</td>\n",
       "      <td>[With, the, help, of, a, German, bounty-hunter...</td>\n",
       "      <td>Quentin Tarantino</td>\n",
       "      <td>['Jamie Foxx', 'Christoph Waltz', 'Leonardo Di...</td>\n",
       "    </tr>\n",
       "    <tr>\n",
       "      <th>4</th>\n",
       "      <td>tt0848228</td>\n",
       "      <td>The Avengers</td>\n",
       "      <td>[Action,, Adventure,, Sci-Fi]</td>\n",
       "      <td>[Earth's, mightiest, heroes, must, come, toget...</td>\n",
       "      <td>Joss Whedon</td>\n",
       "      <td>['Robert Downey Jr.', 'Chris Evans', 'Scarlett...</td>\n",
       "    </tr>\n",
       "  </tbody>\n",
       "</table>\n",
       "</div>"
      ],
      "text/plain": [
       "    Movie ID             Movie Name                    Movie Genre  \\\n",
       "0  tt1375666              Inception  [Action,, Adventure,, Sci-Fi]   \n",
       "1  tt0816692           Interstellar   [Adventure,, Drama,, Sci-Fi]   \n",
       "2  tt1345836  The Dark Knight Rises               [Action,, Drama]   \n",
       "3  tt1853728       Django Unchained              [Drama,, Western]   \n",
       "4  tt0848228           The Avengers  [Action,, Adventure,, Sci-Fi]   \n",
       "\n",
       "                                   Movie Description     Movie Director  \\\n",
       "0  [A, thief, who, steals, corporate, secrets, th...  Christopher Nolan   \n",
       "1  [A, team, of, explorers, travel, through, a, w...  Christopher Nolan   \n",
       "2  [Eight, years, after, the, Joker's, reign, of,...  Christopher Nolan   \n",
       "3  [With, the, help, of, a, German, bounty-hunter...  Quentin Tarantino   \n",
       "4  [Earth's, mightiest, heroes, must, come, toget...        Joss Whedon   \n",
       "\n",
       "                                        Movie Actors  \n",
       "0  ['Leonardo DiCaprio', 'Joseph Gordon-Levitt', ...  \n",
       "1  ['Matthew McConaughey', 'Anne Hathaway', 'Jess...  \n",
       "2  ['Christian Bale', 'Tom Hardy', 'Anne Hathaway...  \n",
       "3  ['Jamie Foxx', 'Christoph Waltz', 'Leonardo Di...  \n",
       "4  ['Robert Downey Jr.', 'Chris Evans', 'Scarlett...  "
      ]
     },
     "execution_count": 16,
     "metadata": {},
     "output_type": "execute_result"
    }
   ],
   "source": [
    "movies_df.head()"
   ]
  },
  {
   "cell_type": "code",
   "execution_count": 17,
   "id": "c95fa8ec",
   "metadata": {},
   "outputs": [
    {
     "data": {
      "text/plain": [
       "0        [Action,, Adventure,, Sci-Fi]\n",
       "1         [Adventure,, Drama,, Sci-Fi]\n",
       "2                     [Action,, Drama]\n",
       "3                    [Drama,, Western]\n",
       "4        [Action,, Adventure,, Sci-Fi]\n",
       "                     ...              \n",
       "5065     [Action,, Adventure,, Sci-Fi]\n",
       "5066     [Action,, Adventure,, Comedy]\n",
       "5067     [Action,, Adventure,, Sci-Fi]\n",
       "5068     [Action,, Adventure,, Sci-Fi]\n",
       "5069    [Action,, Adventure,, Romance]\n",
       "Name: Movie Genre, Length: 5034, dtype: object"
      ]
     },
     "execution_count": 17,
     "metadata": {},
     "output_type": "execute_result"
    }
   ],
   "source": [
    "movies_df['Movie Genre'].apply(lambda x:[i.replace(\" \", \"\") for i in x])"
   ]
  },
  {
   "cell_type": "code",
   "execution_count": 18,
   "id": "fa1bd64c",
   "metadata": {},
   "outputs": [
    {
     "data": {
      "text/plain": [
       "0        [Action, Adventure, Sci-Fi]\n",
       "1         [Adventure, Drama, Sci-Fi]\n",
       "2                    [Action, Drama]\n",
       "3                   [Drama, Western]\n",
       "4        [Action, Adventure, Sci-Fi]\n",
       "                    ...             \n",
       "5065     [Action, Adventure, Sci-Fi]\n",
       "5066     [Action, Adventure, Comedy]\n",
       "5067     [Action, Adventure, Sci-Fi]\n",
       "5068     [Action, Adventure, Sci-Fi]\n",
       "5069    [Action, Adventure, Romance]\n",
       "Name: Movie Genre, Length: 5034, dtype: object"
      ]
     },
     "execution_count": 18,
     "metadata": {},
     "output_type": "execute_result"
    }
   ],
   "source": [
    "movies_df['Movie Genre'].apply(lambda x:[i.replace(\",\", \"\") for i in x])"
   ]
  },
  {
   "cell_type": "code",
   "execution_count": 19,
   "id": "5b840706",
   "metadata": {},
   "outputs": [],
   "source": [
    "movies_df['Movie Genre'] = movies_df['Movie Genre'].apply(lambda x:[i.replace(\" \", \"\") for i in x])"
   ]
  },
  {
   "cell_type": "code",
   "execution_count": 20,
   "id": "ce0f31e4",
   "metadata": {},
   "outputs": [],
   "source": [
    "movies_df['Movie Genre'] = movies_df['Movie Genre'].apply(lambda x:[i.replace(\",\", \"\") for i in x])"
   ]
  },
  {
   "cell_type": "code",
   "execution_count": 21,
   "id": "e652e40a",
   "metadata": {},
   "outputs": [
    {
     "data": {
      "text/html": [
       "<div>\n",
       "<style scoped>\n",
       "    .dataframe tbody tr th:only-of-type {\n",
       "        vertical-align: middle;\n",
       "    }\n",
       "\n",
       "    .dataframe tbody tr th {\n",
       "        vertical-align: top;\n",
       "    }\n",
       "\n",
       "    .dataframe thead th {\n",
       "        text-align: right;\n",
       "    }\n",
       "</style>\n",
       "<table border=\"1\" class=\"dataframe\">\n",
       "  <thead>\n",
       "    <tr style=\"text-align: right;\">\n",
       "      <th></th>\n",
       "      <th>Movie ID</th>\n",
       "      <th>Movie Name</th>\n",
       "      <th>Movie Genre</th>\n",
       "      <th>Movie Description</th>\n",
       "      <th>Movie Director</th>\n",
       "      <th>Movie Actors</th>\n",
       "    </tr>\n",
       "  </thead>\n",
       "  <tbody>\n",
       "    <tr>\n",
       "      <th>0</th>\n",
       "      <td>tt1375666</td>\n",
       "      <td>Inception</td>\n",
       "      <td>[Action, Adventure, Sci-Fi]</td>\n",
       "      <td>[A, thief, who, steals, corporate, secrets, th...</td>\n",
       "      <td>Christopher Nolan</td>\n",
       "      <td>['Leonardo DiCaprio', 'Joseph Gordon-Levitt', ...</td>\n",
       "    </tr>\n",
       "    <tr>\n",
       "      <th>1</th>\n",
       "      <td>tt0816692</td>\n",
       "      <td>Interstellar</td>\n",
       "      <td>[Adventure, Drama, Sci-Fi]</td>\n",
       "      <td>[A, team, of, explorers, travel, through, a, w...</td>\n",
       "      <td>Christopher Nolan</td>\n",
       "      <td>['Matthew McConaughey', 'Anne Hathaway', 'Jess...</td>\n",
       "    </tr>\n",
       "    <tr>\n",
       "      <th>2</th>\n",
       "      <td>tt1345836</td>\n",
       "      <td>The Dark Knight Rises</td>\n",
       "      <td>[Action, Drama]</td>\n",
       "      <td>[Eight, years, after, the, Joker's, reign, of,...</td>\n",
       "      <td>Christopher Nolan</td>\n",
       "      <td>['Christian Bale', 'Tom Hardy', 'Anne Hathaway...</td>\n",
       "    </tr>\n",
       "    <tr>\n",
       "      <th>3</th>\n",
       "      <td>tt1853728</td>\n",
       "      <td>Django Unchained</td>\n",
       "      <td>[Drama, Western]</td>\n",
       "      <td>[With, the, help, of, a, German, bounty-hunter...</td>\n",
       "      <td>Quentin Tarantino</td>\n",
       "      <td>['Jamie Foxx', 'Christoph Waltz', 'Leonardo Di...</td>\n",
       "    </tr>\n",
       "    <tr>\n",
       "      <th>4</th>\n",
       "      <td>tt0848228</td>\n",
       "      <td>The Avengers</td>\n",
       "      <td>[Action, Adventure, Sci-Fi]</td>\n",
       "      <td>[Earth's, mightiest, heroes, must, come, toget...</td>\n",
       "      <td>Joss Whedon</td>\n",
       "      <td>['Robert Downey Jr.', 'Chris Evans', 'Scarlett...</td>\n",
       "    </tr>\n",
       "  </tbody>\n",
       "</table>\n",
       "</div>"
      ],
      "text/plain": [
       "    Movie ID             Movie Name                  Movie Genre  \\\n",
       "0  tt1375666              Inception  [Action, Adventure, Sci-Fi]   \n",
       "1  tt0816692           Interstellar   [Adventure, Drama, Sci-Fi]   \n",
       "2  tt1345836  The Dark Knight Rises              [Action, Drama]   \n",
       "3  tt1853728       Django Unchained             [Drama, Western]   \n",
       "4  tt0848228           The Avengers  [Action, Adventure, Sci-Fi]   \n",
       "\n",
       "                                   Movie Description     Movie Director  \\\n",
       "0  [A, thief, who, steals, corporate, secrets, th...  Christopher Nolan   \n",
       "1  [A, team, of, explorers, travel, through, a, w...  Christopher Nolan   \n",
       "2  [Eight, years, after, the, Joker's, reign, of,...  Christopher Nolan   \n",
       "3  [With, the, help, of, a, German, bounty-hunter...  Quentin Tarantino   \n",
       "4  [Earth's, mightiest, heroes, must, come, toget...        Joss Whedon   \n",
       "\n",
       "                                        Movie Actors  \n",
       "0  ['Leonardo DiCaprio', 'Joseph Gordon-Levitt', ...  \n",
       "1  ['Matthew McConaughey', 'Anne Hathaway', 'Jess...  \n",
       "2  ['Christian Bale', 'Tom Hardy', 'Anne Hathaway...  \n",
       "3  ['Jamie Foxx', 'Christoph Waltz', 'Leonardo Di...  \n",
       "4  ['Robert Downey Jr.', 'Chris Evans', 'Scarlett...  "
      ]
     },
     "execution_count": 21,
     "metadata": {},
     "output_type": "execute_result"
    }
   ],
   "source": [
    "movies_df.head()"
   ]
  },
  {
   "cell_type": "code",
   "execution_count": 22,
   "id": "92b3896e",
   "metadata": {},
   "outputs": [],
   "source": [
    "def formatterA(text):\n",
    "    lst = list(text[2:-2].split(\"', '\"))\n",
    "    return lst"
   ]
  },
  {
   "cell_type": "code",
   "execution_count": 23,
   "id": "520c5d33",
   "metadata": {},
   "outputs": [
    {
     "data": {
      "text/plain": [
       "0       [Leonardo DiCaprio, Joseph Gordon-Levitt, Elli...\n",
       "1       [Matthew McConaughey, Anne Hathaway, Jessica C...\n",
       "2       [Christian Bale, Tom Hardy, Anne Hathaway, Gar...\n",
       "3       [Jamie Foxx, Christoph Waltz, Leonardo DiCapri...\n",
       "4       [Robert Downey Jr., Chris Evans, Scarlett Joha...\n",
       "                              ...                        \n",
       "5065    [Ryan Reynolds, Blake Lively, Peter Sarsgaard,...\n",
       "5066    [Christopher Reeve, Richard Pryor, Margot Kidd...\n",
       "5067    [Brandon Routh, Kevin Spacey, Kate Bosworth, J...\n",
       "5068    [Gene Hackman, Christopher Reeve, Margot Kidde...\n",
       "5069    [Gene Hackman, Christopher Reeve, Marlon Brand...\n",
       "Name: Movie Actors, Length: 5034, dtype: object"
      ]
     },
     "execution_count": 23,
     "metadata": {},
     "output_type": "execute_result"
    }
   ],
   "source": [
    "movies_df['Movie Actors'].apply(formatterA)"
   ]
  },
  {
   "cell_type": "code",
   "execution_count": 24,
   "id": "8f0ededf",
   "metadata": {},
   "outputs": [],
   "source": [
    "movies_df['Movie Actors'] = movies_df['Movie Actors'].apply(formatterA)"
   ]
  },
  {
   "cell_type": "code",
   "execution_count": 25,
   "id": "6ad1ecc3",
   "metadata": {},
   "outputs": [
    {
     "data": {
      "text/html": [
       "<div>\n",
       "<style scoped>\n",
       "    .dataframe tbody tr th:only-of-type {\n",
       "        vertical-align: middle;\n",
       "    }\n",
       "\n",
       "    .dataframe tbody tr th {\n",
       "        vertical-align: top;\n",
       "    }\n",
       "\n",
       "    .dataframe thead th {\n",
       "        text-align: right;\n",
       "    }\n",
       "</style>\n",
       "<table border=\"1\" class=\"dataframe\">\n",
       "  <thead>\n",
       "    <tr style=\"text-align: right;\">\n",
       "      <th></th>\n",
       "      <th>Movie ID</th>\n",
       "      <th>Movie Name</th>\n",
       "      <th>Movie Genre</th>\n",
       "      <th>Movie Description</th>\n",
       "      <th>Movie Director</th>\n",
       "      <th>Movie Actors</th>\n",
       "    </tr>\n",
       "  </thead>\n",
       "  <tbody>\n",
       "    <tr>\n",
       "      <th>0</th>\n",
       "      <td>tt1375666</td>\n",
       "      <td>Inception</td>\n",
       "      <td>[Action, Adventure, Sci-Fi]</td>\n",
       "      <td>[A, thief, who, steals, corporate, secrets, th...</td>\n",
       "      <td>Christopher Nolan</td>\n",
       "      <td>[Leonardo DiCaprio, Joseph Gordon-Levitt, Elli...</td>\n",
       "    </tr>\n",
       "    <tr>\n",
       "      <th>1</th>\n",
       "      <td>tt0816692</td>\n",
       "      <td>Interstellar</td>\n",
       "      <td>[Adventure, Drama, Sci-Fi]</td>\n",
       "      <td>[A, team, of, explorers, travel, through, a, w...</td>\n",
       "      <td>Christopher Nolan</td>\n",
       "      <td>[Matthew McConaughey, Anne Hathaway, Jessica C...</td>\n",
       "    </tr>\n",
       "    <tr>\n",
       "      <th>2</th>\n",
       "      <td>tt1345836</td>\n",
       "      <td>The Dark Knight Rises</td>\n",
       "      <td>[Action, Drama]</td>\n",
       "      <td>[Eight, years, after, the, Joker's, reign, of,...</td>\n",
       "      <td>Christopher Nolan</td>\n",
       "      <td>[Christian Bale, Tom Hardy, Anne Hathaway, Gar...</td>\n",
       "    </tr>\n",
       "    <tr>\n",
       "      <th>3</th>\n",
       "      <td>tt1853728</td>\n",
       "      <td>Django Unchained</td>\n",
       "      <td>[Drama, Western]</td>\n",
       "      <td>[With, the, help, of, a, German, bounty-hunter...</td>\n",
       "      <td>Quentin Tarantino</td>\n",
       "      <td>[Jamie Foxx, Christoph Waltz, Leonardo DiCapri...</td>\n",
       "    </tr>\n",
       "    <tr>\n",
       "      <th>4</th>\n",
       "      <td>tt0848228</td>\n",
       "      <td>The Avengers</td>\n",
       "      <td>[Action, Adventure, Sci-Fi]</td>\n",
       "      <td>[Earth's, mightiest, heroes, must, come, toget...</td>\n",
       "      <td>Joss Whedon</td>\n",
       "      <td>[Robert Downey Jr., Chris Evans, Scarlett Joha...</td>\n",
       "    </tr>\n",
       "  </tbody>\n",
       "</table>\n",
       "</div>"
      ],
      "text/plain": [
       "    Movie ID             Movie Name                  Movie Genre  \\\n",
       "0  tt1375666              Inception  [Action, Adventure, Sci-Fi]   \n",
       "1  tt0816692           Interstellar   [Adventure, Drama, Sci-Fi]   \n",
       "2  tt1345836  The Dark Knight Rises              [Action, Drama]   \n",
       "3  tt1853728       Django Unchained             [Drama, Western]   \n",
       "4  tt0848228           The Avengers  [Action, Adventure, Sci-Fi]   \n",
       "\n",
       "                                   Movie Description     Movie Director  \\\n",
       "0  [A, thief, who, steals, corporate, secrets, th...  Christopher Nolan   \n",
       "1  [A, team, of, explorers, travel, through, a, w...  Christopher Nolan   \n",
       "2  [Eight, years, after, the, Joker's, reign, of,...  Christopher Nolan   \n",
       "3  [With, the, help, of, a, German, bounty-hunter...  Quentin Tarantino   \n",
       "4  [Earth's, mightiest, heroes, must, come, toget...        Joss Whedon   \n",
       "\n",
       "                                        Movie Actors  \n",
       "0  [Leonardo DiCaprio, Joseph Gordon-Levitt, Elli...  \n",
       "1  [Matthew McConaughey, Anne Hathaway, Jessica C...  \n",
       "2  [Christian Bale, Tom Hardy, Anne Hathaway, Gar...  \n",
       "3  [Jamie Foxx, Christoph Waltz, Leonardo DiCapri...  \n",
       "4  [Robert Downey Jr., Chris Evans, Scarlett Joha...  "
      ]
     },
     "execution_count": 25,
     "metadata": {},
     "output_type": "execute_result"
    }
   ],
   "source": [
    "movies_df.head()"
   ]
  },
  {
   "cell_type": "code",
   "execution_count": 26,
   "id": "af38ed6e",
   "metadata": {},
   "outputs": [
    {
     "data": {
      "text/plain": [
       "0       [LeonardoDiCaprio, JosephGordon-Levitt, Elliot...\n",
       "1       [MatthewMcConaughey, AnneHathaway, JessicaChas...\n",
       "2       [ChristianBale, TomHardy, AnneHathaway, GaryOl...\n",
       "3       [JamieFoxx, ChristophWaltz, LeonardoDiCaprio, ...\n",
       "4       [RobertDowneyJr., ChrisEvans, ScarlettJohansso...\n",
       "                              ...                        \n",
       "5065    [RyanReynolds, BlakeLively, PeterSarsgaard, Ma...\n",
       "5066    [ChristopherReeve, RichardPryor, MargotKidder,...\n",
       "5067    [BrandonRouth, KevinSpacey, KateBosworth, Jame...\n",
       "5068    [GeneHackman, ChristopherReeve, MargotKidder, ...\n",
       "5069    [GeneHackman, ChristopherReeve, MarlonBrando, ...\n",
       "Name: Movie Actors, Length: 5034, dtype: object"
      ]
     },
     "execution_count": 26,
     "metadata": {},
     "output_type": "execute_result"
    }
   ],
   "source": [
    "movies_df['Movie Actors'].apply(lambda x:[i.replace(\" \", \"\") for i in x])"
   ]
  },
  {
   "cell_type": "code",
   "execution_count": 27,
   "id": "3fb3ce87",
   "metadata": {},
   "outputs": [
    {
     "data": {
      "text/html": [
       "<div>\n",
       "<style scoped>\n",
       "    .dataframe tbody tr th:only-of-type {\n",
       "        vertical-align: middle;\n",
       "    }\n",
       "\n",
       "    .dataframe tbody tr th {\n",
       "        vertical-align: top;\n",
       "    }\n",
       "\n",
       "    .dataframe thead th {\n",
       "        text-align: right;\n",
       "    }\n",
       "</style>\n",
       "<table border=\"1\" class=\"dataframe\">\n",
       "  <thead>\n",
       "    <tr style=\"text-align: right;\">\n",
       "      <th></th>\n",
       "      <th>Movie ID</th>\n",
       "      <th>Movie Name</th>\n",
       "      <th>Movie Genre</th>\n",
       "      <th>Movie Description</th>\n",
       "      <th>Movie Director</th>\n",
       "      <th>Movie Actors</th>\n",
       "    </tr>\n",
       "  </thead>\n",
       "  <tbody>\n",
       "    <tr>\n",
       "      <th>0</th>\n",
       "      <td>tt1375666</td>\n",
       "      <td>Inception</td>\n",
       "      <td>[Action, Adventure, Sci-Fi]</td>\n",
       "      <td>[A, thief, who, steals, corporate, secrets, th...</td>\n",
       "      <td>Christopher Nolan</td>\n",
       "      <td>[LeonardoDiCaprio, JosephGordon-Levitt, Elliot...</td>\n",
       "    </tr>\n",
       "    <tr>\n",
       "      <th>1</th>\n",
       "      <td>tt0816692</td>\n",
       "      <td>Interstellar</td>\n",
       "      <td>[Adventure, Drama, Sci-Fi]</td>\n",
       "      <td>[A, team, of, explorers, travel, through, a, w...</td>\n",
       "      <td>Christopher Nolan</td>\n",
       "      <td>[MatthewMcConaughey, AnneHathaway, JessicaChas...</td>\n",
       "    </tr>\n",
       "    <tr>\n",
       "      <th>2</th>\n",
       "      <td>tt1345836</td>\n",
       "      <td>The Dark Knight Rises</td>\n",
       "      <td>[Action, Drama]</td>\n",
       "      <td>[Eight, years, after, the, Joker's, reign, of,...</td>\n",
       "      <td>Christopher Nolan</td>\n",
       "      <td>[ChristianBale, TomHardy, AnneHathaway, GaryOl...</td>\n",
       "    </tr>\n",
       "    <tr>\n",
       "      <th>3</th>\n",
       "      <td>tt1853728</td>\n",
       "      <td>Django Unchained</td>\n",
       "      <td>[Drama, Western]</td>\n",
       "      <td>[With, the, help, of, a, German, bounty-hunter...</td>\n",
       "      <td>Quentin Tarantino</td>\n",
       "      <td>[JamieFoxx, ChristophWaltz, LeonardoDiCaprio, ...</td>\n",
       "    </tr>\n",
       "    <tr>\n",
       "      <th>4</th>\n",
       "      <td>tt0848228</td>\n",
       "      <td>The Avengers</td>\n",
       "      <td>[Action, Adventure, Sci-Fi]</td>\n",
       "      <td>[Earth's, mightiest, heroes, must, come, toget...</td>\n",
       "      <td>Joss Whedon</td>\n",
       "      <td>[RobertDowneyJr., ChrisEvans, ScarlettJohansso...</td>\n",
       "    </tr>\n",
       "  </tbody>\n",
       "</table>\n",
       "</div>"
      ],
      "text/plain": [
       "    Movie ID             Movie Name                  Movie Genre  \\\n",
       "0  tt1375666              Inception  [Action, Adventure, Sci-Fi]   \n",
       "1  tt0816692           Interstellar   [Adventure, Drama, Sci-Fi]   \n",
       "2  tt1345836  The Dark Knight Rises              [Action, Drama]   \n",
       "3  tt1853728       Django Unchained             [Drama, Western]   \n",
       "4  tt0848228           The Avengers  [Action, Adventure, Sci-Fi]   \n",
       "\n",
       "                                   Movie Description     Movie Director  \\\n",
       "0  [A, thief, who, steals, corporate, secrets, th...  Christopher Nolan   \n",
       "1  [A, team, of, explorers, travel, through, a, w...  Christopher Nolan   \n",
       "2  [Eight, years, after, the, Joker's, reign, of,...  Christopher Nolan   \n",
       "3  [With, the, help, of, a, German, bounty-hunter...  Quentin Tarantino   \n",
       "4  [Earth's, mightiest, heroes, must, come, toget...        Joss Whedon   \n",
       "\n",
       "                                        Movie Actors  \n",
       "0  [LeonardoDiCaprio, JosephGordon-Levitt, Elliot...  \n",
       "1  [MatthewMcConaughey, AnneHathaway, JessicaChas...  \n",
       "2  [ChristianBale, TomHardy, AnneHathaway, GaryOl...  \n",
       "3  [JamieFoxx, ChristophWaltz, LeonardoDiCaprio, ...  \n",
       "4  [RobertDowneyJr., ChrisEvans, ScarlettJohansso...  "
      ]
     },
     "execution_count": 27,
     "metadata": {},
     "output_type": "execute_result"
    }
   ],
   "source": [
    "movies_df['Movie Actors'] = movies_df['Movie Actors'].apply(lambda x:[i.replace(\" \", \"\") for i in x])\n",
    "movies_df.head()"
   ]
  },
  {
   "cell_type": "code",
   "execution_count": 28,
   "id": "e13496fa",
   "metadata": {},
   "outputs": [
    {
     "data": {
      "text/plain": [
       "['Christopher', 'Nolan']"
      ]
     },
     "execution_count": 28,
     "metadata": {},
     "output_type": "execute_result"
    }
   ],
   "source": [
    "movies_df['Movie Director'][0].split()"
   ]
  },
  {
   "cell_type": "code",
   "execution_count": 29,
   "id": "6dccbfb2",
   "metadata": {},
   "outputs": [],
   "source": [
    "def formatterD(text):\n",
    "    lst = text.split()\n",
    "    text = ''.join(lst)\n",
    "    return text.split()"
   ]
  },
  {
   "cell_type": "code",
   "execution_count": 30,
   "id": "a241dfe7",
   "metadata": {},
   "outputs": [
    {
     "data": {
      "text/plain": [
       "['ChristopherNolan']"
      ]
     },
     "execution_count": 30,
     "metadata": {},
     "output_type": "execute_result"
    }
   ],
   "source": [
    "formatterD(movies_df['Movie Director'][1])"
   ]
  },
  {
   "cell_type": "code",
   "execution_count": 31,
   "id": "cc1c7a36",
   "metadata": {},
   "outputs": [
    {
     "data": {
      "text/plain": [
       "0       [ChristopherNolan]\n",
       "1       [ChristopherNolan]\n",
       "2       [ChristopherNolan]\n",
       "3       [QuentinTarantino]\n",
       "4             [JossWhedon]\n",
       "               ...        \n",
       "5065      [MartinCampbell]\n",
       "5066       [RichardLester]\n",
       "5067         [BryanSinger]\n",
       "5068       [RichardLester]\n",
       "5069       [RichardDonner]\n",
       "Name: Movie Director, Length: 5034, dtype: object"
      ]
     },
     "execution_count": 31,
     "metadata": {},
     "output_type": "execute_result"
    }
   ],
   "source": [
    "movies_df['Movie Director'].apply(formatterD)"
   ]
  },
  {
   "cell_type": "code",
   "execution_count": 32,
   "id": "ff4270be",
   "metadata": {},
   "outputs": [],
   "source": [
    "movies_df['Movie Director'] = movies_df['Movie Director'].apply(formatterD)"
   ]
  },
  {
   "cell_type": "code",
   "execution_count": 33,
   "id": "a895b45d",
   "metadata": {},
   "outputs": [
    {
     "data": {
      "text/html": [
       "<div>\n",
       "<style scoped>\n",
       "    .dataframe tbody tr th:only-of-type {\n",
       "        vertical-align: middle;\n",
       "    }\n",
       "\n",
       "    .dataframe tbody tr th {\n",
       "        vertical-align: top;\n",
       "    }\n",
       "\n",
       "    .dataframe thead th {\n",
       "        text-align: right;\n",
       "    }\n",
       "</style>\n",
       "<table border=\"1\" class=\"dataframe\">\n",
       "  <thead>\n",
       "    <tr style=\"text-align: right;\">\n",
       "      <th></th>\n",
       "      <th>Movie ID</th>\n",
       "      <th>Movie Name</th>\n",
       "      <th>Movie Genre</th>\n",
       "      <th>Movie Description</th>\n",
       "      <th>Movie Director</th>\n",
       "      <th>Movie Actors</th>\n",
       "    </tr>\n",
       "  </thead>\n",
       "  <tbody>\n",
       "    <tr>\n",
       "      <th>0</th>\n",
       "      <td>tt1375666</td>\n",
       "      <td>Inception</td>\n",
       "      <td>[Action, Adventure, Sci-Fi]</td>\n",
       "      <td>[A, thief, who, steals, corporate, secrets, th...</td>\n",
       "      <td>[ChristopherNolan]</td>\n",
       "      <td>[LeonardoDiCaprio, JosephGordon-Levitt, Elliot...</td>\n",
       "    </tr>\n",
       "    <tr>\n",
       "      <th>1</th>\n",
       "      <td>tt0816692</td>\n",
       "      <td>Interstellar</td>\n",
       "      <td>[Adventure, Drama, Sci-Fi]</td>\n",
       "      <td>[A, team, of, explorers, travel, through, a, w...</td>\n",
       "      <td>[ChristopherNolan]</td>\n",
       "      <td>[MatthewMcConaughey, AnneHathaway, JessicaChas...</td>\n",
       "    </tr>\n",
       "    <tr>\n",
       "      <th>2</th>\n",
       "      <td>tt1345836</td>\n",
       "      <td>The Dark Knight Rises</td>\n",
       "      <td>[Action, Drama]</td>\n",
       "      <td>[Eight, years, after, the, Joker's, reign, of,...</td>\n",
       "      <td>[ChristopherNolan]</td>\n",
       "      <td>[ChristianBale, TomHardy, AnneHathaway, GaryOl...</td>\n",
       "    </tr>\n",
       "    <tr>\n",
       "      <th>3</th>\n",
       "      <td>tt1853728</td>\n",
       "      <td>Django Unchained</td>\n",
       "      <td>[Drama, Western]</td>\n",
       "      <td>[With, the, help, of, a, German, bounty-hunter...</td>\n",
       "      <td>[QuentinTarantino]</td>\n",
       "      <td>[JamieFoxx, ChristophWaltz, LeonardoDiCaprio, ...</td>\n",
       "    </tr>\n",
       "    <tr>\n",
       "      <th>4</th>\n",
       "      <td>tt0848228</td>\n",
       "      <td>The Avengers</td>\n",
       "      <td>[Action, Adventure, Sci-Fi]</td>\n",
       "      <td>[Earth's, mightiest, heroes, must, come, toget...</td>\n",
       "      <td>[JossWhedon]</td>\n",
       "      <td>[RobertDowneyJr., ChrisEvans, ScarlettJohansso...</td>\n",
       "    </tr>\n",
       "  </tbody>\n",
       "</table>\n",
       "</div>"
      ],
      "text/plain": [
       "    Movie ID             Movie Name                  Movie Genre  \\\n",
       "0  tt1375666              Inception  [Action, Adventure, Sci-Fi]   \n",
       "1  tt0816692           Interstellar   [Adventure, Drama, Sci-Fi]   \n",
       "2  tt1345836  The Dark Knight Rises              [Action, Drama]   \n",
       "3  tt1853728       Django Unchained             [Drama, Western]   \n",
       "4  tt0848228           The Avengers  [Action, Adventure, Sci-Fi]   \n",
       "\n",
       "                                   Movie Description      Movie Director  \\\n",
       "0  [A, thief, who, steals, corporate, secrets, th...  [ChristopherNolan]   \n",
       "1  [A, team, of, explorers, travel, through, a, w...  [ChristopherNolan]   \n",
       "2  [Eight, years, after, the, Joker's, reign, of,...  [ChristopherNolan]   \n",
       "3  [With, the, help, of, a, German, bounty-hunter...  [QuentinTarantino]   \n",
       "4  [Earth's, mightiest, heroes, must, come, toget...        [JossWhedon]   \n",
       "\n",
       "                                        Movie Actors  \n",
       "0  [LeonardoDiCaprio, JosephGordon-Levitt, Elliot...  \n",
       "1  [MatthewMcConaughey, AnneHathaway, JessicaChas...  \n",
       "2  [ChristianBale, TomHardy, AnneHathaway, GaryOl...  \n",
       "3  [JamieFoxx, ChristophWaltz, LeonardoDiCaprio, ...  \n",
       "4  [RobertDowneyJr., ChrisEvans, ScarlettJohansso...  "
      ]
     },
     "execution_count": 33,
     "metadata": {},
     "output_type": "execute_result"
    }
   ],
   "source": [
    "movies_df.head()"
   ]
  },
  {
   "cell_type": "code",
   "execution_count": 34,
   "id": "28fe7e56",
   "metadata": {},
   "outputs": [],
   "source": [
    "movies_df['Tags'] = movies_df['Movie Genre'] + movies_df['Movie Description'] + movies_df['Movie Director'] + movies_df['Movie Actors']"
   ]
  },
  {
   "cell_type": "code",
   "execution_count": 35,
   "id": "46cbb734",
   "metadata": {},
   "outputs": [
    {
     "data": {
      "text/html": [
       "<div>\n",
       "<style scoped>\n",
       "    .dataframe tbody tr th:only-of-type {\n",
       "        vertical-align: middle;\n",
       "    }\n",
       "\n",
       "    .dataframe tbody tr th {\n",
       "        vertical-align: top;\n",
       "    }\n",
       "\n",
       "    .dataframe thead th {\n",
       "        text-align: right;\n",
       "    }\n",
       "</style>\n",
       "<table border=\"1\" class=\"dataframe\">\n",
       "  <thead>\n",
       "    <tr style=\"text-align: right;\">\n",
       "      <th></th>\n",
       "      <th>Movie ID</th>\n",
       "      <th>Movie Name</th>\n",
       "      <th>Movie Genre</th>\n",
       "      <th>Movie Description</th>\n",
       "      <th>Movie Director</th>\n",
       "      <th>Movie Actors</th>\n",
       "      <th>Tags</th>\n",
       "    </tr>\n",
       "  </thead>\n",
       "  <tbody>\n",
       "    <tr>\n",
       "      <th>0</th>\n",
       "      <td>tt1375666</td>\n",
       "      <td>Inception</td>\n",
       "      <td>[Action, Adventure, Sci-Fi]</td>\n",
       "      <td>[A, thief, who, steals, corporate, secrets, th...</td>\n",
       "      <td>[ChristopherNolan]</td>\n",
       "      <td>[LeonardoDiCaprio, JosephGordon-Levitt, Elliot...</td>\n",
       "      <td>[Action, Adventure, Sci-Fi, A, thief, who, ste...</td>\n",
       "    </tr>\n",
       "    <tr>\n",
       "      <th>1</th>\n",
       "      <td>tt0816692</td>\n",
       "      <td>Interstellar</td>\n",
       "      <td>[Adventure, Drama, Sci-Fi]</td>\n",
       "      <td>[A, team, of, explorers, travel, through, a, w...</td>\n",
       "      <td>[ChristopherNolan]</td>\n",
       "      <td>[MatthewMcConaughey, AnneHathaway, JessicaChas...</td>\n",
       "      <td>[Adventure, Drama, Sci-Fi, A, team, of, explor...</td>\n",
       "    </tr>\n",
       "    <tr>\n",
       "      <th>2</th>\n",
       "      <td>tt1345836</td>\n",
       "      <td>The Dark Knight Rises</td>\n",
       "      <td>[Action, Drama]</td>\n",
       "      <td>[Eight, years, after, the, Joker's, reign, of,...</td>\n",
       "      <td>[ChristopherNolan]</td>\n",
       "      <td>[ChristianBale, TomHardy, AnneHathaway, GaryOl...</td>\n",
       "      <td>[Action, Drama, Eight, years, after, the, Joke...</td>\n",
       "    </tr>\n",
       "    <tr>\n",
       "      <th>3</th>\n",
       "      <td>tt1853728</td>\n",
       "      <td>Django Unchained</td>\n",
       "      <td>[Drama, Western]</td>\n",
       "      <td>[With, the, help, of, a, German, bounty-hunter...</td>\n",
       "      <td>[QuentinTarantino]</td>\n",
       "      <td>[JamieFoxx, ChristophWaltz, LeonardoDiCaprio, ...</td>\n",
       "      <td>[Drama, Western, With, the, help, of, a, Germa...</td>\n",
       "    </tr>\n",
       "    <tr>\n",
       "      <th>4</th>\n",
       "      <td>tt0848228</td>\n",
       "      <td>The Avengers</td>\n",
       "      <td>[Action, Adventure, Sci-Fi]</td>\n",
       "      <td>[Earth's, mightiest, heroes, must, come, toget...</td>\n",
       "      <td>[JossWhedon]</td>\n",
       "      <td>[RobertDowneyJr., ChrisEvans, ScarlettJohansso...</td>\n",
       "      <td>[Action, Adventure, Sci-Fi, Earth's, mightiest...</td>\n",
       "    </tr>\n",
       "  </tbody>\n",
       "</table>\n",
       "</div>"
      ],
      "text/plain": [
       "    Movie ID             Movie Name                  Movie Genre  \\\n",
       "0  tt1375666              Inception  [Action, Adventure, Sci-Fi]   \n",
       "1  tt0816692           Interstellar   [Adventure, Drama, Sci-Fi]   \n",
       "2  tt1345836  The Dark Knight Rises              [Action, Drama]   \n",
       "3  tt1853728       Django Unchained             [Drama, Western]   \n",
       "4  tt0848228           The Avengers  [Action, Adventure, Sci-Fi]   \n",
       "\n",
       "                                   Movie Description      Movie Director  \\\n",
       "0  [A, thief, who, steals, corporate, secrets, th...  [ChristopherNolan]   \n",
       "1  [A, team, of, explorers, travel, through, a, w...  [ChristopherNolan]   \n",
       "2  [Eight, years, after, the, Joker's, reign, of,...  [ChristopherNolan]   \n",
       "3  [With, the, help, of, a, German, bounty-hunter...  [QuentinTarantino]   \n",
       "4  [Earth's, mightiest, heroes, must, come, toget...        [JossWhedon]   \n",
       "\n",
       "                                        Movie Actors  \\\n",
       "0  [LeonardoDiCaprio, JosephGordon-Levitt, Elliot...   \n",
       "1  [MatthewMcConaughey, AnneHathaway, JessicaChas...   \n",
       "2  [ChristianBale, TomHardy, AnneHathaway, GaryOl...   \n",
       "3  [JamieFoxx, ChristophWaltz, LeonardoDiCaprio, ...   \n",
       "4  [RobertDowneyJr., ChrisEvans, ScarlettJohansso...   \n",
       "\n",
       "                                                Tags  \n",
       "0  [Action, Adventure, Sci-Fi, A, thief, who, ste...  \n",
       "1  [Adventure, Drama, Sci-Fi, A, team, of, explor...  \n",
       "2  [Action, Drama, Eight, years, after, the, Joke...  \n",
       "3  [Drama, Western, With, the, help, of, a, Germa...  \n",
       "4  [Action, Adventure, Sci-Fi, Earth's, mightiest...  "
      ]
     },
     "execution_count": 35,
     "metadata": {},
     "output_type": "execute_result"
    }
   ],
   "source": [
    "movies_df.head()"
   ]
  },
  {
   "cell_type": "code",
   "execution_count": 36,
   "id": "ddb4db90",
   "metadata": {},
   "outputs": [
    {
     "name": "stdout",
     "output_type": "stream",
     "text": [
      "['Action', 'Adventure', 'Sci-Fi', 'A', 'thief', 'who', 'steals', 'corporate', 'secrets', 'through', 'the', 'use', 'of', 'dream-sharing', 'technology', 'is', 'given', 'the', 'inverse', 'task', 'of', 'planting', 'an', 'idea', 'into', 'the', 'mind', 'of', 'a', 'C.E.O.,', 'but', 'his', 'tragic', 'past', 'may', 'doom', 'the', 'project', 'and', 'his', 'team', 'to', 'disaster.', 'ChristopherNolan', 'LeonardoDiCaprio', 'JosephGordon-Levitt', 'ElliotPage', 'KenWatanabe', 'TomHardy']\n"
     ]
    }
   ],
   "source": [
    "print(movies_df['Tags'][0])"
   ]
  },
  {
   "cell_type": "code",
   "execution_count": 37,
   "id": "6803ac97",
   "metadata": {},
   "outputs": [],
   "source": [
    "movies_df = movies_df[['Movie ID', 'Movie Name', 'Tags']]"
   ]
  },
  {
   "cell_type": "code",
   "execution_count": 38,
   "id": "f3451ba8",
   "metadata": {},
   "outputs": [
    {
     "data": {
      "text/html": [
       "<div>\n",
       "<style scoped>\n",
       "    .dataframe tbody tr th:only-of-type {\n",
       "        vertical-align: middle;\n",
       "    }\n",
       "\n",
       "    .dataframe tbody tr th {\n",
       "        vertical-align: top;\n",
       "    }\n",
       "\n",
       "    .dataframe thead th {\n",
       "        text-align: right;\n",
       "    }\n",
       "</style>\n",
       "<table border=\"1\" class=\"dataframe\">\n",
       "  <thead>\n",
       "    <tr style=\"text-align: right;\">\n",
       "      <th></th>\n",
       "      <th>Movie ID</th>\n",
       "      <th>Movie Name</th>\n",
       "      <th>Tags</th>\n",
       "    </tr>\n",
       "  </thead>\n",
       "  <tbody>\n",
       "    <tr>\n",
       "      <th>0</th>\n",
       "      <td>tt1375666</td>\n",
       "      <td>Inception</td>\n",
       "      <td>[Action, Adventure, Sci-Fi, A, thief, who, ste...</td>\n",
       "    </tr>\n",
       "    <tr>\n",
       "      <th>1</th>\n",
       "      <td>tt0816692</td>\n",
       "      <td>Interstellar</td>\n",
       "      <td>[Adventure, Drama, Sci-Fi, A, team, of, explor...</td>\n",
       "    </tr>\n",
       "    <tr>\n",
       "      <th>2</th>\n",
       "      <td>tt1345836</td>\n",
       "      <td>The Dark Knight Rises</td>\n",
       "      <td>[Action, Drama, Eight, years, after, the, Joke...</td>\n",
       "    </tr>\n",
       "    <tr>\n",
       "      <th>3</th>\n",
       "      <td>tt1853728</td>\n",
       "      <td>Django Unchained</td>\n",
       "      <td>[Drama, Western, With, the, help, of, a, Germa...</td>\n",
       "    </tr>\n",
       "    <tr>\n",
       "      <th>4</th>\n",
       "      <td>tt0848228</td>\n",
       "      <td>The Avengers</td>\n",
       "      <td>[Action, Adventure, Sci-Fi, Earth's, mightiest...</td>\n",
       "    </tr>\n",
       "  </tbody>\n",
       "</table>\n",
       "</div>"
      ],
      "text/plain": [
       "    Movie ID             Movie Name  \\\n",
       "0  tt1375666              Inception   \n",
       "1  tt0816692           Interstellar   \n",
       "2  tt1345836  The Dark Knight Rises   \n",
       "3  tt1853728       Django Unchained   \n",
       "4  tt0848228           The Avengers   \n",
       "\n",
       "                                                Tags  \n",
       "0  [Action, Adventure, Sci-Fi, A, thief, who, ste...  \n",
       "1  [Adventure, Drama, Sci-Fi, A, team, of, explor...  \n",
       "2  [Action, Drama, Eight, years, after, the, Joke...  \n",
       "3  [Drama, Western, With, the, help, of, a, Germa...  \n",
       "4  [Action, Adventure, Sci-Fi, Earth's, mightiest...  "
      ]
     },
     "execution_count": 38,
     "metadata": {},
     "output_type": "execute_result"
    }
   ],
   "source": [
    "movies_df.head()"
   ]
  },
  {
   "cell_type": "code",
   "execution_count": 39,
   "id": "2df20c90",
   "metadata": {
    "scrolled": true
   },
   "outputs": [
    {
     "data": {
      "text/plain": [
       "0       Action Adventure Sci-Fi A thief who steals cor...\n",
       "1       Adventure Drama Sci-Fi A team of explorers tra...\n",
       "2       Action Drama Eight years after the Joker's rei...\n",
       "3       Drama Western With the help of a German bounty...\n",
       "4       Action Adventure Sci-Fi Earth's mightiest hero...\n",
       "                              ...                        \n",
       "5065    Action Adventure Sci-Fi Reckless test pilot Ha...\n",
       "5066    Action Adventure Comedy Synthetic kryptonite l...\n",
       "5067    Action Adventure Sci-Fi Superman returns to Ea...\n",
       "5068    Action Adventure Sci-Fi Superman agrees to sac...\n",
       "5069    Action Adventure Romance Superman agrees to sa...\n",
       "Name: Tags, Length: 5034, dtype: object"
      ]
     },
     "execution_count": 39,
     "metadata": {},
     "output_type": "execute_result"
    }
   ],
   "source": [
    "movies_df['Tags'].apply(lambda x: \" \".join(x))"
   ]
  },
  {
   "cell_type": "code",
   "execution_count": 40,
   "id": "022c13ac",
   "metadata": {},
   "outputs": [
    {
     "data": {
      "text/html": [
       "<div>\n",
       "<style scoped>\n",
       "    .dataframe tbody tr th:only-of-type {\n",
       "        vertical-align: middle;\n",
       "    }\n",
       "\n",
       "    .dataframe tbody tr th {\n",
       "        vertical-align: top;\n",
       "    }\n",
       "\n",
       "    .dataframe thead th {\n",
       "        text-align: right;\n",
       "    }\n",
       "</style>\n",
       "<table border=\"1\" class=\"dataframe\">\n",
       "  <thead>\n",
       "    <tr style=\"text-align: right;\">\n",
       "      <th></th>\n",
       "      <th>Movie ID</th>\n",
       "      <th>Movie Name</th>\n",
       "      <th>Tags</th>\n",
       "    </tr>\n",
       "  </thead>\n",
       "  <tbody>\n",
       "    <tr>\n",
       "      <th>0</th>\n",
       "      <td>tt1375666</td>\n",
       "      <td>Inception</td>\n",
       "      <td>Action Adventure Sci-Fi A thief who steals cor...</td>\n",
       "    </tr>\n",
       "    <tr>\n",
       "      <th>1</th>\n",
       "      <td>tt0816692</td>\n",
       "      <td>Interstellar</td>\n",
       "      <td>Adventure Drama Sci-Fi A team of explorers tra...</td>\n",
       "    </tr>\n",
       "    <tr>\n",
       "      <th>2</th>\n",
       "      <td>tt1345836</td>\n",
       "      <td>The Dark Knight Rises</td>\n",
       "      <td>Action Drama Eight years after the Joker's rei...</td>\n",
       "    </tr>\n",
       "    <tr>\n",
       "      <th>3</th>\n",
       "      <td>tt1853728</td>\n",
       "      <td>Django Unchained</td>\n",
       "      <td>Drama Western With the help of a German bounty...</td>\n",
       "    </tr>\n",
       "    <tr>\n",
       "      <th>4</th>\n",
       "      <td>tt0848228</td>\n",
       "      <td>The Avengers</td>\n",
       "      <td>Action Adventure Sci-Fi Earth's mightiest hero...</td>\n",
       "    </tr>\n",
       "  </tbody>\n",
       "</table>\n",
       "</div>"
      ],
      "text/plain": [
       "    Movie ID             Movie Name  \\\n",
       "0  tt1375666              Inception   \n",
       "1  tt0816692           Interstellar   \n",
       "2  tt1345836  The Dark Knight Rises   \n",
       "3  tt1853728       Django Unchained   \n",
       "4  tt0848228           The Avengers   \n",
       "\n",
       "                                                Tags  \n",
       "0  Action Adventure Sci-Fi A thief who steals cor...  \n",
       "1  Adventure Drama Sci-Fi A team of explorers tra...  \n",
       "2  Action Drama Eight years after the Joker's rei...  \n",
       "3  Drama Western With the help of a German bounty...  \n",
       "4  Action Adventure Sci-Fi Earth's mightiest hero...  "
      ]
     },
     "execution_count": 40,
     "metadata": {},
     "output_type": "execute_result"
    }
   ],
   "source": [
    "movies_df['Tags'] = movies_df['Tags'].apply(lambda x: \" \".join(x))\n",
    "movies_df.head()"
   ]
  },
  {
   "cell_type": "code",
   "execution_count": 41,
   "id": "d30956ae",
   "metadata": {},
   "outputs": [
    {
     "data": {
      "text/plain": [
       "'Action Adventure Sci-Fi A thief who steals corporate secrets through the use of dream-sharing technology is given the inverse task of planting an idea into the mind of a C.E.O., but his tragic past may doom the project and his team to disaster. ChristopherNolan LeonardoDiCaprio JosephGordon-Levitt ElliotPage KenWatanabe TomHardy'"
      ]
     },
     "execution_count": 41,
     "metadata": {},
     "output_type": "execute_result"
    }
   ],
   "source": [
    "movies_df['Tags'][0]"
   ]
  },
  {
   "cell_type": "code",
   "execution_count": 42,
   "id": "bcfd4419",
   "metadata": {},
   "outputs": [
    {
     "data": {
      "text/html": [
       "<div>\n",
       "<style scoped>\n",
       "    .dataframe tbody tr th:only-of-type {\n",
       "        vertical-align: middle;\n",
       "    }\n",
       "\n",
       "    .dataframe tbody tr th {\n",
       "        vertical-align: top;\n",
       "    }\n",
       "\n",
       "    .dataframe thead th {\n",
       "        text-align: right;\n",
       "    }\n",
       "</style>\n",
       "<table border=\"1\" class=\"dataframe\">\n",
       "  <thead>\n",
       "    <tr style=\"text-align: right;\">\n",
       "      <th></th>\n",
       "      <th>Movie ID</th>\n",
       "      <th>Movie Name</th>\n",
       "      <th>Tags</th>\n",
       "    </tr>\n",
       "  </thead>\n",
       "  <tbody>\n",
       "    <tr>\n",
       "      <th>0</th>\n",
       "      <td>tt1375666</td>\n",
       "      <td>Inception</td>\n",
       "      <td>action adventure sci-fi a thief who steals cor...</td>\n",
       "    </tr>\n",
       "    <tr>\n",
       "      <th>1</th>\n",
       "      <td>tt0816692</td>\n",
       "      <td>Interstellar</td>\n",
       "      <td>adventure drama sci-fi a team of explorers tra...</td>\n",
       "    </tr>\n",
       "    <tr>\n",
       "      <th>2</th>\n",
       "      <td>tt1345836</td>\n",
       "      <td>The Dark Knight Rises</td>\n",
       "      <td>action drama eight years after the joker's rei...</td>\n",
       "    </tr>\n",
       "    <tr>\n",
       "      <th>3</th>\n",
       "      <td>tt1853728</td>\n",
       "      <td>Django Unchained</td>\n",
       "      <td>drama western with the help of a german bounty...</td>\n",
       "    </tr>\n",
       "    <tr>\n",
       "      <th>4</th>\n",
       "      <td>tt0848228</td>\n",
       "      <td>The Avengers</td>\n",
       "      <td>action adventure sci-fi earth's mightiest hero...</td>\n",
       "    </tr>\n",
       "  </tbody>\n",
       "</table>\n",
       "</div>"
      ],
      "text/plain": [
       "    Movie ID             Movie Name  \\\n",
       "0  tt1375666              Inception   \n",
       "1  tt0816692           Interstellar   \n",
       "2  tt1345836  The Dark Knight Rises   \n",
       "3  tt1853728       Django Unchained   \n",
       "4  tt0848228           The Avengers   \n",
       "\n",
       "                                                Tags  \n",
       "0  action adventure sci-fi a thief who steals cor...  \n",
       "1  adventure drama sci-fi a team of explorers tra...  \n",
       "2  action drama eight years after the joker's rei...  \n",
       "3  drama western with the help of a german bounty...  \n",
       "4  action adventure sci-fi earth's mightiest hero...  "
      ]
     },
     "execution_count": 42,
     "metadata": {},
     "output_type": "execute_result"
    }
   ],
   "source": [
    "movies_df['Tags'] = movies_df['Tags'].apply(lambda x: x.lower())\n",
    "movies_df.head()"
   ]
  },
  {
   "cell_type": "markdown",
   "id": "0f5a7f95",
   "metadata": {},
   "source": [
    "# Removing the Stop Words and Stemming"
   ]
  },
  {
   "cell_type": "code",
   "execution_count": 43,
   "id": "75661cf2",
   "metadata": {},
   "outputs": [],
   "source": [
    "ps = PorterStemmer()"
   ]
  },
  {
   "cell_type": "code",
   "execution_count": 44,
   "id": "f433dc2c",
   "metadata": {},
   "outputs": [],
   "source": [
    "lst_stopwords = stopwords.words('english')"
   ]
  },
  {
   "cell_type": "code",
   "execution_count": 45,
   "id": "4400947b",
   "metadata": {},
   "outputs": [],
   "source": [
    "def removeStopwords(text):\n",
    "    res = []\n",
    "    for i in text.split():\n",
    "        if i not in lst_stopwords:\n",
    "            res.append(i)\n",
    "    res = ' '.join(res)\n",
    "    return res"
   ]
  },
  {
   "cell_type": "code",
   "execution_count": 46,
   "id": "df8c9739",
   "metadata": {},
   "outputs": [
    {
     "data": {
      "text/plain": [
       "'action adventure sci-fi thief steals corporate secrets use dream-sharing technology given inverse task planting idea mind c.e.o., tragic past may doom project team disaster. christophernolan leonardodicaprio josephgordon-levitt elliotpage kenwatanabe tomhardy'"
      ]
     },
     "execution_count": 46,
     "metadata": {},
     "output_type": "execute_result"
    }
   ],
   "source": [
    "removeStopwords(movies_df['Tags'][0])"
   ]
  },
  {
   "cell_type": "code",
   "execution_count": 47,
   "id": "31acdf17",
   "metadata": {},
   "outputs": [],
   "source": [
    "def stemText(text):\n",
    "    res = []\n",
    "    for i in text.split():\n",
    "        res.append(ps.stem(i))\n",
    "    return res"
   ]
  },
  {
   "cell_type": "code",
   "execution_count": 48,
   "id": "8b9049de",
   "metadata": {},
   "outputs": [
    {
     "name": "stdout",
     "output_type": "stream",
     "text": [
      "['action', 'adventur', 'sci-fi', 'thief', 'steal', 'corpor', 'secret', 'use', 'dream-shar', 'technolog', 'given', 'invers', 'task', 'plant', 'idea', 'mind', 'c.e.o.,', 'tragic', 'past', 'may', 'doom', 'project', 'team', 'disaster.', 'christophernolan', 'leonardodicaprio', 'josephgordon-levitt', 'elliotpag', 'kenwatanab', 'tomhardi']\n"
     ]
    }
   ],
   "source": [
    "print(stemText(removeStopwords(movies_df['Tags'][0])))"
   ]
  },
  {
   "cell_type": "code",
   "execution_count": 49,
   "id": "6a24bc9c",
   "metadata": {},
   "outputs": [],
   "source": [
    "def preprocessingData(text):\n",
    "    res = []\n",
    "    for i in text.split():\n",
    "        if i not in lst_stopwords:\n",
    "            i = ps.stem(i)\n",
    "            res.append(i)\n",
    "    res = ' '.join(res)\n",
    "    return res"
   ]
  },
  {
   "cell_type": "code",
   "execution_count": 50,
   "id": "ee5b4adc",
   "metadata": {},
   "outputs": [
    {
     "data": {
      "text/plain": [
       "'action adventur sci-fi thief steal corpor secret use dream-shar technolog given invers task plant idea mind c.e.o., tragic past may doom project team disaster. christophernolan leonardodicaprio josephgordon-levitt elliotpag kenwatanab tomhardi'"
      ]
     },
     "execution_count": 50,
     "metadata": {},
     "output_type": "execute_result"
    }
   ],
   "source": [
    "preprocessingData(movies_df['Tags'][0])"
   ]
  },
  {
   "cell_type": "code",
   "execution_count": 51,
   "id": "b2987773",
   "metadata": {},
   "outputs": [
    {
     "data": {
      "text/plain": [
       "0       action adventur sci-fi thief steal corpor secr...\n",
       "1       adventur drama sci-fi team explor travel wormh...\n",
       "2       action drama eight year joker' reign anarchy, ...\n",
       "3       drama western help german bounty-hunter, freed...\n",
       "4       action adventur sci-fi earth' mightiest hero m...\n",
       "                              ...                        \n",
       "5065    action adventur sci-fi reckless test pilot hal...\n",
       "5066    action adventur comedi synthet kryptonit lace ...\n",
       "5067    action adventur sci-fi superman return earth s...\n",
       "5068    action adventur sci-fi superman agre sacrific ...\n",
       "5069    action adventur romanc superman agre sacrific ...\n",
       "Name: Tags, Length: 5034, dtype: object"
      ]
     },
     "execution_count": 51,
     "metadata": {},
     "output_type": "execute_result"
    }
   ],
   "source": [
    "movies_df['Tags'].apply(preprocessingData)"
   ]
  },
  {
   "cell_type": "code",
   "execution_count": 52,
   "id": "7873f917",
   "metadata": {},
   "outputs": [],
   "source": [
    "movies_df['Tags'] = movies_df['Tags'].apply(preprocessingData)"
   ]
  },
  {
   "cell_type": "code",
   "execution_count": 53,
   "id": "961cbbff",
   "metadata": {},
   "outputs": [],
   "source": [
    "cv = CountVectorizer(max_features=4000, stop_words='english')"
   ]
  },
  {
   "cell_type": "code",
   "execution_count": 54,
   "id": "9df7ece2",
   "metadata": {},
   "outputs": [],
   "source": [
    "vectors = cv.fit_transform(movies_df['Tags']).toarray()"
   ]
  },
  {
   "cell_type": "code",
   "execution_count": 55,
   "id": "9032f498",
   "metadata": {},
   "outputs": [
    {
     "data": {
      "text/plain": [
       "(5034, 4000)"
      ]
     },
     "execution_count": 55,
     "metadata": {},
     "output_type": "execute_result"
    }
   ],
   "source": [
    "cv.fit_transform(movies_df['Tags']).toarray().shape"
   ]
  },
  {
   "cell_type": "code",
   "execution_count": 56,
   "id": "edbb7f77",
   "metadata": {},
   "outputs": [],
   "source": [
    "# print(cv.get_feature_names())"
   ]
  },
  {
   "cell_type": "markdown",
   "id": "2a5f93d8",
   "metadata": {},
   "source": [
    "# Generating intermediate Cosine distance"
   ]
  },
  {
   "cell_type": "code",
   "execution_count": 57,
   "id": "609f91d4",
   "metadata": {},
   "outputs": [],
   "source": [
    "similarity = cosine_similarity(vectors)"
   ]
  },
  {
   "cell_type": "code",
   "execution_count": 58,
   "id": "8a741b08",
   "metadata": {},
   "outputs": [
    {
     "data": {
      "text/plain": [
       "(5034, 5034)"
      ]
     },
     "execution_count": 58,
     "metadata": {},
     "output_type": "execute_result"
    }
   ],
   "source": [
    "similarity.shape"
   ]
  },
  {
   "cell_type": "code",
   "execution_count": 59,
   "id": "7491c880",
   "metadata": {},
   "outputs": [
    {
     "data": {
      "text/plain": [
       "array([[1.        , 0.22518867, 0.1979519 , ..., 0.16208818, 0.17507524,\n",
       "        0.09007547],\n",
       "       [0.22518867, 1.        , 0.15512631, ..., 0.21170245, 0.17149859,\n",
       "        0.05882353],\n",
       "       [0.1979519 , 0.15512631, 1.        , ..., 0.09304842, 0.05025189,\n",
       "        0.05170877],\n",
       "       ...,\n",
       "       [0.16208818, 0.21170245, 0.09304842, ..., 1.        , 0.3086067 ,\n",
       "        0.21170245],\n",
       "       [0.17507524, 0.17149859, 0.05025189, ..., 0.3086067 , 1.        ,\n",
       "        0.91465912],\n",
       "       [0.09007547, 0.05882353, 0.05170877, ..., 0.21170245, 0.91465912,\n",
       "        1.        ]])"
      ]
     },
     "execution_count": 59,
     "metadata": {},
     "output_type": "execute_result"
    }
   ],
   "source": [
    "similarity"
   ]
  },
  {
   "cell_type": "markdown",
   "id": "8b8399fc",
   "metadata": {},
   "source": [
    "# Building the Recommendation System"
   ]
  },
  {
   "cell_type": "code",
   "execution_count": 60,
   "id": "198b0afc",
   "metadata": {},
   "outputs": [
    {
     "data": {
      "text/html": [
       "<div>\n",
       "<style scoped>\n",
       "    .dataframe tbody tr th:only-of-type {\n",
       "        vertical-align: middle;\n",
       "    }\n",
       "\n",
       "    .dataframe tbody tr th {\n",
       "        vertical-align: top;\n",
       "    }\n",
       "\n",
       "    .dataframe thead th {\n",
       "        text-align: right;\n",
       "    }\n",
       "</style>\n",
       "<table border=\"1\" class=\"dataframe\">\n",
       "  <thead>\n",
       "    <tr style=\"text-align: right;\">\n",
       "      <th></th>\n",
       "      <th>Movie ID</th>\n",
       "      <th>Movie Name</th>\n",
       "      <th>Tags</th>\n",
       "    </tr>\n",
       "  </thead>\n",
       "  <tbody>\n",
       "    <tr>\n",
       "      <th>0</th>\n",
       "      <td>tt1375666</td>\n",
       "      <td>Inception</td>\n",
       "      <td>action adventur sci-fi thief steal corpor secr...</td>\n",
       "    </tr>\n",
       "    <tr>\n",
       "      <th>1</th>\n",
       "      <td>tt0816692</td>\n",
       "      <td>Interstellar</td>\n",
       "      <td>adventur drama sci-fi team explor travel wormh...</td>\n",
       "    </tr>\n",
       "    <tr>\n",
       "      <th>2</th>\n",
       "      <td>tt1345836</td>\n",
       "      <td>The Dark Knight Rises</td>\n",
       "      <td>action drama eight year joker' reign anarchy, ...</td>\n",
       "    </tr>\n",
       "    <tr>\n",
       "      <th>3</th>\n",
       "      <td>tt1853728</td>\n",
       "      <td>Django Unchained</td>\n",
       "      <td>drama western help german bounty-hunter, freed...</td>\n",
       "    </tr>\n",
       "    <tr>\n",
       "      <th>4</th>\n",
       "      <td>tt0848228</td>\n",
       "      <td>The Avengers</td>\n",
       "      <td>action adventur sci-fi earth' mightiest hero m...</td>\n",
       "    </tr>\n",
       "  </tbody>\n",
       "</table>\n",
       "</div>"
      ],
      "text/plain": [
       "    Movie ID             Movie Name  \\\n",
       "0  tt1375666              Inception   \n",
       "1  tt0816692           Interstellar   \n",
       "2  tt1345836  The Dark Knight Rises   \n",
       "3  tt1853728       Django Unchained   \n",
       "4  tt0848228           The Avengers   \n",
       "\n",
       "                                                Tags  \n",
       "0  action adventur sci-fi thief steal corpor secr...  \n",
       "1  adventur drama sci-fi team explor travel wormh...  \n",
       "2  action drama eight year joker' reign anarchy, ...  \n",
       "3  drama western help german bounty-hunter, freed...  \n",
       "4  action adventur sci-fi earth' mightiest hero m...  "
      ]
     },
     "execution_count": 60,
     "metadata": {},
     "output_type": "execute_result"
    }
   ],
   "source": [
    "movies_df.head()"
   ]
  },
  {
   "cell_type": "code",
   "execution_count": 61,
   "id": "16d58569",
   "metadata": {},
   "outputs": [],
   "source": [
    "def recommendedMovies(movie):\n",
    "    movie_index = movies_df[movies_df['Movie Name'] == movie].index[0]\n",
    "    distances = similarity[movie_index]\n",
    "    recommended_movies_index = sorted(list(enumerate(distances)), reverse=True, key=lambda x: x[1])[1:6]\n",
    "    recommended_movies = []\n",
    "    for i in recommended_movies_index:\n",
    "        recommended_movies.append(movies_df.iloc[i[0]]['Movie Name'])\n",
    "    return recommended_movies"
   ]
  },
  {
   "cell_type": "code",
   "execution_count": 62,
   "id": "c5343fc0",
   "metadata": {},
   "outputs": [],
   "source": [
    "def recommendedMoviesID(movie):\n",
    "    movie_index = movies_df[movies_df['Movie Name'] == movie].index[0]\n",
    "    distances = similarity[movie_index]\n",
    "    recommended_movies_index = sorted(list(enumerate(distances)), reverse=True, key=lambda x: x[1])[1:6]\n",
    "    recommended_movies_id = []\n",
    "    for i in recommended_movies_index:\n",
    "        recommended_movies_id.append(i[0])\n",
    "    return recommended_movies_id"
   ]
  },
  {
   "cell_type": "code",
   "execution_count": 63,
   "id": "fb6e979d",
   "metadata": {},
   "outputs": [
    {
     "data": {
      "text/plain": [
       "['Spider-Man: Far from Home',\n",
       " 'Spider-Man: Homecoming',\n",
       " 'Iron Man 2',\n",
       " 'The Amazing Spider-Man',\n",
       " 'Pan']"
      ]
     },
     "execution_count": 63,
     "metadata": {},
     "output_type": "execute_result"
    }
   ],
   "source": [
    "recommendedMovies('Spider-Man: No Way Home')"
   ]
  },
  {
   "cell_type": "code",
   "execution_count": 64,
   "id": "4f8130a0",
   "metadata": {},
   "outputs": [
    {
     "data": {
      "text/plain": [
       "[131, 66, 28, 63, 1151]"
      ]
     },
     "execution_count": 64,
     "metadata": {},
     "output_type": "execute_result"
    }
   ],
   "source": [
    "recommendedMoviesID('Spider-Man: No Way Home')"
   ]
  },
  {
   "cell_type": "code",
   "execution_count": 65,
   "id": "806c9fca",
   "metadata": {},
   "outputs": [
    {
     "data": {
      "text/plain": [
       "'The Amazing Spider-Man'"
      ]
     },
     "execution_count": 65,
     "metadata": {},
     "output_type": "execute_result"
    }
   ],
   "source": [
    "movies_df['Movie Name'][63]"
   ]
  },
  {
   "cell_type": "markdown",
   "id": "46ce62ce",
   "metadata": {},
   "source": [
    "# Finally generating CSV file of result for faster processing"
   ]
  },
  {
   "cell_type": "code",
   "execution_count": 66,
   "id": "6f669b7c",
   "metadata": {},
   "outputs": [
    {
     "data": {
      "text/html": [
       "<div>\n",
       "<style scoped>\n",
       "    .dataframe tbody tr th:only-of-type {\n",
       "        vertical-align: middle;\n",
       "    }\n",
       "\n",
       "    .dataframe tbody tr th {\n",
       "        vertical-align: top;\n",
       "    }\n",
       "\n",
       "    .dataframe thead th {\n",
       "        text-align: right;\n",
       "    }\n",
       "</style>\n",
       "<table border=\"1\" class=\"dataframe\">\n",
       "  <thead>\n",
       "    <tr style=\"text-align: right;\">\n",
       "      <th></th>\n",
       "      <th>Movie ID</th>\n",
       "      <th>Movie Name</th>\n",
       "    </tr>\n",
       "  </thead>\n",
       "  <tbody>\n",
       "    <tr>\n",
       "      <th>0</th>\n",
       "      <td>tt1375666</td>\n",
       "      <td>Inception</td>\n",
       "    </tr>\n",
       "    <tr>\n",
       "      <th>1</th>\n",
       "      <td>tt0816692</td>\n",
       "      <td>Interstellar</td>\n",
       "    </tr>\n",
       "    <tr>\n",
       "      <th>2</th>\n",
       "      <td>tt1345836</td>\n",
       "      <td>The Dark Knight Rises</td>\n",
       "    </tr>\n",
       "    <tr>\n",
       "      <th>3</th>\n",
       "      <td>tt1853728</td>\n",
       "      <td>Django Unchained</td>\n",
       "    </tr>\n",
       "    <tr>\n",
       "      <th>4</th>\n",
       "      <td>tt0848228</td>\n",
       "      <td>The Avengers</td>\n",
       "    </tr>\n",
       "  </tbody>\n",
       "</table>\n",
       "</div>"
      ],
      "text/plain": [
       "    Movie ID             Movie Name\n",
       "0  tt1375666              Inception\n",
       "1  tt0816692           Interstellar\n",
       "2  tt1345836  The Dark Knight Rises\n",
       "3  tt1853728       Django Unchained\n",
       "4  tt0848228           The Avengers"
      ]
     },
     "execution_count": 66,
     "metadata": {},
     "output_type": "execute_result"
    }
   ],
   "source": [
    "recommended_movies = movies_df[['Movie ID', 'Movie Name']]\n",
    "recommended_movies.head()"
   ]
  },
  {
   "cell_type": "code",
   "execution_count": 67,
   "id": "832a2080",
   "metadata": {},
   "outputs": [
    {
     "data": {
      "text/plain": [
       "(5034, 3)"
      ]
     },
     "execution_count": 67,
     "metadata": {},
     "output_type": "execute_result"
    }
   ],
   "source": [
    "movies_df.shape"
   ]
  },
  {
   "cell_type": "code",
   "execution_count": 68,
   "id": "dcf34bdc",
   "metadata": {},
   "outputs": [
    {
     "data": {
      "text/plain": [
       "2580                       Ying\n",
       "2581           The Sea of Trees\n",
       "2582                  Marmaduke\n",
       "2584            La Belle Époque\n",
       "2585                  Detention\n",
       "2586                    October\n",
       "2587             Mirai no Mirai\n",
       "2588         Satyameva Jayate 2\n",
       "2589                  Cold Skin\n",
       "2590               Mary Shelley\n",
       "2591    Shaadi Mein Zaroor Aana\n",
       "2592    Kimi no suizô o tabetai\n",
       "2593    Des hommes et des dieux\n",
       "2594                Section 375\n",
       "2595                     Mine 9\n",
       "2596            Very Good Girls\n",
       "2597     Dhuruvangal Pathinaaru\n",
       "2598                      Gotti\n",
       "2599                  Happy End\n",
       "2600           Girl Most Likely\n",
       "Name: Movie Name, dtype: object"
      ]
     },
     "execution_count": 68,
     "metadata": {},
     "output_type": "execute_result"
    }
   ],
   "source": [
    "movies_df['Movie Name'][2580:2600]"
   ]
  },
  {
   "cell_type": "code",
   "execution_count": 69,
   "id": "9d3dd121",
   "metadata": {},
   "outputs": [],
   "source": [
    "movies_df.reset_index(inplace=True)"
   ]
  },
  {
   "cell_type": "code",
   "execution_count": 70,
   "id": "c1c9b436",
   "metadata": {},
   "outputs": [
    {
     "data": {
      "text/plain": [
       "2580                       Ying\n",
       "2581           The Sea of Trees\n",
       "2582                  Marmaduke\n",
       "2583            La Belle Époque\n",
       "2584                  Detention\n",
       "2585                    October\n",
       "2586             Mirai no Mirai\n",
       "2587         Satyameva Jayate 2\n",
       "2588                  Cold Skin\n",
       "2589               Mary Shelley\n",
       "2590    Shaadi Mein Zaroor Aana\n",
       "2591    Kimi no suizô o tabetai\n",
       "2592    Des hommes et des dieux\n",
       "2593                Section 375\n",
       "2594                     Mine 9\n",
       "2595            Very Good Girls\n",
       "2596     Dhuruvangal Pathinaaru\n",
       "2597                      Gotti\n",
       "2598                  Happy End\n",
       "2599           Girl Most Likely\n",
       "Name: Movie Name, dtype: object"
      ]
     },
     "execution_count": 70,
     "metadata": {},
     "output_type": "execute_result"
    }
   ],
   "source": [
    "movies_df['Movie Name'][2580:2600]"
   ]
  },
  {
   "cell_type": "code",
   "execution_count": 71,
   "id": "34d13edf",
   "metadata": {},
   "outputs": [
    {
     "data": {
      "text/plain": [
       "\"for i in range(0, 5034, 1):\\n    movie_name = movies_df['Movie Name'][i]\\n    print(movie_name)\""
      ]
     },
     "execution_count": 71,
     "metadata": {},
     "output_type": "execute_result"
    }
   ],
   "source": [
    "\"\"\"for i in range(0, 5034, 1):\n",
    "    movie_name = movies_df['Movie Name'][i]\n",
    "    print(movie_name)\"\"\""
   ]
  },
  {
   "cell_type": "code",
   "execution_count": 72,
   "id": "15c4e1ec",
   "metadata": {},
   "outputs": [
    {
     "data": {
      "text/plain": [
       "0       [Spectral, Alita: Battle Angel, Godzilla, Blac...\n",
       "1       [Spectral, The Martian, Stake Land, Sound of M...\n",
       "2       [Batman Begins, The Dark Knight, 7500, Batman ...\n",
       "3       [The Legend of Tarzan, Water for Elephants, Af...\n",
       "4       [Avengers: Age of Ultron, Avengers: Infinity W...\n",
       "                              ...                        \n",
       "5029    [Captain Marvel, I Am Number Four, Ra.One, Bey...\n",
       "5030    [Batman v Superman: Dawn of Justice, Bang Bang...\n",
       "5031    [Capsule, Batman v Superman: Dawn of Justice, ...\n",
       "5032    [Superman II: The Richard Donner Cut, Robot Ov...\n",
       "5033    [Superman II, Injustice, Comment je suis deven...\n",
       "Name: Movie Name, Length: 5034, dtype: object"
      ]
     },
     "execution_count": 72,
     "metadata": {},
     "output_type": "execute_result"
    }
   ],
   "source": [
    "movies_df['Movie Name'].apply(recommendedMovies)"
   ]
  },
  {
   "cell_type": "code",
   "execution_count": 73,
   "id": "673d6231",
   "metadata": {},
   "outputs": [],
   "source": [
    "recommended_movies['Reccomendation'] = movies_df['Movie Name'].apply(recommendedMovies)"
   ]
  },
  {
   "cell_type": "code",
   "execution_count": 74,
   "id": "75af14c1",
   "metadata": {},
   "outputs": [],
   "source": [
    "recommended_movies['ReccomendationID'] = movies_df['Movie Name'].apply(recommendedMoviesID)"
   ]
  },
  {
   "cell_type": "code",
   "execution_count": 75,
   "id": "7a128c2c",
   "metadata": {},
   "outputs": [
    {
     "data": {
      "text/html": [
       "<div>\n",
       "<style scoped>\n",
       "    .dataframe tbody tr th:only-of-type {\n",
       "        vertical-align: middle;\n",
       "    }\n",
       "\n",
       "    .dataframe tbody tr th {\n",
       "        vertical-align: top;\n",
       "    }\n",
       "\n",
       "    .dataframe thead th {\n",
       "        text-align: right;\n",
       "    }\n",
       "</style>\n",
       "<table border=\"1\" class=\"dataframe\">\n",
       "  <thead>\n",
       "    <tr style=\"text-align: right;\">\n",
       "      <th></th>\n",
       "      <th>Movie ID</th>\n",
       "      <th>Movie Name</th>\n",
       "      <th>Reccomendation</th>\n",
       "      <th>ReccomendationID</th>\n",
       "    </tr>\n",
       "  </thead>\n",
       "  <tbody>\n",
       "    <tr>\n",
       "      <th>0</th>\n",
       "      <td>tt1375666</td>\n",
       "      <td>Inception</td>\n",
       "      <td>[Spectral, Alita: Battle Angel, Godzilla, Blac...</td>\n",
       "      <td>[1209, 289, 166, 197, 41]</td>\n",
       "    </tr>\n",
       "    <tr>\n",
       "      <th>1</th>\n",
       "      <td>tt0816692</td>\n",
       "      <td>Interstellar</td>\n",
       "      <td>[Spectral, The Martian, Stake Land, Sound of M...</td>\n",
       "      <td>[1209, 19, 1515, 2163, 2912]</td>\n",
       "    </tr>\n",
       "    <tr>\n",
       "      <th>2</th>\n",
       "      <td>tt1345836</td>\n",
       "      <td>The Dark Knight Rises</td>\n",
       "      <td>[Batman Begins, The Dark Knight, 7500, Batman ...</td>\n",
       "      <td>[5025, 5022, 1902, 2275, 4712]</td>\n",
       "    </tr>\n",
       "    <tr>\n",
       "      <th>3</th>\n",
       "      <td>tt1853728</td>\n",
       "      <td>Django Unchained</td>\n",
       "      <td>[The Legend of Tarzan, Water for Elephants, Af...</td>\n",
       "      <td>[483, 731, 3852, 3154, 4740]</td>\n",
       "    </tr>\n",
       "    <tr>\n",
       "      <th>4</th>\n",
       "      <td>tt0848228</td>\n",
       "      <td>The Avengers</td>\n",
       "      <td>[Avengers: Age of Ultron, Avengers: Infinity W...</td>\n",
       "      <td>[17, 10, 3613, 1209, 31]</td>\n",
       "    </tr>\n",
       "  </tbody>\n",
       "</table>\n",
       "</div>"
      ],
      "text/plain": [
       "    Movie ID             Movie Name  \\\n",
       "0  tt1375666              Inception   \n",
       "1  tt0816692           Interstellar   \n",
       "2  tt1345836  The Dark Knight Rises   \n",
       "3  tt1853728       Django Unchained   \n",
       "4  tt0848228           The Avengers   \n",
       "\n",
       "                                      Reccomendation  \\\n",
       "0  [Spectral, Alita: Battle Angel, Godzilla, Blac...   \n",
       "1  [Spectral, The Martian, Stake Land, Sound of M...   \n",
       "2  [Batman Begins, The Dark Knight, 7500, Batman ...   \n",
       "3  [The Legend of Tarzan, Water for Elephants, Af...   \n",
       "4  [Avengers: Age of Ultron, Avengers: Infinity W...   \n",
       "\n",
       "                 ReccomendationID  \n",
       "0       [1209, 289, 166, 197, 41]  \n",
       "1    [1209, 19, 1515, 2163, 2912]  \n",
       "2  [5025, 5022, 1902, 2275, 4712]  \n",
       "3    [483, 731, 3852, 3154, 4740]  \n",
       "4        [17, 10, 3613, 1209, 31]  "
      ]
     },
     "execution_count": 75,
     "metadata": {},
     "output_type": "execute_result"
    }
   ],
   "source": [
    "recommended_movies.head()"
   ]
  },
  {
   "cell_type": "code",
   "execution_count": 76,
   "id": "15cc7dc7",
   "metadata": {},
   "outputs": [],
   "source": [
    "recommended_movies.to_csv('Recommendations.csv', index=False)"
   ]
  },
  {
   "cell_type": "markdown",
   "id": "677938f8",
   "metadata": {},
   "source": [
    "# Serializaing some important functions"
   ]
  },
  {
   "cell_type": "code",
   "execution_count": 77,
   "id": "ed4c647d",
   "metadata": {},
   "outputs": [],
   "source": [
    "def recommendationSystem(movie):\n",
    "    res = []\n",
    "    movie_index = movies_df[movies_df['Movie Name'] == movie].index[0]\n",
    "    distances = similarity[movie_index]\n",
    "    recommended_movies_index = sorted(list(enumerate(distances)), reverse=True, key=lambda x: x[1])[1:6]\n",
    "    recommended_movies, recommended_movies_id = [], []\n",
    "    for i in recommended_movies_index:\n",
    "        recommended_movies_id.append(i[0])\n",
    "        recommended_movies.append(movies_df.iloc[i[0]]['Movie Name'])\n",
    "    res = [recommended_movies_id, recommended_movies]\n",
    "    return res"
   ]
  },
  {
   "cell_type": "code",
   "execution_count": 78,
   "id": "c19392e7",
   "metadata": {},
   "outputs": [
    {
     "name": "stdout",
     "output_type": "stream",
     "text": [
      "[[2597, 1448, 3734, 2164, 2214], ['Gotti', 'The Old Man & the Gun', 'Mr. Nice', 'The Beach Bum', 'True Crimes']]\n"
     ]
    }
   ],
   "source": [
    "print(recommendationSystem(movies_df['Movie Name'][5]))"
   ]
  },
  {
   "cell_type": "code",
   "execution_count": 79,
   "id": "68e3f783",
   "metadata": {},
   "outputs": [],
   "source": [
    "pickle.dump(recommendationSystem, open('./Pickle Files/RecommendationSystem.pkl', 'wb'), fix_imports=True)"
   ]
  },
  {
   "cell_type": "markdown",
   "id": "f58384bc",
   "metadata": {},
   "source": [
    "## Trying out the pickled function"
   ]
  },
  {
   "cell_type": "code",
   "execution_count": 80,
   "id": "d44dca8b",
   "metadata": {},
   "outputs": [],
   "source": [
    "recommendations = pickle.load(open('./Pickle Files/RecommendationSystem.pkl', 'rb'))"
   ]
  },
  {
   "cell_type": "code",
   "execution_count": 81,
   "id": "9186f891",
   "metadata": {},
   "outputs": [
    {
     "data": {
      "text/plain": [
       "[[131, 66, 28, 63, 1151],\n",
       " ['Spider-Man: Far from Home',\n",
       "  'Spider-Man: Homecoming',\n",
       "  'Iron Man 2',\n",
       "  'The Amazing Spider-Man',\n",
       "  'Pan']]"
      ]
     },
     "execution_count": 81,
     "metadata": {},
     "output_type": "execute_result"
    }
   ],
   "source": [
    "recommendations('Spider-Man: No Way Home')"
   ]
  }
 ],
 "metadata": {
  "kernelspec": {
   "display_name": "Python 3 (ipykernel)",
   "language": "python",
   "name": "python3"
  },
  "language_info": {
   "codemirror_mode": {
    "name": "ipython",
    "version": 3
   },
   "file_extension": ".py",
   "mimetype": "text/x-python",
   "name": "python",
   "nbconvert_exporter": "python",
   "pygments_lexer": "ipython3",
   "version": "3.9.12"
  },
  "latex_envs": {
   "LaTeX_envs_menu_present": true,
   "autoclose": false,
   "autocomplete": true,
   "bibliofile": "biblio.bib",
   "cite_by": "apalike",
   "current_citInitial": 1,
   "eqLabelWithNumbers": true,
   "eqNumInitial": 1,
   "hotkeys": {
    "equation": "Ctrl-E",
    "itemize": "Ctrl-I"
   },
   "labels_anchors": false,
   "latex_user_defs": false,
   "report_style_numbering": false,
   "user_envs_cfg": false
  },
  "toc": {
   "base_numbering": 1,
   "nav_menu": {},
   "number_sections": true,
   "sideBar": true,
   "skip_h1_title": false,
   "title_cell": "Table of Contents",
   "title_sidebar": "Contents",
   "toc_cell": false,
   "toc_position": {},
   "toc_section_display": true,
   "toc_window_display": true
  }
 },
 "nbformat": 4,
 "nbformat_minor": 5
}

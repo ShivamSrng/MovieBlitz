{
 "cells": [
  {
   "cell_type": "markdown",
   "id": "d5543bab",
   "metadata": {},
   "source": [
    "# Turning on the Jupyter Auto-Completor"
   ]
  },
  {
   "cell_type": "code",
   "execution_count": 1,
   "id": "6656e2ea",
   "metadata": {},
   "outputs": [],
   "source": [
    "%config Completer.use_jedi = False"
   ]
  },
  {
   "cell_type": "markdown",
   "id": "67ab4517",
   "metadata": {},
   "source": [
    "# Importing the required libraries"
   ]
  },
  {
   "cell_type": "code",
   "execution_count": 2,
   "id": "431c8626",
   "metadata": {},
   "outputs": [],
   "source": [
    "import numpy as np\n",
    "import pandas as pd\n",
    "from bs4 import BeautifulSoup\n",
    "import pickle\n",
    "import re\n",
    "import nltk\n",
    "from nltk.corpus import stopwords\n",
    "from nltk.stem import PorterStemmer\n",
    "from nltk.tokenize import word_tokenize\n",
    "from sklearn.model_selection import train_test_split\n",
    "from sklearn.feature_extraction.text import CountVectorizer\n",
    "from sklearn.preprocessing import LabelEncoder\n",
    "from sklearn.naive_bayes import MultinomialNB\n",
    "from sklearn.model_selection import GridSearchCV\n",
    "from sklearn.metrics import accuracy_score\n",
    "from sklearn.metrics import classification_report\n",
    "import matplotlib.pyplot as plt\n",
    "import warnings\n",
    "warnings.filterwarnings('ignore')"
   ]
  },
  {
   "cell_type": "markdown",
   "id": "30a56807",
   "metadata": {},
   "source": [
    "# Getting the Training Dataset"
   ]
  },
  {
   "cell_type": "code",
   "execution_count": 3,
   "id": "2facbb4b",
   "metadata": {},
   "outputs": [],
   "source": [
    "df = pd.read_csv('IMDBTrainingDatasetForComments.csv')"
   ]
  },
  {
   "cell_type": "code",
   "execution_count": 4,
   "id": "c328503d",
   "metadata": {},
   "outputs": [
    {
     "data": {
      "text/plain": [
       "positive    25000\n",
       "negative    25000\n",
       "Name: sentiment, dtype: int64"
      ]
     },
     "execution_count": 4,
     "metadata": {},
     "output_type": "execute_result"
    }
   ],
   "source": [
    "df.sentiment.value_counts()"
   ]
  },
  {
   "cell_type": "code",
   "execution_count": 5,
   "id": "296bdc52",
   "metadata": {},
   "outputs": [
    {
     "name": "stdout",
     "output_type": "stream",
     "text": [
      "<class 'pandas.core.frame.DataFrame'>\n",
      "RangeIndex: 50000 entries, 0 to 49999\n",
      "Data columns (total 2 columns):\n",
      " #   Column     Non-Null Count  Dtype \n",
      "---  ------     --------------  ----- \n",
      " 0   review     50000 non-null  object\n",
      " 1   sentiment  50000 non-null  object\n",
      "dtypes: object(2)\n",
      "memory usage: 781.4+ KB\n"
     ]
    }
   ],
   "source": [
    "df.info()"
   ]
  },
  {
   "cell_type": "code",
   "execution_count": 6,
   "id": "0abbd834",
   "metadata": {},
   "outputs": [
    {
     "name": "stdout",
     "output_type": "stream",
     "text": [
      "Number of rows in dataset:  50000\n",
      "Number of columns in dataset:  2\n"
     ]
    }
   ],
   "source": [
    "print(\"Number of rows in dataset: \", df.shape[0])\n",
    "print(\"Number of columns in dataset: \", df.shape[1])"
   ]
  },
  {
   "cell_type": "markdown",
   "id": "eb20001f",
   "metadata": {},
   "source": [
    "# Text Pre-processing"
   ]
  },
  {
   "cell_type": "markdown",
   "id": "cc68e6e2",
   "metadata": {},
   "source": [
    "1. Removing HTML Tags from the comments.\n",
    "2. Removing punctuations from the comments.\n",
    "3. Removing the Stopwords from the comments and converting everything to LowerCase.\n",
    "4. Stemming/Lemmatization of comments.\n",
    "5. Combining every pre-process applied on comment."
   ]
  },
  {
   "cell_type": "code",
   "execution_count": 7,
   "id": "f28cca95",
   "metadata": {},
   "outputs": [
    {
     "data": {
      "text/plain": [
       "\"One of the other reviewers has mentioned that after watching just 1 Oz episode you'll be hooked. They are right, as this is exactly what happened with me.<br /><br />The first thing that struck me about Oz was its brutality and unflinching scenes of violence, which set in right from the word GO. Trust me, this is not a show for the faint hearted or timid. This show pulls no punches with regards to drugs, sex or violence. Its is hardcore, in the classic use of the word.<br /><br />It is called OZ as that is the nickname given to the Oswald Maximum Security State Penitentary. It focuses mainly on Emerald City, an experimental section of the prison where all the cells have glass fronts and face inwards, so privacy is not high on the agenda. Em City is home to many..Aryans, Muslims, gangstas, Latinos, Christians, Italians, Irish and more....so scuffles, death stares, dodgy dealings and shady agreements are never far away.<br /><br />I would say the main appeal of the show is due to the fact that it goes where other shows wouldn't dare. Forget pretty pictures painted for mainstream audiences, forget charm, forget romance...OZ doesn't mess around. The first episode I ever saw struck me as so nasty it was surreal, I couldn't say I was ready for it, but as I watched more, I developed a taste for Oz, and got accustomed to the high levels of graphic violence. Not just violence, but injustice (crooked guards who'll be sold out for a nickel, inmates who'll kill on order and get away with it, well mannered, middle class inmates being turned into prison bitches due to their lack of street skills or prison experience) Watching Oz, you may become comfortable with what is uncomfortable viewing....thats if you can get in touch with your darker side.\""
      ]
     },
     "execution_count": 7,
     "metadata": {},
     "output_type": "execute_result"
    }
   ],
   "source": [
    "text = df['review'][0]\n",
    "text"
   ]
  },
  {
   "cell_type": "markdown",
   "id": "55eece02",
   "metadata": {},
   "source": [
    "## Removing HTML Tags from the comments."
   ]
  },
  {
   "cell_type": "code",
   "execution_count": 8,
   "id": "5423c7c7",
   "metadata": {},
   "outputs": [],
   "source": [
    "def removeHTMLTags(text):\n",
    "    return BeautifulSoup(text, 'lxml').text"
   ]
  },
  {
   "cell_type": "code",
   "execution_count": 9,
   "id": "99f22675",
   "metadata": {},
   "outputs": [
    {
     "name": "stdout",
     "output_type": "stream",
     "text": [
      "CPU times: total: 0 ns\n",
      "Wall time: 998 µs\n"
     ]
    },
    {
     "data": {
      "text/plain": [
       "\"One of the other reviewers has mentioned that after watching just 1 Oz episode you'll be hooked. They are right, as this is exactly what happened with me.The first thing that struck me about Oz was its brutality and unflinching scenes of violence, which set in right from the word GO. Trust me, this is not a show for the faint hearted or timid. This show pulls no punches with regards to drugs, sex or violence. Its is hardcore, in the classic use of the word.It is called OZ as that is the nickname given to the Oswald Maximum Security State Penitentary. It focuses mainly on Emerald City, an experimental section of the prison where all the cells have glass fronts and face inwards, so privacy is not high on the agenda. Em City is home to many..Aryans, Muslims, gangstas, Latinos, Christians, Italians, Irish and more....so scuffles, death stares, dodgy dealings and shady agreements are never far away.I would say the main appeal of the show is due to the fact that it goes where other shows wouldn't dare. Forget pretty pictures painted for mainstream audiences, forget charm, forget romance...OZ doesn't mess around. The first episode I ever saw struck me as so nasty it was surreal, I couldn't say I was ready for it, but as I watched more, I developed a taste for Oz, and got accustomed to the high levels of graphic violence. Not just violence, but injustice (crooked guards who'll be sold out for a nickel, inmates who'll kill on order and get away with it, well mannered, middle class inmates being turned into prison bitches due to their lack of street skills or prison experience) Watching Oz, you may become comfortable with what is uncomfortable viewing....thats if you can get in touch with your darker side.\""
      ]
     },
     "execution_count": 9,
     "metadata": {},
     "output_type": "execute_result"
    }
   ],
   "source": [
    "%%time\n",
    "text = removeHTMLTags(text)\n",
    "text"
   ]
  },
  {
   "cell_type": "markdown",
   "id": "05a7cd5a",
   "metadata": {},
   "source": [
    "## Removing punctuations from the comments."
   ]
  },
  {
   "cell_type": "code",
   "execution_count": 10,
   "id": "ae3b5e7f",
   "metadata": {},
   "outputs": [],
   "source": [
    "def removePunctuations(text):\n",
    "    return re.sub(r'[^\\w\\s]', '', text)"
   ]
  },
  {
   "cell_type": "code",
   "execution_count": 11,
   "id": "4225cbd2",
   "metadata": {},
   "outputs": [
    {
     "name": "stdout",
     "output_type": "stream",
     "text": [
      "CPU times: total: 0 ns\n",
      "Wall time: 0 ns\n"
     ]
    },
    {
     "data": {
      "text/plain": [
       "'One of the other reviewers has mentioned that after watching just 1 Oz episode youll be hooked They are right as this is exactly what happened with meThe first thing that struck me about Oz was its brutality and unflinching scenes of violence which set in right from the word GO Trust me this is not a show for the faint hearted or timid This show pulls no punches with regards to drugs sex or violence Its is hardcore in the classic use of the wordIt is called OZ as that is the nickname given to the Oswald Maximum Security State Penitentary It focuses mainly on Emerald City an experimental section of the prison where all the cells have glass fronts and face inwards so privacy is not high on the agenda Em City is home to manyAryans Muslims gangstas Latinos Christians Italians Irish and moreso scuffles death stares dodgy dealings and shady agreements are never far awayI would say the main appeal of the show is due to the fact that it goes where other shows wouldnt dare Forget pretty pictures painted for mainstream audiences forget charm forget romanceOZ doesnt mess around The first episode I ever saw struck me as so nasty it was surreal I couldnt say I was ready for it but as I watched more I developed a taste for Oz and got accustomed to the high levels of graphic violence Not just violence but injustice crooked guards wholl be sold out for a nickel inmates wholl kill on order and get away with it well mannered middle class inmates being turned into prison bitches due to their lack of street skills or prison experience Watching Oz you may become comfortable with what is uncomfortable viewingthats if you can get in touch with your darker side'"
      ]
     },
     "execution_count": 11,
     "metadata": {},
     "output_type": "execute_result"
    }
   ],
   "source": [
    "%%time\n",
    "text = removePunctuations(text)\n",
    "text"
   ]
  },
  {
   "cell_type": "markdown",
   "id": "80ee3b6d",
   "metadata": {},
   "source": [
    "## Removing the Stopwords from the comments and converting everything to LowerCase."
   ]
  },
  {
   "cell_type": "code",
   "execution_count": 12,
   "id": "730f8d3a",
   "metadata": {},
   "outputs": [
    {
     "name": "stdout",
     "output_type": "stream",
     "text": [
      "['i', 'me', 'my', 'myself', 'we', 'our', 'ours', 'ourselves', 'you', \"you're\", \"you've\", \"you'll\", \"you'd\", 'your', 'yours', 'yourself', 'yourselves', 'he', 'him', 'his', 'himself', 'she', \"she's\", 'her', 'hers', 'herself', 'it', \"it's\", 'its', 'itself', 'they', 'them', 'their', 'theirs', 'themselves', 'what', 'which', 'who', 'whom', 'this', 'that', \"that'll\", 'these', 'those', 'am', 'is', 'are', 'was', 'were', 'be', 'been', 'being', 'have', 'has', 'had', 'having', 'do', 'does', 'did', 'doing', 'a', 'an', 'the', 'and', 'but', 'if', 'or', 'because', 'as', 'until', 'while', 'of', 'at', 'by', 'for', 'with', 'about', 'against', 'between', 'into', 'through', 'during', 'before', 'after', 'above', 'below', 'to', 'from', 'up', 'down', 'in', 'out', 'on', 'off', 'over', 'under', 'again', 'further', 'then', 'once', 'here', 'there', 'when', 'where', 'why', 'how', 'all', 'any', 'both', 'each', 'few', 'more', 'most', 'other', 'some', 'such', 'no', 'nor', 'not', 'only', 'own', 'same', 'so', 'than', 'too', 'very', 's', 't', 'can', 'will', 'just', 'don', \"don't\", 'should', \"should've\", 'now', 'd', 'll', 'm', 'o', 're', 've', 'y', 'ain', 'aren', \"aren't\", 'couldn', \"couldn't\", 'didn', \"didn't\", 'doesn', \"doesn't\", 'hadn', \"hadn't\", 'hasn', \"hasn't\", 'haven', \"haven't\", 'isn', \"isn't\", 'ma', 'mightn', \"mightn't\", 'mustn', \"mustn't\", 'needn', \"needn't\", 'shan', \"shan't\", 'shouldn', \"shouldn't\", 'wasn', \"wasn't\", 'weren', \"weren't\", 'won', \"won't\", 'wouldn', \"wouldn't\"]\n"
     ]
    }
   ],
   "source": [
    "lst_stopwords = stopwords.words('english')\n",
    "print(lst_stopwords)"
   ]
  },
  {
   "cell_type": "code",
   "execution_count": 13,
   "id": "5b5af87d",
   "metadata": {},
   "outputs": [],
   "source": [
    "def removeStopWords(text):\n",
    "    words = []\n",
    "    for word in text.split():\n",
    "        if word.lower() not in lst_stopwords:\n",
    "            words.append(word.lower())\n",
    "    text = ' '.join(words)\n",
    "    return text"
   ]
  },
  {
   "cell_type": "code",
   "execution_count": 14,
   "id": "7d1bbc1c",
   "metadata": {},
   "outputs": [
    {
     "data": {
      "text/plain": [
       "'one reviewers mentioned watching 1 oz episode youll hooked right exactly happened methe first thing struck oz brutality unflinching scenes violence set right word go trust show faint hearted timid show pulls punches regards drugs sex violence hardcore classic use wordit called oz nickname given oswald maximum security state penitentary focuses mainly emerald city experimental section prison cells glass fronts face inwards privacy high agenda em city home manyaryans muslims gangstas latinos christians italians irish moreso scuffles death stares dodgy dealings shady agreements never far awayi would say main appeal show due fact goes shows wouldnt dare forget pretty pictures painted mainstream audiences forget charm forget romanceoz doesnt mess around first episode ever saw struck nasty surreal couldnt say ready watched developed taste oz got accustomed high levels graphic violence violence injustice crooked guards wholl sold nickel inmates wholl kill order get away well mannered middle class inmates turned prison bitches due lack street skills prison experience watching oz may become comfortable uncomfortable viewingthats get touch darker side'"
      ]
     },
     "execution_count": 14,
     "metadata": {},
     "output_type": "execute_result"
    }
   ],
   "source": [
    "text = removeStopWords(text)\n",
    "text"
   ]
  },
  {
   "cell_type": "markdown",
   "id": "b6586a74",
   "metadata": {},
   "source": [
    "## Stemming/Lemmatization of comments."
   ]
  },
  {
   "cell_type": "code",
   "execution_count": 15,
   "id": "9d2e263a",
   "metadata": {},
   "outputs": [],
   "source": [
    "stemmer = PorterStemmer()"
   ]
  },
  {
   "cell_type": "code",
   "execution_count": 16,
   "id": "6a270712",
   "metadata": {},
   "outputs": [],
   "source": [
    "def wordStemmer(text):\n",
    "    words = []\n",
    "    for word in text.split():\n",
    "        word = stemmer.stem(word)\n",
    "        words.append(word)\n",
    "    text = ' '.join(words)\n",
    "    return text"
   ]
  },
  {
   "cell_type": "code",
   "execution_count": 17,
   "id": "33653cd2",
   "metadata": {},
   "outputs": [
    {
     "data": {
      "text/plain": [
       "'one review mention watch 1 oz episod youll hook right exactli happen meth first thing struck oz brutal unflinch scene violenc set right word go trust show faint heart timid show pull punch regard drug sex violenc hardcor classic use wordit call oz nicknam given oswald maximum secur state penitentari focus mainli emerald citi experiment section prison cell glass front face inward privaci high agenda em citi home manyaryan muslim gangsta latino christian italian irish moreso scuffl death stare dodgi deal shadi agreement never far awayi would say main appeal show due fact goe show wouldnt dare forget pretti pictur paint mainstream audienc forget charm forget romanceoz doesnt mess around first episod ever saw struck nasti surreal couldnt say readi watch develop tast oz got accustom high level graphic violenc violenc injustic crook guard wholl sold nickel inmat wholl kill order get away well manner middl class inmat turn prison bitch due lack street skill prison experi watch oz may becom comfort uncomfort viewingthat get touch darker side'"
      ]
     },
     "execution_count": 17,
     "metadata": {},
     "output_type": "execute_result"
    }
   ],
   "source": [
    "text = wordStemmer(text)\n",
    "text"
   ]
  },
  {
   "cell_type": "markdown",
   "id": "1260d88c",
   "metadata": {},
   "source": [
    "## Combining every pre-process applied on comment."
   ]
  },
  {
   "cell_type": "code",
   "execution_count": 18,
   "id": "551ff1f5",
   "metadata": {},
   "outputs": [],
   "source": [
    "def dataPreProcessing(text):\n",
    "    text = str(text)\n",
    "    text = BeautifulSoup(text, 'lxml').text\n",
    "    text = re.sub(r'[^\\w\\s]', '', text)\n",
    "    words = []\n",
    "    for word in text.split():\n",
    "        if word.lower() not in lst_stopwords:\n",
    "            word = stemmer.stem(word)\n",
    "            words.append(word)\n",
    "    text = ' '.join(words)\n",
    "    text.strip()\n",
    "    return text"
   ]
  },
  {
   "cell_type": "code",
   "execution_count": 19,
   "id": "76238c8a",
   "metadata": {},
   "outputs": [
    {
     "name": "stdout",
     "output_type": "stream",
     "text": [
      "one review mention watch 1 oz episod youll hook right exactli happen meth first thing struck oz brutal unflinch scene violenc set right word go trust show faint heart timid show pull punch regard drug sex violenc hardcor classic use wordit call oz nicknam given oswald maximum secur state penitentari focus mainli emerald citi experiment section prison cell glass front face inward privaci high agenda em citi home manyaryan muslim gangsta latino christian italian irish moreso scuffl death stare dodgi deal shadi agreement never far awayi would say main appeal show due fact goe show wouldnt dare forget pretti pictur paint mainstream audienc forget charm forget romanceoz doesnt mess around first episod ever saw struck nasti surreal couldnt say readi watch develop tast oz got accustom high level graphic violenc violenc injustic crook guard wholl sold nickel inmat wholl kill order get away well manner middl class inmat turn prison bitch due lack street skill prison experi watch oz may becom comfort uncomfort viewingthat get touch darker side\n",
      "\n",
      "\n",
      "short film inspir soontob full length featur spatula mad hilari piec contend similar cartoon yield multipl writer short film star edward spatula fire job join fight evil spoon premis allow funni content near begin bare present remaind featur film 15minut run time absorb oddbal comedi small music number unfortun much els lie plot set doesnt realli time show sure follow plot better mani highbudget hollywood film film worth watch least time take dont expect deep stori\n"
     ]
    }
   ],
   "source": [
    "print(dataPreProcessing(df['review'][0]))\n",
    "print(\"\\n\")\n",
    "print(dataPreProcessing(df['review'][100]))"
   ]
  },
  {
   "cell_type": "code",
   "execution_count": 20,
   "id": "b4344324",
   "metadata": {},
   "outputs": [
    {
     "data": {
      "text/html": [
       "<div>\n",
       "<style scoped>\n",
       "    .dataframe tbody tr th:only-of-type {\n",
       "        vertical-align: middle;\n",
       "    }\n",
       "\n",
       "    .dataframe tbody tr th {\n",
       "        vertical-align: top;\n",
       "    }\n",
       "\n",
       "    .dataframe thead th {\n",
       "        text-align: right;\n",
       "    }\n",
       "</style>\n",
       "<table border=\"1\" class=\"dataframe\">\n",
       "  <thead>\n",
       "    <tr style=\"text-align: right;\">\n",
       "      <th></th>\n",
       "      <th>review</th>\n",
       "      <th>sentiment</th>\n",
       "    </tr>\n",
       "  </thead>\n",
       "  <tbody>\n",
       "    <tr>\n",
       "      <th>0</th>\n",
       "      <td>One of the other reviewers has mentioned that ...</td>\n",
       "      <td>positive</td>\n",
       "    </tr>\n",
       "    <tr>\n",
       "      <th>1</th>\n",
       "      <td>A wonderful little production. &lt;br /&gt;&lt;br /&gt;The...</td>\n",
       "      <td>positive</td>\n",
       "    </tr>\n",
       "    <tr>\n",
       "      <th>2</th>\n",
       "      <td>I thought this was a wonderful way to spend ti...</td>\n",
       "      <td>positive</td>\n",
       "    </tr>\n",
       "    <tr>\n",
       "      <th>3</th>\n",
       "      <td>Basically there's a family where a little boy ...</td>\n",
       "      <td>negative</td>\n",
       "    </tr>\n",
       "    <tr>\n",
       "      <th>4</th>\n",
       "      <td>Petter Mattei's \"Love in the Time of Money\" is...</td>\n",
       "      <td>positive</td>\n",
       "    </tr>\n",
       "  </tbody>\n",
       "</table>\n",
       "</div>"
      ],
      "text/plain": [
       "                                              review sentiment\n",
       "0  One of the other reviewers has mentioned that ...  positive\n",
       "1  A wonderful little production. <br /><br />The...  positive\n",
       "2  I thought this was a wonderful way to spend ti...  positive\n",
       "3  Basically there's a family where a little boy ...  negative\n",
       "4  Petter Mattei's \"Love in the Time of Money\" is...  positive"
      ]
     },
     "execution_count": 20,
     "metadata": {},
     "output_type": "execute_result"
    }
   ],
   "source": [
    "df.head()"
   ]
  },
  {
   "cell_type": "markdown",
   "id": "48ce9c01",
   "metadata": {},
   "source": [
    "# Splitting the entire Dataset into 2 parts for training and testing purpose"
   ]
  },
  {
   "cell_type": "code",
   "execution_count": 21,
   "id": "f4bcce41",
   "metadata": {},
   "outputs": [
    {
     "data": {
      "text/plain": [
       "pandas.core.frame.DataFrame"
      ]
     },
     "execution_count": 21,
     "metadata": {},
     "output_type": "execute_result"
    }
   ],
   "source": [
    "type(df)"
   ]
  },
  {
   "cell_type": "code",
   "execution_count": 22,
   "id": "56e18fdb",
   "metadata": {},
   "outputs": [],
   "source": [
    "X_train, X_test, y_train, y_test = train_test_split(df, df.sentiment, test_size=0.2, random_state=42, stratify=df.sentiment)"
   ]
  },
  {
   "cell_type": "code",
   "execution_count": 23,
   "id": "c7614ad0",
   "metadata": {},
   "outputs": [
    {
     "data": {
      "text/plain": [
       "array([1, 0, 0, ..., 0, 0, 0])"
      ]
     },
     "execution_count": 23,
     "metadata": {},
     "output_type": "execute_result"
    }
   ],
   "source": [
    "le = LabelEncoder()\n",
    "y_train = le.fit_transform(y_train)\n",
    "y_train"
   ]
  },
  {
   "cell_type": "code",
   "execution_count": 24,
   "id": "cc295229",
   "metadata": {},
   "outputs": [
    {
     "data": {
      "text/plain": [
       "array([0, 0, 1, ..., 0, 1, 0])"
      ]
     },
     "execution_count": 24,
     "metadata": {},
     "output_type": "execute_result"
    }
   ],
   "source": [
    "le1 = LabelEncoder()\n",
    "y_test = le1.fit_transform(y_test)\n",
    "y_test"
   ]
  },
  {
   "cell_type": "code",
   "execution_count": 25,
   "id": "06211faa",
   "metadata": {},
   "outputs": [
    {
     "name": "stdout",
     "output_type": "stream",
     "text": [
      "Shape of Training Dataset:  (40000, 2) (40000,)\n",
      "Shape of Testing Dataset:  (10000, 2) (10000,)\n"
     ]
    }
   ],
   "source": [
    "print(\"Shape of Training Dataset: \", X_train.shape, y_train.shape)\n",
    "print(\"Shape of Testing Dataset: \", X_test.shape, y_test.shape)"
   ]
  },
  {
   "cell_type": "code",
   "execution_count": 26,
   "id": "eeb5bbb8",
   "metadata": {},
   "outputs": [
    {
     "data": {
      "text/html": [
       "<div>\n",
       "<style scoped>\n",
       "    .dataframe tbody tr th:only-of-type {\n",
       "        vertical-align: middle;\n",
       "    }\n",
       "\n",
       "    .dataframe tbody tr th {\n",
       "        vertical-align: top;\n",
       "    }\n",
       "\n",
       "    .dataframe thead th {\n",
       "        text-align: right;\n",
       "    }\n",
       "</style>\n",
       "<table border=\"1\" class=\"dataframe\">\n",
       "  <thead>\n",
       "    <tr style=\"text-align: right;\">\n",
       "      <th></th>\n",
       "      <th>review</th>\n",
       "      <th>sentiment</th>\n",
       "    </tr>\n",
       "  </thead>\n",
       "  <tbody>\n",
       "    <tr>\n",
       "      <th>47808</th>\n",
       "      <td>I caught this little gem totally by accident b...</td>\n",
       "      <td>positive</td>\n",
       "    </tr>\n",
       "    <tr>\n",
       "      <th>20154</th>\n",
       "      <td>I can't believe that I let myself into this mo...</td>\n",
       "      <td>negative</td>\n",
       "    </tr>\n",
       "    <tr>\n",
       "      <th>43069</th>\n",
       "      <td>*spoiler alert!* it just gets to me the nerve ...</td>\n",
       "      <td>negative</td>\n",
       "    </tr>\n",
       "    <tr>\n",
       "      <th>19413</th>\n",
       "      <td>If there's one thing I've learnt from watching...</td>\n",
       "      <td>negative</td>\n",
       "    </tr>\n",
       "    <tr>\n",
       "      <th>13673</th>\n",
       "      <td>I remember when this was in theaters, reviews ...</td>\n",
       "      <td>negative</td>\n",
       "    </tr>\n",
       "  </tbody>\n",
       "</table>\n",
       "</div>"
      ],
      "text/plain": [
       "                                                  review sentiment\n",
       "47808  I caught this little gem totally by accident b...  positive\n",
       "20154  I can't believe that I let myself into this mo...  negative\n",
       "43069  *spoiler alert!* it just gets to me the nerve ...  negative\n",
       "19413  If there's one thing I've learnt from watching...  negative\n",
       "13673  I remember when this was in theaters, reviews ...  negative"
      ]
     },
     "execution_count": 26,
     "metadata": {},
     "output_type": "execute_result"
    }
   ],
   "source": [
    "X_train.head()"
   ]
  },
  {
   "cell_type": "markdown",
   "id": "002b4cbc",
   "metadata": {},
   "source": [
    "# Now Pre-Processing the Training Data and Test Data"
   ]
  },
  {
   "cell_type": "code",
   "execution_count": 27,
   "id": "59d0c620",
   "metadata": {},
   "outputs": [
    {
     "data": {
      "text/plain": [
       "pandas.core.frame.DataFrame"
      ]
     },
     "execution_count": 27,
     "metadata": {},
     "output_type": "execute_result"
    }
   ],
   "source": [
    "type(X_train)"
   ]
  },
  {
   "cell_type": "code",
   "execution_count": 28,
   "id": "0ac7e7d4",
   "metadata": {},
   "outputs": [
    {
     "data": {
      "text/html": [
       "<div>\n",
       "<style scoped>\n",
       "    .dataframe tbody tr th:only-of-type {\n",
       "        vertical-align: middle;\n",
       "    }\n",
       "\n",
       "    .dataframe tbody tr th {\n",
       "        vertical-align: top;\n",
       "    }\n",
       "\n",
       "    .dataframe thead th {\n",
       "        text-align: right;\n",
       "    }\n",
       "</style>\n",
       "<table border=\"1\" class=\"dataframe\">\n",
       "  <thead>\n",
       "    <tr style=\"text-align: right;\">\n",
       "      <th></th>\n",
       "      <th>review</th>\n",
       "      <th>sentiment</th>\n",
       "    </tr>\n",
       "  </thead>\n",
       "  <tbody>\n",
       "    <tr>\n",
       "      <th>0</th>\n",
       "      <td>I caught this little gem totally by accident b...</td>\n",
       "      <td>positive</td>\n",
       "    </tr>\n",
       "    <tr>\n",
       "      <th>1</th>\n",
       "      <td>I can't believe that I let myself into this mo...</td>\n",
       "      <td>negative</td>\n",
       "    </tr>\n",
       "    <tr>\n",
       "      <th>2</th>\n",
       "      <td>*spoiler alert!* it just gets to me the nerve ...</td>\n",
       "      <td>negative</td>\n",
       "    </tr>\n",
       "    <tr>\n",
       "      <th>3</th>\n",
       "      <td>If there's one thing I've learnt from watching...</td>\n",
       "      <td>negative</td>\n",
       "    </tr>\n",
       "    <tr>\n",
       "      <th>4</th>\n",
       "      <td>I remember when this was in theaters, reviews ...</td>\n",
       "      <td>negative</td>\n",
       "    </tr>\n",
       "  </tbody>\n",
       "</table>\n",
       "</div>"
      ],
      "text/plain": [
       "                                              review sentiment\n",
       "0  I caught this little gem totally by accident b...  positive\n",
       "1  I can't believe that I let myself into this mo...  negative\n",
       "2  *spoiler alert!* it just gets to me the nerve ...  negative\n",
       "3  If there's one thing I've learnt from watching...  negative\n",
       "4  I remember when this was in theaters, reviews ...  negative"
      ]
     },
     "execution_count": 28,
     "metadata": {},
     "output_type": "execute_result"
    }
   ],
   "source": [
    "X_train = X_train.reset_index(drop=True)\n",
    "X_train.head()"
   ]
  },
  {
   "cell_type": "code",
   "execution_count": 29,
   "id": "3d59d2e6",
   "metadata": {},
   "outputs": [
    {
     "data": {
      "text/plain": [
       "'caught littl gem total accid back 1980 81 reviv theatr see two old silli scifi movi theatr pack full warn show bunch scifi short spoof get us mood somewhat amus came within second audienc hyster biggest laugh came show princess laia huge cinnamon bun instead hair head look camera give grim smile nod made even funnier gotta see chewabacca play look like muppet extrem silli stupidbut couldnt stop laugh dialogu drown laughter also know star war pretti well even funnierthey deliber poke fun dialogu realli work audienc definit 10'"
      ]
     },
     "execution_count": 29,
     "metadata": {},
     "output_type": "execute_result"
    }
   ],
   "source": [
    "text = dataPreProcessing(X_train['review'][0])\n",
    "text"
   ]
  },
  {
   "cell_type": "code",
   "execution_count": 30,
   "id": "2cd3f49c",
   "metadata": {},
   "outputs": [
    {
     "name": "stdout",
     "output_type": "stream",
     "text": [
      "CPU times: total: 1min 53s\n",
      "Wall time: 1min 53s\n"
     ]
    }
   ],
   "source": [
    "%%time\n",
    "X_train['pre_processed_data'] = X_train['review'].apply(dataPreProcessing)"
   ]
  },
  {
   "cell_type": "code",
   "execution_count": 31,
   "id": "831f827a",
   "metadata": {},
   "outputs": [
    {
     "data": {
      "text/plain": [
       "pandas.core.frame.DataFrame"
      ]
     },
     "execution_count": 31,
     "metadata": {},
     "output_type": "execute_result"
    }
   ],
   "source": [
    "type(X_test)"
   ]
  },
  {
   "cell_type": "code",
   "execution_count": 32,
   "id": "9ab8cb35",
   "metadata": {},
   "outputs": [
    {
     "data": {
      "text/html": [
       "<div>\n",
       "<style scoped>\n",
       "    .dataframe tbody tr th:only-of-type {\n",
       "        vertical-align: middle;\n",
       "    }\n",
       "\n",
       "    .dataframe tbody tr th {\n",
       "        vertical-align: top;\n",
       "    }\n",
       "\n",
       "    .dataframe thead th {\n",
       "        text-align: right;\n",
       "    }\n",
       "</style>\n",
       "<table border=\"1\" class=\"dataframe\">\n",
       "  <thead>\n",
       "    <tr style=\"text-align: right;\">\n",
       "      <th></th>\n",
       "      <th>review</th>\n",
       "      <th>sentiment</th>\n",
       "    </tr>\n",
       "  </thead>\n",
       "  <tbody>\n",
       "    <tr>\n",
       "      <th>0</th>\n",
       "      <td>Yes, MTV there really is a way to market Daria...</td>\n",
       "      <td>negative</td>\n",
       "    </tr>\n",
       "    <tr>\n",
       "      <th>1</th>\n",
       "      <td>The story of the bride fair is an amusing and ...</td>\n",
       "      <td>negative</td>\n",
       "    </tr>\n",
       "    <tr>\n",
       "      <th>2</th>\n",
       "      <td>A team varied between Scully and Mulder, two o...</td>\n",
       "      <td>positive</td>\n",
       "    </tr>\n",
       "    <tr>\n",
       "      <th>3</th>\n",
       "      <td>This was a popular movie probably because of t...</td>\n",
       "      <td>negative</td>\n",
       "    </tr>\n",
       "    <tr>\n",
       "      <th>4</th>\n",
       "      <td>This movie made me so angry!! Here I am thinki...</td>\n",
       "      <td>negative</td>\n",
       "    </tr>\n",
       "  </tbody>\n",
       "</table>\n",
       "</div>"
      ],
      "text/plain": [
       "                                              review sentiment\n",
       "0  Yes, MTV there really is a way to market Daria...  negative\n",
       "1  The story of the bride fair is an amusing and ...  negative\n",
       "2  A team varied between Scully and Mulder, two o...  positive\n",
       "3  This was a popular movie probably because of t...  negative\n",
       "4  This movie made me so angry!! Here I am thinki...  negative"
      ]
     },
     "execution_count": 32,
     "metadata": {},
     "output_type": "execute_result"
    }
   ],
   "source": [
    "X_test = X_test.reset_index(drop=True)\n",
    "X_test.head()"
   ]
  },
  {
   "cell_type": "code",
   "execution_count": 33,
   "id": "ab3c6caa",
   "metadata": {},
   "outputs": [
    {
     "data": {
      "text/plain": [
       "'ye mtv realli way market daria start clever teenag angstcom everyth suck make viewer feel better sucki teenag life sitcom mutat deal problemscharad use watch daria time love sit watch call movi wonder point daria tell us lead life colleg excus didnt point daria made everi episod like ok long ok matter rest sick sad world think entir thing remind scene realiti bite movi channel show documentri first time'"
      ]
     },
     "execution_count": 33,
     "metadata": {},
     "output_type": "execute_result"
    }
   ],
   "source": [
    "text = dataPreProcessing(X_test['review'][0])\n",
    "text"
   ]
  },
  {
   "cell_type": "code",
   "execution_count": 34,
   "id": "763aa807",
   "metadata": {},
   "outputs": [
    {
     "name": "stdout",
     "output_type": "stream",
     "text": [
      "CPU times: total: 28.3 s\n",
      "Wall time: 28.3 s\n"
     ]
    }
   ],
   "source": [
    "%%time\n",
    "X_test['pre_processed_data'] = X_test['review'].apply(dataPreProcessing)"
   ]
  },
  {
   "cell_type": "code",
   "execution_count": 35,
   "id": "0baf06b1",
   "metadata": {},
   "outputs": [
    {
     "data": {
      "text/html": [
       "<div>\n",
       "<style scoped>\n",
       "    .dataframe tbody tr th:only-of-type {\n",
       "        vertical-align: middle;\n",
       "    }\n",
       "\n",
       "    .dataframe tbody tr th {\n",
       "        vertical-align: top;\n",
       "    }\n",
       "\n",
       "    .dataframe thead th {\n",
       "        text-align: right;\n",
       "    }\n",
       "</style>\n",
       "<table border=\"1\" class=\"dataframe\">\n",
       "  <thead>\n",
       "    <tr style=\"text-align: right;\">\n",
       "      <th></th>\n",
       "      <th>review</th>\n",
       "      <th>sentiment</th>\n",
       "      <th>pre_processed_data</th>\n",
       "    </tr>\n",
       "  </thead>\n",
       "  <tbody>\n",
       "    <tr>\n",
       "      <th>0</th>\n",
       "      <td>Yes, MTV there really is a way to market Daria...</td>\n",
       "      <td>negative</td>\n",
       "      <td>ye mtv realli way market daria start clever te...</td>\n",
       "    </tr>\n",
       "    <tr>\n",
       "      <th>1</th>\n",
       "      <td>The story of the bride fair is an amusing and ...</td>\n",
       "      <td>negative</td>\n",
       "      <td>stori bride fair amus engag one filmmak credit...</td>\n",
       "    </tr>\n",
       "    <tr>\n",
       "      <th>2</th>\n",
       "      <td>A team varied between Scully and Mulder, two o...</td>\n",
       "      <td>positive</td>\n",
       "      <td>team vari sculli mulder two scientist pilot gu...</td>\n",
       "    </tr>\n",
       "    <tr>\n",
       "      <th>3</th>\n",
       "      <td>This was a popular movie probably because of t...</td>\n",
       "      <td>negative</td>\n",
       "      <td>popular movi probabl humor fastmov stori under...</td>\n",
       "    </tr>\n",
       "    <tr>\n",
       "      <th>4</th>\n",
       "      <td>This movie made me so angry!! Here I am thinki...</td>\n",
       "      <td>negative</td>\n",
       "      <td>movi made angri think here new horror movi one...</td>\n",
       "    </tr>\n",
       "  </tbody>\n",
       "</table>\n",
       "</div>"
      ],
      "text/plain": [
       "                                              review sentiment  \\\n",
       "0  Yes, MTV there really is a way to market Daria...  negative   \n",
       "1  The story of the bride fair is an amusing and ...  negative   \n",
       "2  A team varied between Scully and Mulder, two o...  positive   \n",
       "3  This was a popular movie probably because of t...  negative   \n",
       "4  This movie made me so angry!! Here I am thinki...  negative   \n",
       "\n",
       "                                  pre_processed_data  \n",
       "0  ye mtv realli way market daria start clever te...  \n",
       "1  stori bride fair amus engag one filmmak credit...  \n",
       "2  team vari sculli mulder two scientist pilot gu...  \n",
       "3  popular movi probabl humor fastmov stori under...  \n",
       "4  movi made angri think here new horror movi one...  "
      ]
     },
     "execution_count": 35,
     "metadata": {},
     "output_type": "execute_result"
    }
   ],
   "source": [
    "X_test.head()"
   ]
  },
  {
   "cell_type": "markdown",
   "id": "52b38604",
   "metadata": {},
   "source": [
    "# Vectorizing the Reviews"
   ]
  },
  {
   "cell_type": "code",
   "execution_count": 36,
   "id": "5704ead9",
   "metadata": {},
   "outputs": [
    {
     "data": {
      "text/plain": [
       "pandas.core.frame.DataFrame"
      ]
     },
     "execution_count": 36,
     "metadata": {},
     "output_type": "execute_result"
    }
   ],
   "source": [
    "type(X_train)"
   ]
  },
  {
   "cell_type": "code",
   "execution_count": 37,
   "id": "81cb56c7",
   "metadata": {},
   "outputs": [],
   "source": [
    "cvec = CountVectorizer()"
   ]
  },
  {
   "cell_type": "code",
   "execution_count": 38,
   "id": "a2f1dd75",
   "metadata": {},
   "outputs": [],
   "source": [
    "vec = cvec.fit(X_train['pre_processed_data'])\n",
    "train_x_bow = vec.transform(X_train['pre_processed_data'])\n",
    "test_x_bow = vec.transform(X_test['pre_processed_data'])"
   ]
  },
  {
   "cell_type": "code",
   "execution_count": 39,
   "id": "65c817ee",
   "metadata": {},
   "outputs": [
    {
     "name": "stdout",
     "output_type": "stream",
     "text": [
      "(40000, 156021)\n",
      "(10000, 156021)\n"
     ]
    }
   ],
   "source": [
    "print(train_x_bow.shape)\n",
    "print(test_x_bow.shape)"
   ]
  },
  {
   "cell_type": "markdown",
   "id": "2b8fd173",
   "metadata": {},
   "source": [
    "# Hyper-Parameter Tuning "
   ]
  },
  {
   "cell_type": "code",
   "execution_count": 40,
   "id": "d60728c5",
   "metadata": {},
   "outputs": [],
   "source": [
    "classifier = MultinomialNB()"
   ]
  },
  {
   "cell_type": "code",
   "execution_count": 41,
   "id": "4e511fd7",
   "metadata": {},
   "outputs": [
    {
     "data": {
      "text/plain": [
       "GridSearchCV(cv=3, estimator=MultinomialNB(),\n",
       "             param_grid={'alpha': [0.01, 0.1, 1, 10, 100]},\n",
       "             return_train_score=True, scoring='accuracy')"
      ]
     },
     "execution_count": 41,
     "metadata": {},
     "output_type": "execute_result"
    }
   ],
   "source": [
    "range_alpha = {\"alpha\":[10**-2, 10**-1, 10**0, 10**1, 10**2]}\n",
    "grid_search = GridSearchCV(classifier, param_grid=range_alpha, scoring=\"accuracy\", cv=3, return_train_score=True)\n",
    "grid_search.fit(train_x_bow, y_train)"
   ]
  },
  {
   "cell_type": "code",
   "execution_count": 42,
   "id": "f02f4f84",
   "metadata": {},
   "outputs": [],
   "source": [
    "alpha = [10**-2, 10**-1, 10**0, 10**1, 10**2]\n",
    "train_acc = grid_search.cv_results_['mean_train_score']\n",
    "train_std = grid_search.cv_results_['std_train_score']\n",
    "test_acc = grid_search.cv_results_['mean_test_score']\n",
    "test_std = grid_search.cv_results_['std_test_score']"
   ]
  },
  {
   "cell_type": "code",
   "execution_count": 43,
   "id": "8ff4ce91",
   "metadata": {},
   "outputs": [
    {
     "data": {
      "image/png": "[encoded data removed]",
      "text/plain": [
       "<Figure size 432x288 with 1 Axes>"
      ]
     },
     "metadata": {
      "needs_background": "light"
     },
     "output_type": "display_data"
    }
   ],
   "source": [
    "plt.plot(alpha, train_acc, label = \"Training Score\", color = 'b')\n",
    "plt.plot(alpha, test_acc, label = \"Cross Validation Score\", color = 'r')\n",
    "plt.title(\"Validation Curve with Naive Bayes Classifier\")\n",
    "plt.xlabel(\"Alpha\")\n",
    "plt.ylabel(\"Accuracy\")\n",
    "plt.tight_layout()\n",
    "plt.legend(loc = 'best')\n",
    "plt.show()"
   ]
  },
  {
   "cell_type": "code",
   "execution_count": 44,
   "id": "b05b56fe",
   "metadata": {},
   "outputs": [
    {
     "data": {
      "text/plain": [
       "MultinomialNB(alpha=1)"
      ]
     },
     "execution_count": 44,
     "metadata": {},
     "output_type": "execute_result"
    }
   ],
   "source": [
    "grid_search.best_estimator_"
   ]
  },
  {
   "cell_type": "markdown",
   "id": "c82e0892",
   "metadata": {},
   "source": [
    "# Training the Model and Predicting the results"
   ]
  },
  {
   "cell_type": "code",
   "execution_count": 45,
   "id": "fc73269f",
   "metadata": {},
   "outputs": [
    {
     "data": {
      "text/plain": [
       "MultinomialNB(alpha=1)"
      ]
     },
     "execution_count": 45,
     "metadata": {},
     "output_type": "execute_result"
    }
   ],
   "source": [
    "classifier = MultinomialNB(alpha=1)\n",
    "classifier.fit(train_x_bow, y_train)"
   ]
  },
  {
   "cell_type": "code",
   "execution_count": 46,
   "id": "1e157d1b",
   "metadata": {},
   "outputs": [],
   "source": [
    "predict = classifier.predict(test_x_bow)"
   ]
  },
  {
   "cell_type": "code",
   "execution_count": 47,
   "id": "a855e373",
   "metadata": {},
   "outputs": [
    {
     "name": "stdout",
     "output_type": "stream",
     "text": [
      "Accuracy:  0.8535\n"
     ]
    }
   ],
   "source": [
    "print(\"Accuracy: \", accuracy_score(y_test, predict))"
   ]
  },
  {
   "cell_type": "code",
   "execution_count": 48,
   "id": "5dc30a21",
   "metadata": {},
   "outputs": [
    {
     "name": "stdout",
     "output_type": "stream",
     "text": [
      "              precision    recall  f1-score   support\n",
      "\n",
      "           0       0.84      0.87      0.86      5000\n",
      "           1       0.86      0.84      0.85      5000\n",
      "\n",
      "    accuracy                           0.85     10000\n",
      "   macro avg       0.85      0.85      0.85     10000\n",
      "weighted avg       0.85      0.85      0.85     10000\n",
      "\n"
     ]
    }
   ],
   "source": [
    "print(classification_report(y_test, predict))"
   ]
  },
  {
   "cell_type": "markdown",
   "id": "57a79aea",
   "metadata": {},
   "source": [
    "# Finally checking for any text"
   ]
  },
  {
   "cell_type": "code",
   "execution_count": 49,
   "id": "090ae0e8",
   "metadata": {},
   "outputs": [],
   "source": [
    "def predictor(text):\n",
    "    text = dataPreProcessing(text)\n",
    "    text = [text]\n",
    "    text_vec = cvec.transform(text)\n",
    "    res = le.inverse_transform(classifier.predict(text_vec))[0]\n",
    "    return res"
   ]
  },
  {
   "cell_type": "code",
   "execution_count": 50,
   "id": "ad19dedb",
   "metadata": {},
   "outputs": [
    {
     "data": {
      "text/plain": [
       "'positive'"
      ]
     },
     "execution_count": 50,
     "metadata": {},
     "output_type": "execute_result"
    }
   ],
   "source": [
    "text = \"The movie was awesome and my favorite dialogue was 'Hello, Peter !'.\"\n",
    "prediction = predictor(text)\n",
    "prediction"
   ]
  },
  {
   "cell_type": "code",
   "execution_count": 51,
   "id": "f90f5c46",
   "metadata": {},
   "outputs": [
    {
     "data": {
      "text/plain": [
       "'negative'"
      ]
     },
     "execution_count": 51,
     "metadata": {},
     "output_type": "execute_result"
    }
   ],
   "source": [
    "text = \"Worst movie, can't even connect with the plot. More like 'Plot-Hole'\"\n",
    "prediction = predictor(text)\n",
    "prediction"
   ]
  },
  {
   "cell_type": "markdown",
   "id": "2d00dbd7",
   "metadata": {},
   "source": [
    "# Using the ML Model on actual dataset"
   ]
  },
  {
   "cell_type": "code",
   "execution_count": 52,
   "id": "e7a2b3c7",
   "metadata": {},
   "outputs": [],
   "source": [
    "low_memory = False"
   ]
  },
  {
   "cell_type": "code",
   "execution_count": 53,
   "id": "28183dcb",
   "metadata": {},
   "outputs": [
    {
     "data": {
      "text/html": [
       "<div>\n",
       "<style scoped>\n",
       "    .dataframe tbody tr th:only-of-type {\n",
       "        vertical-align: middle;\n",
       "    }\n",
       "\n",
       "    .dataframe tbody tr th {\n",
       "        vertical-align: top;\n",
       "    }\n",
       "\n",
       "    .dataframe thead th {\n",
       "        text-align: right;\n",
       "    }\n",
       "</style>\n",
       "<table border=\"1\" class=\"dataframe\">\n",
       "  <thead>\n",
       "    <tr style=\"text-align: right;\">\n",
       "      <th></th>\n",
       "      <th>Movie ID</th>\n",
       "      <th>Comment Title</th>\n",
       "      <th>Comment Writer</th>\n",
       "      <th>Comment Date</th>\n",
       "      <th>Comment</th>\n",
       "      <th>Unnamed: 5</th>\n",
       "      <th>Unnamed: 6</th>\n",
       "      <th>Unnamed: 7</th>\n",
       "      <th>Unnamed: 8</th>\n",
       "      <th>Unnamed: 9</th>\n",
       "      <th>...</th>\n",
       "      <th>Unnamed: 11</th>\n",
       "      <th>Unnamed: 12</th>\n",
       "      <th>Unnamed: 13</th>\n",
       "      <th>Unnamed: 14</th>\n",
       "      <th>Unnamed: 15</th>\n",
       "      <th>Unnamed: 16</th>\n",
       "      <th>Unnamed: 17</th>\n",
       "      <th>Unnamed: 18</th>\n",
       "      <th>Unnamed: 19</th>\n",
       "      <th>Unnamed: 20</th>\n",
       "    </tr>\n",
       "  </thead>\n",
       "  <tbody>\n",
       "    <tr>\n",
       "      <th>0</th>\n",
       "      <td>tt1375666</td>\n",
       "      <td>Is it possible the makers understand how incre...</td>\n",
       "      <td>srcooper-756-646671</td>\n",
       "      <td>22-Dec-20</td>\n",
       "      <td>You only get to watch this for the first time ...</td>\n",
       "      <td>NaN</td>\n",
       "      <td>NaN</td>\n",
       "      <td>NaN</td>\n",
       "      <td>NaN</td>\n",
       "      <td>NaN</td>\n",
       "      <td>...</td>\n",
       "      <td>NaN</td>\n",
       "      <td>NaN</td>\n",
       "      <td>NaN</td>\n",
       "      <td>NaN</td>\n",
       "      <td>NaN</td>\n",
       "      <td>NaN</td>\n",
       "      <td>NaN</td>\n",
       "      <td>NaN</td>\n",
       "      <td>NaN</td>\n",
       "      <td>NaN</td>\n",
       "    </tr>\n",
       "    <tr>\n",
       "      <th>1</th>\n",
       "      <td>tt1375666</td>\n",
       "      <td>Inception was only less shocking to me than th...</td>\n",
       "      <td>mrmocun</td>\n",
       "      <td>09-Aug-21</td>\n",
       "      <td>When you wake up from a good dream, you feel t...</td>\n",
       "      <td>NaN</td>\n",
       "      <td>NaN</td>\n",
       "      <td>NaN</td>\n",
       "      <td>NaN</td>\n",
       "      <td>NaN</td>\n",
       "      <td>...</td>\n",
       "      <td>NaN</td>\n",
       "      <td>NaN</td>\n",
       "      <td>NaN</td>\n",
       "      <td>NaN</td>\n",
       "      <td>NaN</td>\n",
       "      <td>NaN</td>\n",
       "      <td>NaN</td>\n",
       "      <td>NaN</td>\n",
       "      <td>NaN</td>\n",
       "      <td>NaN</td>\n",
       "    </tr>\n",
       "    <tr>\n",
       "      <th>2</th>\n",
       "      <td>tt1375666</td>\n",
       "      <td>Perfect for Sci-Fi Fans</td>\n",
       "      <td>mollyshelhamer</td>\n",
       "      <td>18-Nov-21</td>\n",
       "      <td>Christopher Nolan's \"Inception\" (2010) is a co...</td>\n",
       "      <td>NaN</td>\n",
       "      <td>NaN</td>\n",
       "      <td>NaN</td>\n",
       "      <td>NaN</td>\n",
       "      <td>NaN</td>\n",
       "      <td>...</td>\n",
       "      <td>NaN</td>\n",
       "      <td>NaN</td>\n",
       "      <td>NaN</td>\n",
       "      <td>NaN</td>\n",
       "      <td>NaN</td>\n",
       "      <td>NaN</td>\n",
       "      <td>NaN</td>\n",
       "      <td>NaN</td>\n",
       "      <td>NaN</td>\n",
       "      <td>NaN</td>\n",
       "    </tr>\n",
       "    <tr>\n",
       "      <th>3</th>\n",
       "      <td>tt4154796</td>\n",
       "      <td>So much potential lost ....</td>\n",
       "      <td>CriticalThinking2</td>\n",
       "      <td>30-Apr-19</td>\n",
       "      <td>After Infinity War I had huge expectations. Un...</td>\n",
       "      <td>NaN</td>\n",
       "      <td>NaN</td>\n",
       "      <td>NaN</td>\n",
       "      <td>NaN</td>\n",
       "      <td>NaN</td>\n",
       "      <td>...</td>\n",
       "      <td>NaN</td>\n",
       "      <td>NaN</td>\n",
       "      <td>NaN</td>\n",
       "      <td>NaN</td>\n",
       "      <td>NaN</td>\n",
       "      <td>NaN</td>\n",
       "      <td>NaN</td>\n",
       "      <td>NaN</td>\n",
       "      <td>NaN</td>\n",
       "      <td>NaN</td>\n",
       "    </tr>\n",
       "    <tr>\n",
       "      <th>4</th>\n",
       "      <td>tt4154796</td>\n",
       "      <td>Worst Marvel Yet!!</td>\n",
       "      <td>s_bowler</td>\n",
       "      <td>04-May-19</td>\n",
       "      <td>Honestly felt like a completely different film...</td>\n",
       "      <td>NaN</td>\n",
       "      <td>NaN</td>\n",
       "      <td>NaN</td>\n",
       "      <td>NaN</td>\n",
       "      <td>NaN</td>\n",
       "      <td>...</td>\n",
       "      <td>NaN</td>\n",
       "      <td>NaN</td>\n",
       "      <td>NaN</td>\n",
       "      <td>NaN</td>\n",
       "      <td>NaN</td>\n",
       "      <td>NaN</td>\n",
       "      <td>NaN</td>\n",
       "      <td>NaN</td>\n",
       "      <td>NaN</td>\n",
       "      <td>NaN</td>\n",
       "    </tr>\n",
       "  </tbody>\n",
       "</table>\n",
       "<p>5 rows × 21 columns</p>\n",
       "</div>"
      ],
      "text/plain": [
       "    Movie ID                                      Comment Title  \\\n",
       "0  tt1375666  Is it possible the makers understand how incre...   \n",
       "1  tt1375666  Inception was only less shocking to me than th...   \n",
       "2  tt1375666                            Perfect for Sci-Fi Fans   \n",
       "3  tt4154796                        So much potential lost ....   \n",
       "4  tt4154796                                 Worst Marvel Yet!!   \n",
       "\n",
       "        Comment Writer Comment Date  \\\n",
       "0  srcooper-756-646671    22-Dec-20   \n",
       "1              mrmocun    09-Aug-21   \n",
       "2       mollyshelhamer    18-Nov-21   \n",
       "3    CriticalThinking2    30-Apr-19   \n",
       "4             s_bowler    04-May-19   \n",
       "\n",
       "                                             Comment Unnamed: 5 Unnamed: 6  \\\n",
       "0  You only get to watch this for the first time ...        NaN        NaN   \n",
       "1  When you wake up from a good dream, you feel t...        NaN        NaN   \n",
       "2  Christopher Nolan's \"Inception\" (2010) is a co...        NaN        NaN   \n",
       "3  After Infinity War I had huge expectations. Un...        NaN        NaN   \n",
       "4  Honestly felt like a completely different film...        NaN        NaN   \n",
       "\n",
       "  Unnamed: 7 Unnamed: 8 Unnamed: 9  ... Unnamed: 11 Unnamed: 12 Unnamed: 13  \\\n",
       "0        NaN        NaN        NaN  ...         NaN         NaN         NaN   \n",
       "1        NaN        NaN        NaN  ...         NaN         NaN         NaN   \n",
       "2        NaN        NaN        NaN  ...         NaN         NaN         NaN   \n",
       "3        NaN        NaN        NaN  ...         NaN         NaN         NaN   \n",
       "4        NaN        NaN        NaN  ...         NaN         NaN         NaN   \n",
       "\n",
       "  Unnamed: 14 Unnamed: 15 Unnamed: 16 Unnamed: 17 Unnamed: 18 Unnamed: 19  \\\n",
       "0         NaN         NaN         NaN         NaN         NaN         NaN   \n",
       "1         NaN         NaN         NaN         NaN         NaN         NaN   \n",
       "2         NaN         NaN         NaN         NaN         NaN         NaN   \n",
       "3         NaN         NaN         NaN         NaN         NaN         NaN   \n",
       "4         NaN         NaN         NaN         NaN         NaN         NaN   \n",
       "\n",
       "  Unnamed: 20  \n",
       "0         NaN  \n",
       "1         NaN  \n",
       "2         NaN  \n",
       "3         NaN  \n",
       "4         NaN  \n",
       "\n",
       "[5 rows x 21 columns]"
      ]
     },
     "execution_count": 53,
     "metadata": {},
     "output_type": "execute_result"
    }
   ],
   "source": [
    "actual_df = pd.read_csv('IMDBMovieDatasetComments.csv')\n",
    "actual_df.head()"
   ]
  },
  {
   "cell_type": "code",
   "execution_count": 54,
   "id": "23fd36c9",
   "metadata": {},
   "outputs": [],
   "source": [
    "actual_df = actual_df[['Movie ID', 'Comment Title', 'Comment Writer', 'Comment Date', 'Comment']]"
   ]
  },
  {
   "cell_type": "code",
   "execution_count": 55,
   "id": "94ed78ef",
   "metadata": {},
   "outputs": [
    {
     "data": {
      "text/html": [
       "<div>\n",
       "<style scoped>\n",
       "    .dataframe tbody tr th:only-of-type {\n",
       "        vertical-align: middle;\n",
       "    }\n",
       "\n",
       "    .dataframe tbody tr th {\n",
       "        vertical-align: top;\n",
       "    }\n",
       "\n",
       "    .dataframe thead th {\n",
       "        text-align: right;\n",
       "    }\n",
       "</style>\n",
       "<table border=\"1\" class=\"dataframe\">\n",
       "  <thead>\n",
       "    <tr style=\"text-align: right;\">\n",
       "      <th></th>\n",
       "      <th>Movie ID</th>\n",
       "      <th>Comment Title</th>\n",
       "      <th>Comment Writer</th>\n",
       "      <th>Comment Date</th>\n",
       "      <th>Comment</th>\n",
       "    </tr>\n",
       "  </thead>\n",
       "  <tbody>\n",
       "    <tr>\n",
       "      <th>0</th>\n",
       "      <td>tt1375666</td>\n",
       "      <td>Is it possible the makers understand how incre...</td>\n",
       "      <td>srcooper-756-646671</td>\n",
       "      <td>22-Dec-20</td>\n",
       "      <td>You only get to watch this for the first time ...</td>\n",
       "    </tr>\n",
       "    <tr>\n",
       "      <th>1</th>\n",
       "      <td>tt1375666</td>\n",
       "      <td>Inception was only less shocking to me than th...</td>\n",
       "      <td>mrmocun</td>\n",
       "      <td>09-Aug-21</td>\n",
       "      <td>When you wake up from a good dream, you feel t...</td>\n",
       "    </tr>\n",
       "    <tr>\n",
       "      <th>2</th>\n",
       "      <td>tt1375666</td>\n",
       "      <td>Perfect for Sci-Fi Fans</td>\n",
       "      <td>mollyshelhamer</td>\n",
       "      <td>18-Nov-21</td>\n",
       "      <td>Christopher Nolan's \"Inception\" (2010) is a co...</td>\n",
       "    </tr>\n",
       "    <tr>\n",
       "      <th>3</th>\n",
       "      <td>tt4154796</td>\n",
       "      <td>So much potential lost ....</td>\n",
       "      <td>CriticalThinking2</td>\n",
       "      <td>30-Apr-19</td>\n",
       "      <td>After Infinity War I had huge expectations. Un...</td>\n",
       "    </tr>\n",
       "    <tr>\n",
       "      <th>4</th>\n",
       "      <td>tt4154796</td>\n",
       "      <td>Worst Marvel Yet!!</td>\n",
       "      <td>s_bowler</td>\n",
       "      <td>04-May-19</td>\n",
       "      <td>Honestly felt like a completely different film...</td>\n",
       "    </tr>\n",
       "  </tbody>\n",
       "</table>\n",
       "</div>"
      ],
      "text/plain": [
       "    Movie ID                                      Comment Title  \\\n",
       "0  tt1375666  Is it possible the makers understand how incre...   \n",
       "1  tt1375666  Inception was only less shocking to me than th...   \n",
       "2  tt1375666                            Perfect for Sci-Fi Fans   \n",
       "3  tt4154796                        So much potential lost ....   \n",
       "4  tt4154796                                 Worst Marvel Yet!!   \n",
       "\n",
       "        Comment Writer Comment Date  \\\n",
       "0  srcooper-756-646671    22-Dec-20   \n",
       "1              mrmocun    09-Aug-21   \n",
       "2       mollyshelhamer    18-Nov-21   \n",
       "3    CriticalThinking2    30-Apr-19   \n",
       "4             s_bowler    04-May-19   \n",
       "\n",
       "                                             Comment  \n",
       "0  You only get to watch this for the first time ...  \n",
       "1  When you wake up from a good dream, you feel t...  \n",
       "2  Christopher Nolan's \"Inception\" (2010) is a co...  \n",
       "3  After Infinity War I had huge expectations. Un...  \n",
       "4  Honestly felt like a completely different film...  "
      ]
     },
     "execution_count": 55,
     "metadata": {},
     "output_type": "execute_result"
    }
   ],
   "source": [
    "actual_df.head()"
   ]
  },
  {
   "cell_type": "code",
   "execution_count": 56,
   "id": "3e266b21",
   "metadata": {},
   "outputs": [
    {
     "data": {
      "text/plain": [
       "'get watch first time choos state mind care film movi dream realiti sort life best find leav cinema return whatev left enter spectacular brutal enigmat disturb beauti absorb one favourit charact ever grace screen dont see often case good like rememb secret lock away safe basement somewher perfect world us perhap cinema watch'"
      ]
     },
     "execution_count": 56,
     "metadata": {},
     "output_type": "execute_result"
    }
   ],
   "source": [
    "text = dataPreProcessing(actual_df['Comment'][0])\n",
    "text"
   ]
  },
  {
   "cell_type": "code",
   "execution_count": 57,
   "id": "6292e1dd",
   "metadata": {},
   "outputs": [
    {
     "data": {
      "text/plain": [
       "'positive'"
      ]
     },
     "execution_count": 57,
     "metadata": {},
     "output_type": "execute_result"
    }
   ],
   "source": [
    "prediction = predictor(text)\n",
    "prediction"
   ]
  },
  {
   "cell_type": "code",
   "execution_count": 58,
   "id": "08bfb1a7",
   "metadata": {},
   "outputs": [
    {
     "data": {
      "text/plain": [
       "'infin war huge expect unfortun think doesnt follow comic book want kind closur stori saw lot 10 star review cannot believ major peopl like movi infin war im say wasnt entertain watch feel hero forc fit movi pay big price stori moment movi rule marvel movi broken charact build hour screen time reduc order make space other stori averag best big flaw'"
      ]
     },
     "execution_count": 58,
     "metadata": {},
     "output_type": "execute_result"
    }
   ],
   "source": [
    "text = dataPreProcessing(actual_df['Comment'][3])\n",
    "text"
   ]
  },
  {
   "cell_type": "code",
   "execution_count": 59,
   "id": "cfbe4116",
   "metadata": {},
   "outputs": [
    {
     "data": {
      "text/plain": [
       "'negative'"
      ]
     },
     "execution_count": 59,
     "metadata": {},
     "output_type": "execute_result"
    }
   ],
   "source": [
    "prediction = predictor(text)\n",
    "prediction"
   ]
  },
  {
   "cell_type": "code",
   "execution_count": 60,
   "id": "df7ec172",
   "metadata": {},
   "outputs": [
    {
     "name": "stdout",
     "output_type": "stream",
     "text": [
      "CPU times: total: 6min 7s\n",
      "Wall time: 6min 11s\n"
     ]
    }
   ],
   "source": [
    "%%time\n",
    "actual_df['Sentiment'] = actual_df['Comment'].apply(predictor)"
   ]
  },
  {
   "cell_type": "code",
   "execution_count": 61,
   "id": "2a63bce3",
   "metadata": {},
   "outputs": [
    {
     "data": {
      "text/html": [
       "<div>\n",
       "<style scoped>\n",
       "    .dataframe tbody tr th:only-of-type {\n",
       "        vertical-align: middle;\n",
       "    }\n",
       "\n",
       "    .dataframe tbody tr th {\n",
       "        vertical-align: top;\n",
       "    }\n",
       "\n",
       "    .dataframe thead th {\n",
       "        text-align: right;\n",
       "    }\n",
       "</style>\n",
       "<table border=\"1\" class=\"dataframe\">\n",
       "  <thead>\n",
       "    <tr style=\"text-align: right;\">\n",
       "      <th></th>\n",
       "      <th>Movie ID</th>\n",
       "      <th>Comment Title</th>\n",
       "      <th>Comment Writer</th>\n",
       "      <th>Comment Date</th>\n",
       "      <th>Comment</th>\n",
       "      <th>Sentiment</th>\n",
       "    </tr>\n",
       "  </thead>\n",
       "  <tbody>\n",
       "    <tr>\n",
       "      <th>0</th>\n",
       "      <td>tt1375666</td>\n",
       "      <td>Is it possible the makers understand how incre...</td>\n",
       "      <td>srcooper-756-646671</td>\n",
       "      <td>22-Dec-20</td>\n",
       "      <td>You only get to watch this for the first time ...</td>\n",
       "      <td>positive</td>\n",
       "    </tr>\n",
       "    <tr>\n",
       "      <th>1</th>\n",
       "      <td>tt1375666</td>\n",
       "      <td>Inception was only less shocking to me than th...</td>\n",
       "      <td>mrmocun</td>\n",
       "      <td>09-Aug-21</td>\n",
       "      <td>When you wake up from a good dream, you feel t...</td>\n",
       "      <td>positive</td>\n",
       "    </tr>\n",
       "    <tr>\n",
       "      <th>2</th>\n",
       "      <td>tt1375666</td>\n",
       "      <td>Perfect for Sci-Fi Fans</td>\n",
       "      <td>mollyshelhamer</td>\n",
       "      <td>18-Nov-21</td>\n",
       "      <td>Christopher Nolan's \"Inception\" (2010) is a co...</td>\n",
       "      <td>positive</td>\n",
       "    </tr>\n",
       "    <tr>\n",
       "      <th>3</th>\n",
       "      <td>tt4154796</td>\n",
       "      <td>So much potential lost ....</td>\n",
       "      <td>CriticalThinking2</td>\n",
       "      <td>30-Apr-19</td>\n",
       "      <td>After Infinity War I had huge expectations. Un...</td>\n",
       "      <td>negative</td>\n",
       "    </tr>\n",
       "    <tr>\n",
       "      <th>4</th>\n",
       "      <td>tt4154796</td>\n",
       "      <td>Worst Marvel Yet!!</td>\n",
       "      <td>s_bowler</td>\n",
       "      <td>04-May-19</td>\n",
       "      <td>Honestly felt like a completely different film...</td>\n",
       "      <td>positive</td>\n",
       "    </tr>\n",
       "  </tbody>\n",
       "</table>\n",
       "</div>"
      ],
      "text/plain": [
       "    Movie ID                                      Comment Title  \\\n",
       "0  tt1375666  Is it possible the makers understand how incre...   \n",
       "1  tt1375666  Inception was only less shocking to me than th...   \n",
       "2  tt1375666                            Perfect for Sci-Fi Fans   \n",
       "3  tt4154796                        So much potential lost ....   \n",
       "4  tt4154796                                 Worst Marvel Yet!!   \n",
       "\n",
       "        Comment Writer Comment Date  \\\n",
       "0  srcooper-756-646671    22-Dec-20   \n",
       "1              mrmocun    09-Aug-21   \n",
       "2       mollyshelhamer    18-Nov-21   \n",
       "3    CriticalThinking2    30-Apr-19   \n",
       "4             s_bowler    04-May-19   \n",
       "\n",
       "                                             Comment Sentiment  \n",
       "0  You only get to watch this for the first time ...  positive  \n",
       "1  When you wake up from a good dream, you feel t...  positive  \n",
       "2  Christopher Nolan's \"Inception\" (2010) is a co...  positive  \n",
       "3  After Infinity War I had huge expectations. Un...  negative  \n",
       "4  Honestly felt like a completely different film...  positive  "
      ]
     },
     "execution_count": 61,
     "metadata": {},
     "output_type": "execute_result"
    }
   ],
   "source": [
    "actual_df.head()"
   ]
  },
  {
   "cell_type": "markdown",
   "id": "9ab06a3d",
   "metadata": {},
   "source": [
    "## Further modifying the sentiments of Comments based on their title"
   ]
  },
  {
   "cell_type": "code",
   "execution_count": 62,
   "id": "4eca9457",
   "metadata": {},
   "outputs": [
    {
     "data": {
      "text/plain": [
       "'Worst Marvel Yet!! Honestly felt like a completely different film from Avengers Infinity War. In fact the film had such a different tone from all the Marvel films before.The characters changed, the story line was poor. Incredibly disappointing end to phase three'"
      ]
     },
     "execution_count": 62,
     "metadata": {},
     "output_type": "execute_result"
    }
   ],
   "source": [
    "text = actual_df['Comment Title'][4] + \" \" +actual_df['Comment'][4] \n",
    "text"
   ]
  },
  {
   "cell_type": "code",
   "execution_count": 63,
   "id": "fd3c1f80",
   "metadata": {},
   "outputs": [
    {
     "data": {
      "text/plain": [
       "'negative'"
      ]
     },
     "execution_count": 63,
     "metadata": {},
     "output_type": "execute_result"
    }
   ],
   "source": [
    "prediction = predictor(text)\n",
    "prediction"
   ]
  },
  {
   "cell_type": "code",
   "execution_count": 64,
   "id": "e3cb728b",
   "metadata": {},
   "outputs": [],
   "source": [
    "actual_df['TitleComment'] = actual_df['Comment Title'] + \" \" + actual_df['Comment']"
   ]
  },
  {
   "cell_type": "code",
   "execution_count": 65,
   "id": "63278870",
   "metadata": {},
   "outputs": [
    {
     "data": {
      "text/html": [
       "<div>\n",
       "<style scoped>\n",
       "    .dataframe tbody tr th:only-of-type {\n",
       "        vertical-align: middle;\n",
       "    }\n",
       "\n",
       "    .dataframe tbody tr th {\n",
       "        vertical-align: top;\n",
       "    }\n",
       "\n",
       "    .dataframe thead th {\n",
       "        text-align: right;\n",
       "    }\n",
       "</style>\n",
       "<table border=\"1\" class=\"dataframe\">\n",
       "  <thead>\n",
       "    <tr style=\"text-align: right;\">\n",
       "      <th></th>\n",
       "      <th>Movie ID</th>\n",
       "      <th>Comment Title</th>\n",
       "      <th>Comment Writer</th>\n",
       "      <th>Comment Date</th>\n",
       "      <th>Comment</th>\n",
       "      <th>Sentiment</th>\n",
       "      <th>TitleComment</th>\n",
       "    </tr>\n",
       "  </thead>\n",
       "  <tbody>\n",
       "    <tr>\n",
       "      <th>0</th>\n",
       "      <td>tt1375666</td>\n",
       "      <td>Is it possible the makers understand how incre...</td>\n",
       "      <td>srcooper-756-646671</td>\n",
       "      <td>22-Dec-20</td>\n",
       "      <td>You only get to watch this for the first time ...</td>\n",
       "      <td>positive</td>\n",
       "      <td>Is it possible the makers understand how incre...</td>\n",
       "    </tr>\n",
       "    <tr>\n",
       "      <th>1</th>\n",
       "      <td>tt1375666</td>\n",
       "      <td>Inception was only less shocking to me than th...</td>\n",
       "      <td>mrmocun</td>\n",
       "      <td>09-Aug-21</td>\n",
       "      <td>When you wake up from a good dream, you feel t...</td>\n",
       "      <td>positive</td>\n",
       "      <td>Inception was only less shocking to me than th...</td>\n",
       "    </tr>\n",
       "    <tr>\n",
       "      <th>2</th>\n",
       "      <td>tt1375666</td>\n",
       "      <td>Perfect for Sci-Fi Fans</td>\n",
       "      <td>mollyshelhamer</td>\n",
       "      <td>18-Nov-21</td>\n",
       "      <td>Christopher Nolan's \"Inception\" (2010) is a co...</td>\n",
       "      <td>positive</td>\n",
       "      <td>Perfect for Sci-Fi Fans Christopher Nolan's \"I...</td>\n",
       "    </tr>\n",
       "    <tr>\n",
       "      <th>3</th>\n",
       "      <td>tt4154796</td>\n",
       "      <td>So much potential lost ....</td>\n",
       "      <td>CriticalThinking2</td>\n",
       "      <td>30-Apr-19</td>\n",
       "      <td>After Infinity War I had huge expectations. Un...</td>\n",
       "      <td>negative</td>\n",
       "      <td>So much potential lost .... After Infinity War...</td>\n",
       "    </tr>\n",
       "    <tr>\n",
       "      <th>4</th>\n",
       "      <td>tt4154796</td>\n",
       "      <td>Worst Marvel Yet!!</td>\n",
       "      <td>s_bowler</td>\n",
       "      <td>04-May-19</td>\n",
       "      <td>Honestly felt like a completely different film...</td>\n",
       "      <td>positive</td>\n",
       "      <td>Worst Marvel Yet!! Honestly felt like a comple...</td>\n",
       "    </tr>\n",
       "  </tbody>\n",
       "</table>\n",
       "</div>"
      ],
      "text/plain": [
       "    Movie ID                                      Comment Title  \\\n",
       "0  tt1375666  Is it possible the makers understand how incre...   \n",
       "1  tt1375666  Inception was only less shocking to me than th...   \n",
       "2  tt1375666                            Perfect for Sci-Fi Fans   \n",
       "3  tt4154796                        So much potential lost ....   \n",
       "4  tt4154796                                 Worst Marvel Yet!!   \n",
       "\n",
       "        Comment Writer Comment Date  \\\n",
       "0  srcooper-756-646671    22-Dec-20   \n",
       "1              mrmocun    09-Aug-21   \n",
       "2       mollyshelhamer    18-Nov-21   \n",
       "3    CriticalThinking2    30-Apr-19   \n",
       "4             s_bowler    04-May-19   \n",
       "\n",
       "                                             Comment Sentiment  \\\n",
       "0  You only get to watch this for the first time ...  positive   \n",
       "1  When you wake up from a good dream, you feel t...  positive   \n",
       "2  Christopher Nolan's \"Inception\" (2010) is a co...  positive   \n",
       "3  After Infinity War I had huge expectations. Un...  negative   \n",
       "4  Honestly felt like a completely different film...  positive   \n",
       "\n",
       "                                        TitleComment  \n",
       "0  Is it possible the makers understand how incre...  \n",
       "1  Inception was only less shocking to me than th...  \n",
       "2  Perfect for Sci-Fi Fans Christopher Nolan's \"I...  \n",
       "3  So much potential lost .... After Infinity War...  \n",
       "4  Worst Marvel Yet!! Honestly felt like a comple...  "
      ]
     },
     "execution_count": 65,
     "metadata": {},
     "output_type": "execute_result"
    }
   ],
   "source": [
    "actual_df.head()"
   ]
  },
  {
   "cell_type": "code",
   "execution_count": 66,
   "id": "61f9a416",
   "metadata": {},
   "outputs": [
    {
     "data": {
      "text/plain": [
       "'Worst Marvel Yet!! Honestly felt like a completely different film from Avengers Infinity War. In fact the film had such a different tone from all the Marvel films before.The characters changed, the story line was poor. Incredibly disappointing end to phase three'"
      ]
     },
     "execution_count": 66,
     "metadata": {},
     "output_type": "execute_result"
    }
   ],
   "source": [
    "text = actual_df['TitleComment'][4]\n",
    "text"
   ]
  },
  {
   "cell_type": "code",
   "execution_count": 67,
   "id": "a07dd860",
   "metadata": {},
   "outputs": [
    {
     "data": {
      "text/plain": [
       "'negative'"
      ]
     },
     "execution_count": 67,
     "metadata": {},
     "output_type": "execute_result"
    }
   ],
   "source": [
    "prediction = predictor(text)\n",
    "prediction"
   ]
  },
  {
   "cell_type": "code",
   "execution_count": 68,
   "id": "794cb677",
   "metadata": {},
   "outputs": [
    {
     "name": "stdout",
     "output_type": "stream",
     "text": [
      "CPU times: total: 6min 6s\n",
      "Wall time: 6min 9s\n"
     ]
    }
   ],
   "source": [
    "%%time\n",
    "actual_df['Sentiment'] = actual_df['TitleComment'].apply(predictor)"
   ]
  },
  {
   "cell_type": "code",
   "execution_count": 69,
   "id": "40fe2654",
   "metadata": {},
   "outputs": [
    {
     "data": {
      "text/html": [
       "<div>\n",
       "<style scoped>\n",
       "    .dataframe tbody tr th:only-of-type {\n",
       "        vertical-align: middle;\n",
       "    }\n",
       "\n",
       "    .dataframe tbody tr th {\n",
       "        vertical-align: top;\n",
       "    }\n",
       "\n",
       "    .dataframe thead th {\n",
       "        text-align: right;\n",
       "    }\n",
       "</style>\n",
       "<table border=\"1\" class=\"dataframe\">\n",
       "  <thead>\n",
       "    <tr style=\"text-align: right;\">\n",
       "      <th></th>\n",
       "      <th>Movie ID</th>\n",
       "      <th>Comment Title</th>\n",
       "      <th>Comment Writer</th>\n",
       "      <th>Comment Date</th>\n",
       "      <th>Comment</th>\n",
       "      <th>Sentiment</th>\n",
       "      <th>TitleComment</th>\n",
       "    </tr>\n",
       "  </thead>\n",
       "  <tbody>\n",
       "    <tr>\n",
       "      <th>0</th>\n",
       "      <td>tt1375666</td>\n",
       "      <td>Is it possible the makers understand how incre...</td>\n",
       "      <td>srcooper-756-646671</td>\n",
       "      <td>22-Dec-20</td>\n",
       "      <td>You only get to watch this for the first time ...</td>\n",
       "      <td>positive</td>\n",
       "      <td>Is it possible the makers understand how incre...</td>\n",
       "    </tr>\n",
       "    <tr>\n",
       "      <th>1</th>\n",
       "      <td>tt1375666</td>\n",
       "      <td>Inception was only less shocking to me than th...</td>\n",
       "      <td>mrmocun</td>\n",
       "      <td>09-Aug-21</td>\n",
       "      <td>When you wake up from a good dream, you feel t...</td>\n",
       "      <td>positive</td>\n",
       "      <td>Inception was only less shocking to me than th...</td>\n",
       "    </tr>\n",
       "    <tr>\n",
       "      <th>2</th>\n",
       "      <td>tt1375666</td>\n",
       "      <td>Perfect for Sci-Fi Fans</td>\n",
       "      <td>mollyshelhamer</td>\n",
       "      <td>18-Nov-21</td>\n",
       "      <td>Christopher Nolan's \"Inception\" (2010) is a co...</td>\n",
       "      <td>positive</td>\n",
       "      <td>Perfect for Sci-Fi Fans Christopher Nolan's \"I...</td>\n",
       "    </tr>\n",
       "    <tr>\n",
       "      <th>3</th>\n",
       "      <td>tt4154796</td>\n",
       "      <td>So much potential lost ....</td>\n",
       "      <td>CriticalThinking2</td>\n",
       "      <td>30-Apr-19</td>\n",
       "      <td>After Infinity War I had huge expectations. Un...</td>\n",
       "      <td>negative</td>\n",
       "      <td>So much potential lost .... After Infinity War...</td>\n",
       "    </tr>\n",
       "    <tr>\n",
       "      <th>4</th>\n",
       "      <td>tt4154796</td>\n",
       "      <td>Worst Marvel Yet!!</td>\n",
       "      <td>s_bowler</td>\n",
       "      <td>04-May-19</td>\n",
       "      <td>Honestly felt like a completely different film...</td>\n",
       "      <td>negative</td>\n",
       "      <td>Worst Marvel Yet!! Honestly felt like a comple...</td>\n",
       "    </tr>\n",
       "  </tbody>\n",
       "</table>\n",
       "</div>"
      ],
      "text/plain": [
       "    Movie ID                                      Comment Title  \\\n",
       "0  tt1375666  Is it possible the makers understand how incre...   \n",
       "1  tt1375666  Inception was only less shocking to me than th...   \n",
       "2  tt1375666                            Perfect for Sci-Fi Fans   \n",
       "3  tt4154796                        So much potential lost ....   \n",
       "4  tt4154796                                 Worst Marvel Yet!!   \n",
       "\n",
       "        Comment Writer Comment Date  \\\n",
       "0  srcooper-756-646671    22-Dec-20   \n",
       "1              mrmocun    09-Aug-21   \n",
       "2       mollyshelhamer    18-Nov-21   \n",
       "3    CriticalThinking2    30-Apr-19   \n",
       "4             s_bowler    04-May-19   \n",
       "\n",
       "                                             Comment Sentiment  \\\n",
       "0  You only get to watch this for the first time ...  positive   \n",
       "1  When you wake up from a good dream, you feel t...  positive   \n",
       "2  Christopher Nolan's \"Inception\" (2010) is a co...  positive   \n",
       "3  After Infinity War I had huge expectations. Un...  negative   \n",
       "4  Honestly felt like a completely different film...  negative   \n",
       "\n",
       "                                        TitleComment  \n",
       "0  Is it possible the makers understand how incre...  \n",
       "1  Inception was only less shocking to me than th...  \n",
       "2  Perfect for Sci-Fi Fans Christopher Nolan's \"I...  \n",
       "3  So much potential lost .... After Infinity War...  \n",
       "4  Worst Marvel Yet!! Honestly felt like a comple...  "
      ]
     },
     "execution_count": 69,
     "metadata": {},
     "output_type": "execute_result"
    }
   ],
   "source": [
    "actual_df.head()"
   ]
  },
  {
   "cell_type": "markdown",
   "id": "1688ee23",
   "metadata": {},
   "source": [
    "## Dropping the irrelevant columns "
   ]
  },
  {
   "cell_type": "code",
   "execution_count": 70,
   "id": "44c52285",
   "metadata": {},
   "outputs": [],
   "source": [
    "actual_df = actual_df.drop(['TitleComment'], axis=1)"
   ]
  },
  {
   "cell_type": "code",
   "execution_count": 71,
   "id": "fdef8c86",
   "metadata": {},
   "outputs": [
    {
     "data": {
      "text/html": [
       "<div>\n",
       "<style scoped>\n",
       "    .dataframe tbody tr th:only-of-type {\n",
       "        vertical-align: middle;\n",
       "    }\n",
       "\n",
       "    .dataframe tbody tr th {\n",
       "        vertical-align: top;\n",
       "    }\n",
       "\n",
       "    .dataframe thead th {\n",
       "        text-align: right;\n",
       "    }\n",
       "</style>\n",
       "<table border=\"1\" class=\"dataframe\">\n",
       "  <thead>\n",
       "    <tr style=\"text-align: right;\">\n",
       "      <th></th>\n",
       "      <th>Movie ID</th>\n",
       "      <th>Comment Title</th>\n",
       "      <th>Comment Writer</th>\n",
       "      <th>Comment Date</th>\n",
       "      <th>Comment</th>\n",
       "      <th>Sentiment</th>\n",
       "    </tr>\n",
       "  </thead>\n",
       "  <tbody>\n",
       "    <tr>\n",
       "      <th>0</th>\n",
       "      <td>tt1375666</td>\n",
       "      <td>Is it possible the makers understand how incre...</td>\n",
       "      <td>srcooper-756-646671</td>\n",
       "      <td>22-Dec-20</td>\n",
       "      <td>You only get to watch this for the first time ...</td>\n",
       "      <td>positive</td>\n",
       "    </tr>\n",
       "    <tr>\n",
       "      <th>1</th>\n",
       "      <td>tt1375666</td>\n",
       "      <td>Inception was only less shocking to me than th...</td>\n",
       "      <td>mrmocun</td>\n",
       "      <td>09-Aug-21</td>\n",
       "      <td>When you wake up from a good dream, you feel t...</td>\n",
       "      <td>positive</td>\n",
       "    </tr>\n",
       "    <tr>\n",
       "      <th>2</th>\n",
       "      <td>tt1375666</td>\n",
       "      <td>Perfect for Sci-Fi Fans</td>\n",
       "      <td>mollyshelhamer</td>\n",
       "      <td>18-Nov-21</td>\n",
       "      <td>Christopher Nolan's \"Inception\" (2010) is a co...</td>\n",
       "      <td>positive</td>\n",
       "    </tr>\n",
       "    <tr>\n",
       "      <th>3</th>\n",
       "      <td>tt4154796</td>\n",
       "      <td>So much potential lost ....</td>\n",
       "      <td>CriticalThinking2</td>\n",
       "      <td>30-Apr-19</td>\n",
       "      <td>After Infinity War I had huge expectations. Un...</td>\n",
       "      <td>negative</td>\n",
       "    </tr>\n",
       "    <tr>\n",
       "      <th>4</th>\n",
       "      <td>tt4154796</td>\n",
       "      <td>Worst Marvel Yet!!</td>\n",
       "      <td>s_bowler</td>\n",
       "      <td>04-May-19</td>\n",
       "      <td>Honestly felt like a completely different film...</td>\n",
       "      <td>negative</td>\n",
       "    </tr>\n",
       "  </tbody>\n",
       "</table>\n",
       "</div>"
      ],
      "text/plain": [
       "    Movie ID                                      Comment Title  \\\n",
       "0  tt1375666  Is it possible the makers understand how incre...   \n",
       "1  tt1375666  Inception was only less shocking to me than th...   \n",
       "2  tt1375666                            Perfect for Sci-Fi Fans   \n",
       "3  tt4154796                        So much potential lost ....   \n",
       "4  tt4154796                                 Worst Marvel Yet!!   \n",
       "\n",
       "        Comment Writer Comment Date  \\\n",
       "0  srcooper-756-646671    22-Dec-20   \n",
       "1              mrmocun    09-Aug-21   \n",
       "2       mollyshelhamer    18-Nov-21   \n",
       "3    CriticalThinking2    30-Apr-19   \n",
       "4             s_bowler    04-May-19   \n",
       "\n",
       "                                             Comment Sentiment  \n",
       "0  You only get to watch this for the first time ...  positive  \n",
       "1  When you wake up from a good dream, you feel t...  positive  \n",
       "2  Christopher Nolan's \"Inception\" (2010) is a co...  positive  \n",
       "3  After Infinity War I had huge expectations. Un...  negative  \n",
       "4  Honestly felt like a completely different film...  negative  "
      ]
     },
     "execution_count": 71,
     "metadata": {},
     "output_type": "execute_result"
    }
   ],
   "source": [
    "actual_df.head()"
   ]
  },
  {
   "cell_type": "markdown",
   "id": "11e02cf3",
   "metadata": {},
   "source": [
    "## Saving the dataframe as CSV File "
   ]
  },
  {
   "cell_type": "code",
   "execution_count": 72,
   "id": "32b0f2a2",
   "metadata": {},
   "outputs": [],
   "source": [
    "actual_df.to_csv('IMDBCommentSentiment.csv', index = False)"
   ]
  },
  {
   "cell_type": "markdown",
   "id": "1a4ccb6b",
   "metadata": {},
   "source": [
    "# Serializing the Module"
   ]
  },
  {
   "cell_type": "code",
   "execution_count": 73,
   "id": "36708cfd",
   "metadata": {},
   "outputs": [],
   "source": [
    "pickle.dump(predictor, open('SentimentDetector.pkl', 'wb'),  fix_imports=True)"
   ]
  },
  {
   "cell_type": "markdown",
   "id": "0e00322e",
   "metadata": {},
   "source": [
    "## Testing the Pickled Module "
   ]
  },
  {
   "cell_type": "code",
   "execution_count": 74,
   "id": "c943abf4",
   "metadata": {},
   "outputs": [],
   "source": [
    "predictor = pickle.load(open('SentimentDetector.pkl', 'rb'))"
   ]
  },
  {
   "cell_type": "code",
   "execution_count": 75,
   "id": "369aabc6",
   "metadata": {},
   "outputs": [
    {
     "data": {
      "text/plain": [
       "'positive'"
      ]
     },
     "execution_count": 75,
     "metadata": {},
     "output_type": "execute_result"
    }
   ],
   "source": [
    "text = \"The movie was awesome and my favorite dialogue was 'Hello, Peter !'.\"\n",
    "prediction = predictor(text)\n",
    "prediction"
   ]
  },
  {
   "cell_type": "code",
   "execution_count": 76,
   "id": "e4596cff",
   "metadata": {},
   "outputs": [
    {
     "data": {
      "text/plain": [
       "'negative'"
      ]
     },
     "execution_count": 76,
     "metadata": {},
     "output_type": "execute_result"
    }
   ],
   "source": [
    "text = \"Worst movie, can't even connect with the plot. More like 'Plot-Hole'\"\n",
    "prediction = predictor(text)\n",
    "prediction"
   ]
  }
 ],
 "metadata": {
  "kernelspec": {
   "display_name": "Python 3 (ipykernel)",
   "language": "python",
   "name": "python3"
  },
  "language_info": {
   "codemirror_mode": {
    "name": "ipython",
    "version": 3
   },
   "file_extension": ".py",
   "mimetype": "text/x-python",
   "name": "python",
   "nbconvert_exporter": "python",
   "pygments_lexer": "ipython3",
   "version": "3.9.12"
  },
  "latex_envs": {
   "LaTeX_envs_menu_present": true,
   "autoclose": false,
   "autocomplete": true,
   "bibliofile": "biblio.bib",
   "cite_by": "apalike",
   "current_citInitial": 1,
   "eqLabelWithNumbers": true,
   "eqNumInitial": 1,
   "hotkeys": {
    "equation": "Ctrl-E",
    "itemize": "Ctrl-I"
   },
   "labels_anchors": false,
   "latex_user_defs": false,
   "report_style_numbering": false,
   "user_envs_cfg": false
  },
  "toc": {
   "base_numbering": 1,
   "nav_menu": {},
   "number_sections": true,
   "sideBar": false,
   "skip_h1_title": false,
   "title_cell": "Table of Contents",
   "title_sidebar": "Contents",
   "toc_cell": false,
   "toc_position": {
    "height": "1008px",
    "left": "36px",
    "top": "184.575px",
    "width": "455.737px"
   },
   "toc_section_display": true,
   "toc_window_display": true
  }
 },
 "nbformat": 4,
 "nbformat_minor": 5
}
